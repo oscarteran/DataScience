{
 "cells": [
  {
   "cell_type": "markdown",
   "id": "fb4d8db7",
   "metadata": {},
   "source": [
    "Este notebook contiene los ejercicios de Numpy aplicado al algebra lineal:\n",
    "\n",
    "        Bootcamp of Data Science with Python [+250 exercises][A-Z]"
   ]
  },
  {
   "cell_type": "code",
   "execution_count": 1,
   "id": "d636e36a",
   "metadata": {},
   "outputs": [],
   "source": [
    "import numpy as np"
   ]
  },
  {
   "cell_type": "code",
   "execution_count": 9,
   "id": "65747095",
   "metadata": {},
   "outputs": [
    {
     "name": "stdout",
     "output_type": "stream",
     "text": [
      "[[ 1  2  3]\n",
      " [ 2  1 -1]]\n",
      "[[ 1 -2  0]\n",
      " [ 3  0  1]\n",
      " [ 4  5  6]]\n",
      "[[1 2 3]\n",
      " [4 5 6]\n",
      " [7 8 9]]\n",
      "[[1]\n",
      " [4]\n",
      " [3]]\n"
     ]
    }
   ],
   "source": [
    "Mat = np.array([[1,2,3],[2,1,-1]])\n",
    "Mat2 = np.array([1,-2,0,3,0,1,4,5,6]).reshape((3,3))\n",
    "Mat3 = np.array(range(1,10)).reshape(3,3)\n",
    "Mat4 = np.array([1,4,3]).reshape(-1,1)\n",
    "print(Mat)\n",
    "print(Mat2)\n",
    "print(Mat3)\n",
    "print(Mat4)"
   ]
  },
  {
   "cell_type": "code",
   "execution_count": 13,
   "id": "4959f762",
   "metadata": {},
   "outputs": [
    {
     "name": "stdout",
     "output_type": "stream",
     "text": [
      "[[1]\n",
      " [2]\n",
      " [3]\n",
      " [4]\n",
      " [5]\n",
      " [6]]\n",
      "[  1   0   3 -10]\n",
      "[1 2 3 4 5]\n"
     ]
    }
   ],
   "source": [
    "print(np.array(range(1,7)).reshape(-1,1))\n",
    "print(np.array([1,0,3,-10]))\n",
    "print(np.array(np.arange(1,6,1)))"
   ]
  },
  {
   "cell_type": "code",
   "execution_count": 21,
   "id": "fde8dd5b",
   "metadata": {},
   "outputs": [
    {
     "name": "stdout",
     "output_type": "stream",
     "text": [
      "[[0 0]\n",
      " [0 0]]\n",
      "[[0 0 0 0 0]\n",
      " [0 0 0 0 0]\n",
      " [0 0 0 0 0]]\n",
      "[[1 1 1 1 1]\n",
      " [1 1 1 1 1]\n",
      " [1 1 1 1 1]\n",
      " [1 1 1 1 1]\n",
      " [1 1 1 1 1]]\n",
      "[[1. 0.]\n",
      " [0. 1.]]\n",
      "[[1. 0. 0.]\n",
      " [0. 1. 0.]\n",
      " [0. 0. 1.]]\n",
      "[[1. 0. 0. 0. 0. 0.]\n",
      " [0. 1. 0. 0. 0. 0.]\n",
      " [0. 0. 1. 0. 0. 0.]\n",
      " [0. 0. 0. 1. 0. 0.]\n",
      " [0. 0. 0. 0. 1. 0.]\n",
      " [0. 0. 0. 0. 0. 1.]]\n"
     ]
    }
   ],
   "source": [
    "print(np.zeros((2,2), dtype = int))\n",
    "print(np.zeros((3,5), dtype = int))\n",
    "print(np.ones((5,5), dtype = int))\n",
    "print(np.eye(2))\n",
    "print(np.eye(3))\n",
    "print(np.eye(6))"
   ]
  },
  {
   "cell_type": "code",
   "execution_count": 28,
   "id": "f2d6ebbd",
   "metadata": {},
   "outputs": [
    {
     "name": "stdout",
     "output_type": "stream",
     "text": [
      "[[1 2 3]\n",
      " [0 5 6]\n",
      " [0 0 9]]\n",
      "[[1 0 0]\n",
      " [4 5 0]\n",
      " [7 8 9]]\n",
      "[[100 101 102 103 104]\n",
      " [  0 106 107 108 109]\n",
      " [  0   0 112 113 114]\n",
      " [  0   0   0 118 119]\n",
      " [  0   0   0   0 124]]\n"
     ]
    }
   ],
   "source": [
    "print(np.triu(np.array(range(1,10)).reshape(3,3)))\n",
    "print(np.tril(np.array(range(1,10)).reshape(3,3)))\n",
    "print(np.triu(np.array(range(100,125)).reshape(5,5)))"
   ]
  },
  {
   "cell_type": "code",
   "execution_count": 39,
   "id": "42c0e6eb",
   "metadata": {},
   "outputs": [
    {
     "name": "stdout",
     "output_type": "stream",
     "text": [
      "[[ 7  0  0]\n",
      " [ 0  1  0]\n",
      " [ 0  0 -1]]\n",
      "[[3 0 0 0]\n",
      " [0 3 0 0]\n",
      " [0 0 3 0]\n",
      " [0 0 0 3]]\n",
      "[[-5  0  0  0  0]\n",
      " [ 0 -4  0  0  0]\n",
      " [ 0  0 -3  0  0]\n",
      " [ 0  0  0 -2  0]\n",
      " [ 0  0  0  0 -1]]\n",
      "[[3. 0. 0. 0.]\n",
      " [0. 3. 0. 0.]\n",
      " [0. 0. 3. 0.]\n",
      " [0. 0. 0. 3.]]\n",
      "[3]\n"
     ]
    }
   ],
   "source": [
    "print(np.diag([7,1,-1]))\n",
    "print(np.diag([3,3,3,3]))\n",
    "print(np.diag(range(-5,0,1)))\n",
    "print(np.diag(np.ones(4)*3))"
   ]
  },
  {
   "cell_type": "code",
   "execution_count": 41,
   "id": "e9256d72",
   "metadata": {},
   "outputs": [
    {
     "name": "stdout",
     "output_type": "stream",
     "text": [
      "[[11 36]\n",
      " [ 8  5]\n",
      " [-2 -6]]\n"
     ]
    }
   ],
   "source": [
    "A = np.array([[10,11],[5,1],[-2,4]])\n",
    "B = np.array([[1,25],[3,4],[0,-10]])\n",
    "print(A+B)"
   ]
  },
  {
   "cell_type": "code",
   "execution_count": 54,
   "id": "3b455825",
   "metadata": {},
   "outputs": [
    {
     "name": "stdout",
     "output_type": "stream",
     "text": [
      "[[ True  True]\n",
      " [ True  True]\n",
      " [ True  True]]\n",
      "[[ True  True]\n",
      " [ True  True]\n",
      " [ True  True]]\n",
      "[[ True  True]\n",
      " [ True  True]\n",
      " [ True  True]]\n"
     ]
    }
   ],
   "source": [
    "A = np.array([[10,11],[5,1],[-2,4]])\n",
    "B = np.array([[1,25],[3,4],[0,-10]])\n",
    "C = np.array([[7,3],[6,1],[0,0]])\n",
    "zero = np.zeros(shape=(3,2))\n",
    "'''\n",
    "if A+B == B+A:\n",
    "    print('La commutatividad es correcta')\n",
    "elif A+(B+C) == (A+B)+C:\n",
    "    print('La asociación es correcta')\n",
    "elif A+0 == A:\n",
    "    print('0 es la matriz nula')\n",
    "'''\n",
    "\n",
    "print(A+B==B+A)\n",
    "print((A+(B+C))==((A+B)+C))\n",
    "print(A+zero==A)"
   ]
  },
  {
   "cell_type": "code",
   "execution_count": null,
   "id": "5a1ff2cd",
   "metadata": {},
   "outputs": [],
   "source": []
  }
 ],
 "metadata": {
  "kernelspec": {
   "display_name": "Python 3 (ipykernel)",
   "language": "python",
   "name": "python3"
  },
  "language_info": {
   "codemirror_mode": {
    "name": "ipython",
    "version": 3
   },
   "file_extension": ".py",
   "mimetype": "text/x-python",
   "name": "python",
   "nbconvert_exporter": "python",
   "pygments_lexer": "ipython3",
   "version": "3.8.8"
  }
 },
 "nbformat": 4,
 "nbformat_minor": 5
}
