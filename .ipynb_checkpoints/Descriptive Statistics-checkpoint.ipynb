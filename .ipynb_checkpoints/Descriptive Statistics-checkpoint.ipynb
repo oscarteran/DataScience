{
 "cells": [
  {
   "cell_type": "markdown",
   "id": "49550637",
   "metadata": {},
   "source": [
    "Este notebook contiene los ejercicios de Pandas:\n",
    "\n",
    "        Bootcamp of Data Science with Python [+250 exercises][A-Z]"
   ]
  },
  {
   "cell_type": "code",
   "execution_count": 1,
   "id": "7c10f3e3",
   "metadata": {},
   "outputs": [],
   "source": [
    "import numpy as np\n",
    "import pandas as pd\n",
    "import seaborn as sns\n",
    "import matplotlib.pyplot as plt"
   ]
  },
  {
   "cell_type": "code",
   "execution_count": 2,
   "id": "ea94dda2",
   "metadata": {},
   "outputs": [
    {
     "data": {
      "text/html": [
       "<div>\n",
       "<style scoped>\n",
       "    .dataframe tbody tr th:only-of-type {\n",
       "        vertical-align: middle;\n",
       "    }\n",
       "\n",
       "    .dataframe tbody tr th {\n",
       "        vertical-align: top;\n",
       "    }\n",
       "\n",
       "    .dataframe thead th {\n",
       "        text-align: right;\n",
       "    }\n",
       "</style>\n",
       "<table border=\"1\" class=\"dataframe\">\n",
       "  <thead>\n",
       "    <tr style=\"text-align: right;\">\n",
       "      <th></th>\n",
       "      <th>Abacate</th>\n",
       "      <th>Açaí</th>\n",
       "      <th>Banana</th>\n",
       "      <th>Cacau</th>\n",
       "      <th>Laranja</th>\n",
       "      <th>Maçã</th>\n",
       "      <th>Mamão</th>\n",
       "      <th>Manga</th>\n",
       "    </tr>\n",
       "  </thead>\n",
       "  <tbody>\n",
       "    <tr>\n",
       "      <th>2017</th>\n",
       "      <td>212873</td>\n",
       "      <td>1335040</td>\n",
       "      <td>6584967</td>\n",
       "      <td>235809</td>\n",
       "      <td>17492882</td>\n",
       "      <td>1307642</td>\n",
       "      <td>1058487</td>\n",
       "      <td>1089882</td>\n",
       "    </tr>\n",
       "    <tr>\n",
       "      <th>2018</th>\n",
       "      <td>236177</td>\n",
       "      <td>1301472</td>\n",
       "      <td>6723590</td>\n",
       "      <td>239318</td>\n",
       "      <td>16841549</td>\n",
       "      <td>1203007</td>\n",
       "      <td>1065421</td>\n",
       "      <td>1320458</td>\n",
       "    </tr>\n",
       "    <tr>\n",
       "      <th>2019</th>\n",
       "      <td>242932</td>\n",
       "      <td>1398328</td>\n",
       "      <td>6812708</td>\n",
       "      <td>259425</td>\n",
       "      <td>17073593</td>\n",
       "      <td>1222970</td>\n",
       "      <td>1161808</td>\n",
       "      <td>1414338</td>\n",
       "    </tr>\n",
       "  </tbody>\n",
       "</table>\n",
       "</div>"
      ],
      "text/plain": [
       "      Abacate     Açaí   Banana   Cacau   Laranja     Maçã    Mamão    Manga\n",
       "2017   212873  1335040  6584967  235809  17492882  1307642  1058487  1089882\n",
       "2018   236177  1301472  6723590  239318  16841549  1203007  1065421  1320458\n",
       "2019   242932  1398328  6812708  259425  17073593  1222970  1161808  1414338"
      ]
     },
     "execution_count": 2,
     "metadata": {},
     "output_type": "execute_result"
    }
   ],
   "source": [
    "dados = {\n",
    "    'Abacate':{\n",
    "        2017: 212873,\n",
    "        2018: 236177,\n",
    "        2019: 242932\n",
    "    },    \n",
    "    'Açaí':{\n",
    "        2017:1335040,\n",
    "        2018:1301472,\n",
    "        2019:1398328\n",
    "    },\n",
    "    'Banana':{\n",
    "        2017:6584967,\n",
    "        2018:6723590,\n",
    "        2019:6812708\n",
    "    },    \n",
    "    'Cacau':{\n",
    "        2017:235809,\n",
    "        2018:239318,\n",
    "        2019:259425\n",
    "    },    \n",
    "    'Laranja':{\n",
    "        2017:17492882,\n",
    "        2018:16841549,\n",
    "        2019:17073593\n",
    "    },    \n",
    "    'Maçã':{\n",
    "        2017:1307642,\n",
    "        2018:1203007,\n",
    "        2019:1222970\n",
    "    },\n",
    "    'Mamão':{\n",
    "        2017:1058487,\n",
    "        2018:1065421,\n",
    "        2019:1161808\n",
    "    },    \n",
    "    'Manga':{\n",
    "        2017:1089882,\n",
    "        2018:1320458,\n",
    "        2019:1414338\n",
    "    },\n",
    " \n",
    "}\n",
    "datos = pd.DataFrame(dados)\n",
    "datos"
   ]
  },
  {
   "cell_type": "code",
   "execution_count": 3,
   "id": "8ff509f9",
   "metadata": {},
   "outputs": [
    {
     "data": {
      "text/plain": [
       "2017    29317582\n",
       "2018    28930992\n",
       "2019    29586102\n",
       "dtype: int64"
      ]
     },
     "execution_count": 3,
     "metadata": {},
     "output_type": "execute_result"
    }
   ],
   "source": [
    "datos.sum(axis=1)"
   ]
  },
  {
   "cell_type": "code",
   "execution_count": 4,
   "id": "ed48a5a6",
   "metadata": {},
   "outputs": [
    {
     "data": {
      "text/plain": [
       "Abacate      691982\n",
       "Açaí        4034840\n",
       "Banana     20121265\n",
       "Cacau        734552\n",
       "Laranja    51408024\n",
       "Maçã        3733619\n",
       "Mamão       3285716\n",
       "Manga       3824678\n",
       "dtype: int64"
      ]
     },
     "execution_count": 4,
     "metadata": {},
     "output_type": "execute_result"
    }
   ],
   "source": [
    "datos.sum(axis=0)"
   ]
  },
  {
   "cell_type": "code",
   "execution_count": 5,
   "id": "299d0e3a",
   "metadata": {},
   "outputs": [
    {
     "data": {
      "text/html": [
       "<div>\n",
       "<style scoped>\n",
       "    .dataframe tbody tr th:only-of-type {\n",
       "        vertical-align: middle;\n",
       "    }\n",
       "\n",
       "    .dataframe tbody tr th {\n",
       "        vertical-align: top;\n",
       "    }\n",
       "\n",
       "    .dataframe thead th {\n",
       "        text-align: right;\n",
       "    }\n",
       "</style>\n",
       "<table border=\"1\" class=\"dataframe\">\n",
       "  <thead>\n",
       "    <tr style=\"text-align: right;\">\n",
       "      <th></th>\n",
       "      <th>Abacate</th>\n",
       "      <th>Açaí</th>\n",
       "      <th>Banana</th>\n",
       "      <th>Cacau</th>\n",
       "      <th>Laranja</th>\n",
       "      <th>Maçã</th>\n",
       "      <th>Mamão</th>\n",
       "      <th>Manga</th>\n",
       "    </tr>\n",
       "  </thead>\n",
       "  <tbody>\n",
       "    <tr>\n",
       "      <th>count</th>\n",
       "      <td>3.000000</td>\n",
       "      <td>3.000000e+00</td>\n",
       "      <td>3.000000e+00</td>\n",
       "      <td>3.000000</td>\n",
       "      <td>3.000000e+00</td>\n",
       "      <td>3.000000e+00</td>\n",
       "      <td>3.000000e+00</td>\n",
       "      <td>3.000000e+00</td>\n",
       "    </tr>\n",
       "    <tr>\n",
       "      <th>mean</th>\n",
       "      <td>230660.666667</td>\n",
       "      <td>1.344947e+06</td>\n",
       "      <td>6.707088e+06</td>\n",
       "      <td>244850.666667</td>\n",
       "      <td>1.713601e+07</td>\n",
       "      <td>1.244540e+06</td>\n",
       "      <td>1.095239e+06</td>\n",
       "      <td>1.274893e+06</td>\n",
       "    </tr>\n",
       "    <tr>\n",
       "      <th>std</th>\n",
       "      <td>15770.488906</td>\n",
       "      <td>4.918209e+04</td>\n",
       "      <td>1.147638e+05</td>\n",
       "      <td>12743.102618</td>\n",
       "      <td>3.301218e+05</td>\n",
       "      <td>5.555231e+04</td>\n",
       "      <td>5.775489e+04</td>\n",
       "      <td>1.669583e+05</td>\n",
       "    </tr>\n",
       "    <tr>\n",
       "      <th>min</th>\n",
       "      <td>212873.000000</td>\n",
       "      <td>1.301472e+06</td>\n",
       "      <td>6.584967e+06</td>\n",
       "      <td>235809.000000</td>\n",
       "      <td>1.684155e+07</td>\n",
       "      <td>1.203007e+06</td>\n",
       "      <td>1.058487e+06</td>\n",
       "      <td>1.089882e+06</td>\n",
       "    </tr>\n",
       "    <tr>\n",
       "      <th>25%</th>\n",
       "      <td>224525.000000</td>\n",
       "      <td>1.318256e+06</td>\n",
       "      <td>6.654278e+06</td>\n",
       "      <td>237563.500000</td>\n",
       "      <td>1.695757e+07</td>\n",
       "      <td>1.212988e+06</td>\n",
       "      <td>1.061954e+06</td>\n",
       "      <td>1.205170e+06</td>\n",
       "    </tr>\n",
       "    <tr>\n",
       "      <th>50%</th>\n",
       "      <td>236177.000000</td>\n",
       "      <td>1.335040e+06</td>\n",
       "      <td>6.723590e+06</td>\n",
       "      <td>239318.000000</td>\n",
       "      <td>1.707359e+07</td>\n",
       "      <td>1.222970e+06</td>\n",
       "      <td>1.065421e+06</td>\n",
       "      <td>1.320458e+06</td>\n",
       "    </tr>\n",
       "    <tr>\n",
       "      <th>75%</th>\n",
       "      <td>239554.500000</td>\n",
       "      <td>1.366684e+06</td>\n",
       "      <td>6.768149e+06</td>\n",
       "      <td>249371.500000</td>\n",
       "      <td>1.728324e+07</td>\n",
       "      <td>1.265306e+06</td>\n",
       "      <td>1.113614e+06</td>\n",
       "      <td>1.367398e+06</td>\n",
       "    </tr>\n",
       "    <tr>\n",
       "      <th>max</th>\n",
       "      <td>242932.000000</td>\n",
       "      <td>1.398328e+06</td>\n",
       "      <td>6.812708e+06</td>\n",
       "      <td>259425.000000</td>\n",
       "      <td>1.749288e+07</td>\n",
       "      <td>1.307642e+06</td>\n",
       "      <td>1.161808e+06</td>\n",
       "      <td>1.414338e+06</td>\n",
       "    </tr>\n",
       "  </tbody>\n",
       "</table>\n",
       "</div>"
      ],
      "text/plain": [
       "             Abacate          Açaí        Banana          Cacau       Laranja  \\\n",
       "count       3.000000  3.000000e+00  3.000000e+00       3.000000  3.000000e+00   \n",
       "mean   230660.666667  1.344947e+06  6.707088e+06  244850.666667  1.713601e+07   \n",
       "std     15770.488906  4.918209e+04  1.147638e+05   12743.102618  3.301218e+05   \n",
       "min    212873.000000  1.301472e+06  6.584967e+06  235809.000000  1.684155e+07   \n",
       "25%    224525.000000  1.318256e+06  6.654278e+06  237563.500000  1.695757e+07   \n",
       "50%    236177.000000  1.335040e+06  6.723590e+06  239318.000000  1.707359e+07   \n",
       "75%    239554.500000  1.366684e+06  6.768149e+06  249371.500000  1.728324e+07   \n",
       "max    242932.000000  1.398328e+06  6.812708e+06  259425.000000  1.749288e+07   \n",
       "\n",
       "               Maçã         Mamão         Manga  \n",
       "count  3.000000e+00  3.000000e+00  3.000000e+00  \n",
       "mean   1.244540e+06  1.095239e+06  1.274893e+06  \n",
       "std    5.555231e+04  5.775489e+04  1.669583e+05  \n",
       "min    1.203007e+06  1.058487e+06  1.089882e+06  \n",
       "25%    1.212988e+06  1.061954e+06  1.205170e+06  \n",
       "50%    1.222970e+06  1.065421e+06  1.320458e+06  \n",
       "75%    1.265306e+06  1.113614e+06  1.367398e+06  \n",
       "max    1.307642e+06  1.161808e+06  1.414338e+06  "
      ]
     },
     "execution_count": 5,
     "metadata": {},
     "output_type": "execute_result"
    }
   ],
   "source": [
    "datos.describe()"
   ]
  },
  {
   "cell_type": "code",
   "execution_count": 6,
   "id": "d1797dd5",
   "metadata": {},
   "outputs": [],
   "source": [
    "datos.to_csv('Braz_Food.csv', index=False, sep= ' ')"
   ]
  },
  {
   "cell_type": "code",
   "execution_count": 7,
   "id": "595f1e08",
   "metadata": {},
   "outputs": [
    {
     "data": {
      "text/plain": [
       "2017    3664697.75\n",
       "2018    3616374.00\n",
       "2019    3698262.75\n",
       "dtype: float64"
      ]
     },
     "execution_count": 7,
     "metadata": {},
     "output_type": "execute_result"
    }
   ],
   "source": [
    "datos.mean(axis=1)"
   ]
  },
  {
   "cell_type": "code",
   "execution_count": 8,
   "id": "d2a2cf3d",
   "metadata": {},
   "outputs": [
    {
     "data": {
      "text/plain": [
       "Abacate    2.306607e+05\n",
       "Açaí       1.344947e+06\n",
       "Banana     6.707088e+06\n",
       "Cacau      2.448507e+05\n",
       "Laranja    1.713601e+07\n",
       "Maçã       1.244540e+06\n",
       "Mamão      1.095239e+06\n",
       "Manga      1.274893e+06\n",
       "dtype: float64"
      ]
     },
     "execution_count": 8,
     "metadata": {},
     "output_type": "execute_result"
    }
   ],
   "source": [
    "datos.mean(axis=0)"
   ]
  },
  {
   "cell_type": "code",
   "execution_count": 9,
   "id": "c6650742",
   "metadata": {},
   "outputs": [
    {
     "data": {
      "text/plain": [
       "2017    5.950079e+06\n",
       "2018    5.736500e+06\n",
       "2019    5.799394e+06\n",
       "dtype: float64"
      ]
     },
     "execution_count": 9,
     "metadata": {},
     "output_type": "execute_result"
    }
   ],
   "source": [
    "datos.std(axis=1)"
   ]
  },
  {
   "cell_type": "code",
   "execution_count": 10,
   "id": "6b6e00ad",
   "metadata": {},
   "outputs": [
    {
     "data": {
      "text/plain": [
       "Abacate     15770.488906\n",
       "Açaí        49182.087363\n",
       "Banana     114763.755264\n",
       "Cacau       12743.102618\n",
       "Laranja    330121.785696\n",
       "Maçã        55552.305950\n",
       "Mamão       57754.888921\n",
       "Manga      166958.299241\n",
       "dtype: float64"
      ]
     },
     "execution_count": 10,
     "metadata": {},
     "output_type": "execute_result"
    }
   ],
   "source": [
    "datos.std(axis=0)"
   ]
  },
  {
   "cell_type": "code",
   "execution_count": 11,
   "id": "0481e9b7",
   "metadata": {},
   "outputs": [
    {
     "data": {
      "text/plain": [
       "Abacate    2.487083e+08\n",
       "Açaí       2.418878e+09\n",
       "Banana     1.317072e+10\n",
       "Cacau      1.623867e+08\n",
       "Laranja    1.089804e+11\n",
       "Maçã       3.086059e+09\n",
       "Mamão      3.335627e+09\n",
       "Manga      2.787507e+10\n",
       "dtype: float64"
      ]
     },
     "execution_count": 11,
     "metadata": {},
     "output_type": "execute_result"
    }
   ],
   "source": [
    "datos.var()"
   ]
  },
  {
   "cell_type": "code",
   "execution_count": 14,
   "id": "45a22a8b",
   "metadata": {},
   "outputs": [
    {
     "data": {
      "text/html": [
       "<div>\n",
       "<style scoped>\n",
       "    .dataframe tbody tr th:only-of-type {\n",
       "        vertical-align: middle;\n",
       "    }\n",
       "\n",
       "    .dataframe tbody tr th {\n",
       "        vertical-align: top;\n",
       "    }\n",
       "\n",
       "    .dataframe thead th {\n",
       "        text-align: right;\n",
       "    }\n",
       "</style>\n",
       "<table border=\"1\" class=\"dataframe\">\n",
       "  <thead>\n",
       "    <tr style=\"text-align: right;\">\n",
       "      <th></th>\n",
       "      <th>Daily Sales</th>\n",
       "    </tr>\n",
       "  </thead>\n",
       "  <tbody>\n",
       "    <tr>\n",
       "      <th>2020-12-01</th>\n",
       "      <td>11.0</td>\n",
       "    </tr>\n",
       "    <tr>\n",
       "      <th>2020-12-02</th>\n",
       "      <td>9.0</td>\n",
       "    </tr>\n",
       "    <tr>\n",
       "      <th>2020-12-03</th>\n",
       "      <td>4.0</td>\n",
       "    </tr>\n",
       "    <tr>\n",
       "      <th>2020-12-04</th>\n",
       "      <td>17.0</td>\n",
       "    </tr>\n",
       "    <tr>\n",
       "      <th>2020-12-05</th>\n",
       "      <td>7.0</td>\n",
       "    </tr>\n",
       "    <tr>\n",
       "      <th>2020-12-06</th>\n",
       "      <td>12.0</td>\n",
       "    </tr>\n",
       "    <tr>\n",
       "      <th>2020-12-07</th>\n",
       "      <td>9.0</td>\n",
       "    </tr>\n",
       "    <tr>\n",
       "      <th>2020-12-08</th>\n",
       "      <td>14.0</td>\n",
       "    </tr>\n",
       "    <tr>\n",
       "      <th>2020-12-09</th>\n",
       "      <td>13.0</td>\n",
       "    </tr>\n",
       "    <tr>\n",
       "      <th>2020-12-10</th>\n",
       "      <td>11.0</td>\n",
       "    </tr>\n",
       "  </tbody>\n",
       "</table>\n",
       "</div>"
      ],
      "text/plain": [
       "            Daily Sales\n",
       "2020-12-01         11.0\n",
       "2020-12-02          9.0\n",
       "2020-12-03          4.0\n",
       "2020-12-04         17.0\n",
       "2020-12-05          7.0\n",
       "2020-12-06         12.0\n",
       "2020-12-07          9.0\n",
       "2020-12-08         14.0\n",
       "2020-12-09         13.0\n",
       "2020-12-10         11.0"
      ]
     },
     "execution_count": 14,
     "metadata": {},
     "output_type": "execute_result"
    }
   ],
   "source": [
    "datos2 = pd.DataFrame(data=np.random.normal(10,3,10).round(), \n",
    "                      columns=['Daily Sales'],\n",
    "                      index=pd.date_range(start='12-1-2020', periods=10, freq='D'))\n",
    "datos2"
   ]
  },
  {
   "cell_type": "code",
   "execution_count": 17,
   "id": "8bc1e220",
   "metadata": {},
   "outputs": [
    {
     "data": {
      "text/html": [
       "<div>\n",
       "<style scoped>\n",
       "    .dataframe tbody tr th:only-of-type {\n",
       "        vertical-align: middle;\n",
       "    }\n",
       "\n",
       "    .dataframe tbody tr th {\n",
       "        vertical-align: top;\n",
       "    }\n",
       "\n",
       "    .dataframe thead th {\n",
       "        text-align: right;\n",
       "    }\n",
       "</style>\n",
       "<table border=\"1\" class=\"dataframe\">\n",
       "  <thead>\n",
       "    <tr style=\"text-align: right;\">\n",
       "      <th></th>\n",
       "      <th>count</th>\n",
       "      <th>mean</th>\n",
       "      <th>std</th>\n",
       "      <th>min</th>\n",
       "      <th>25%</th>\n",
       "      <th>50%</th>\n",
       "      <th>75%</th>\n",
       "      <th>max</th>\n",
       "    </tr>\n",
       "  </thead>\n",
       "  <tbody>\n",
       "    <tr>\n",
       "      <th>Daily Sales</th>\n",
       "      <td>10.0</td>\n",
       "      <td>10.7</td>\n",
       "      <td>3.683296</td>\n",
       "      <td>4.0</td>\n",
       "      <td>9.0</td>\n",
       "      <td>11.0</td>\n",
       "      <td>12.75</td>\n",
       "      <td>17.0</td>\n",
       "    </tr>\n",
       "  </tbody>\n",
       "</table>\n",
       "</div>"
      ],
      "text/plain": [
       "             count  mean       std  min  25%   50%    75%   max\n",
       "Daily Sales   10.0  10.7  3.683296  4.0  9.0  11.0  12.75  17.0"
      ]
     },
     "execution_count": 17,
     "metadata": {},
     "output_type": "execute_result"
    }
   ],
   "source": [
    "datos2.describe().T"
   ]
  },
  {
   "cell_type": "code",
   "execution_count": 20,
   "id": "2dc3c4ed",
   "metadata": {},
   "outputs": [
    {
     "name": "stdout",
     "output_type": "stream",
     "text": [
      "Daily Sales    13.566667\n",
      "dtype: float64\n",
      "   Daily Sales\n",
      "0          9.0\n",
      "1         11.0\n",
      "Daily Sales    107.0\n",
      "dtype: float64\n"
     ]
    }
   ],
   "source": [
    "print(datos2.var())\n",
    "print(datos2.mode())\n",
    "print(datos2.sum())"
   ]
  },
  {
   "cell_type": "code",
   "execution_count": 28,
   "id": "f5617064",
   "metadata": {},
   "outputs": [
    {
     "name": "stdout",
     "output_type": "stream",
     "text": [
      "Daily Sales    4.0\n",
      "Name: 2020-12-03 00:00:00, dtype: float64\n",
      "Daily Sales    17.0\n",
      "Name: 2020-12-04 00:00:00, dtype: float64\n"
     ]
    }
   ],
   "source": [
    "print(datos2.loc[datos2['Daily Sales'].idxmin()])\n",
    "print(datos2.loc[datos2['Daily Sales'].idxmax()])"
   ]
  },
  {
   "cell_type": "code",
   "execution_count": null,
   "id": "fccd7ea4",
   "metadata": {},
   "outputs": [],
   "source": []
  }
 ],
 "metadata": {
  "kernelspec": {
   "display_name": "Python 3 (ipykernel)",
   "language": "python",
   "name": "python3"
  },
  "language_info": {
   "codemirror_mode": {
    "name": "ipython",
    "version": 3
   },
   "file_extension": ".py",
   "mimetype": "text/x-python",
   "name": "python",
   "nbconvert_exporter": "python",
   "pygments_lexer": "ipython3",
   "version": "3.8.8"
  }
 },
 "nbformat": 4,
 "nbformat_minor": 5
}
