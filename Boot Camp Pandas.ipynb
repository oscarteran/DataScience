{
 "cells": [
  {
   "cell_type": "markdown",
   "id": "22302cfc",
   "metadata": {},
   "source": [
    "Este notebook contiene los ejercicios de Pandas:\n",
    "\n",
    "        Bootcamp of Data Science with Python [+250 exercises][A-Z]"
   ]
  },
  {
   "cell_type": "code",
   "execution_count": 56,
   "id": "98d140bb",
   "metadata": {},
   "outputs": [],
   "source": [
    "import numpy as np\n",
    "import pandas as pd\n",
    "import seaborn as sns\n",
    "import matplotlib.pyplot as plt"
   ]
  },
  {
   "cell_type": "code",
   "execution_count": 17,
   "id": "7e6cfc53",
   "metadata": {},
   "outputs": [
    {
     "name": "stdout",
     "output_type": "stream",
     "text": [
      "0    a\n",
      "1    b\n",
      "2    c\n",
      "3    d\n",
      "dtype: object\n",
      "11    a\n",
      "12    b\n",
      "13    c\n",
      "14    d\n",
      "dtype: object\n",
      "0    10\n",
      "1    10\n",
      "2    10\n",
      "3    10\n",
      "dtype: int64\n",
      "1    10.0\n",
      "2    12.0\n",
      "3    14.0\n",
      "4    16.0\n",
      "5    18.0\n",
      "dtype: float64\n"
     ]
    }
   ],
   "source": [
    "# Ejercicio 1\n",
    "data = ['a', 'b', 'c', 'd']\n",
    "Ser = pd.Series(data)\n",
    "print(Ser)\n",
    "Ser.index = ['11','12','13','14']\n",
    "print(Ser)\n",
    "\n",
    "#c)\n",
    "serie3 = pd.Series(10,index=[0,1,2,3])\n",
    "print(serie3)\n",
    " \n",
    "#d)\n",
    "array = np.arange(10,20,2)\n",
    "serie4 = pd.Series(array, index=range(1,6), dtype=float)\n",
    "print(serie4)"
   ]
  },
  {
   "cell_type": "code",
   "execution_count": 28,
   "id": "1ae870c2",
   "metadata": {},
   "outputs": [
    {
     "name": "stdout",
     "output_type": "stream",
     "text": [
      "0    k\n",
      "1    w\n",
      "2    z\n",
      "3    y\n",
      "dtype: object\n",
      "a    10\n",
      "b    30\n",
      "c    15\n",
      "d    12\n",
      "dtype: int64\n",
      "[10, 30, 15, 12]\n",
      "  Letters\n",
      "0       k\n",
      "1       w\n",
      "2       z\n",
      "3       y\n",
      "   Values\n",
      "a      10\n",
      "b      30\n",
      "c      15\n",
      "d      12\n"
     ]
    }
   ],
   "source": [
    "# Ejercicio 2\n",
    "data = ['k','w','z','y']\n",
    "Ser1 = pd.Series(data)\n",
    "print(Ser1)\n",
    "\n",
    "dic = {'a':10,'b':30,'c':15,'d':12}\n",
    "Ser2 = pd.Series(dic)\n",
    "print(Ser2)\n",
    "\n",
    "list1 = Ser2.to_list()\n",
    "print(list1)\n",
    "\n",
    "df1 = pd.DataFrame(data=Ser1, columns=['Letters'])\n",
    "df2 = pd.DataFrame(data=Ser2, columns=['Values'])\n",
    "\n",
    "print(df1)\n",
    "print(df2)"
   ]
  },
  {
   "cell_type": "code",
   "execution_count": 30,
   "id": "4aa1cdef",
   "metadata": {},
   "outputs": [
    {
     "data": {
      "text/plain": [
       "25     1.0\n",
       "26     3.0\n",
       "27     5.0\n",
       "28     7.0\n",
       "29     9.0\n",
       "30    11.0\n",
       "31    13.0\n",
       "32    15.0\n",
       "33    17.0\n",
       "34    19.0\n",
       "35    21.0\n",
       "36    23.0\n",
       "37    25.0\n",
       "38    27.0\n",
       "39    29.0\n",
       "40    31.0\n",
       "41    33.0\n",
       "42    35.0\n",
       "43    37.0\n",
       "44    39.0\n",
       "45    41.0\n",
       "46    43.0\n",
       "47    45.0\n",
       "48    47.0\n",
       "49    49.0\n",
       "dtype: float64"
      ]
     },
     "execution_count": 30,
     "metadata": {},
     "output_type": "execute_result"
    }
   ],
   "source": [
    "# Ejercicio 3\n",
    "ser1 = pd.Series(data=range(1,50,2), index=range(25,50),dtype=float)\n",
    "ser1"
   ]
  },
  {
   "cell_type": "code",
   "execution_count": 36,
   "id": "19443125",
   "metadata": {},
   "outputs": [
    {
     "name": "stdout",
     "output_type": "stream",
     "text": [
      "{0: 'ITUB4', 1: 'BBDC4', 2: 'BBAS3', 3: 'BPAC11', 4: 'SANB11'}\n",
      "['ITUB4', 'BBDC4', 'BBAS3', 'BPAC11', 'SANB11']\n",
      "['ITUB4' 'BBDC4' 'BBAS3' 'BPAC11' 'SANB11']\n"
     ]
    }
   ],
   "source": [
    "# Ejercicio 4\n",
    "data = ['ITUB4', 'BBDC4', 'BBAS3', 'BPAC11', 'SANB11']\n",
    "ser1 = pd.Series(data=data)\n",
    "\n",
    "a = ser1.to_dict()\n",
    "print(a)\n",
    "b = ser1.to_list()\n",
    "print(b)\n",
    "c = ser1.to_numpy()\n",
    "print(c)"
   ]
  },
  {
   "cell_type": "code",
   "execution_count": 42,
   "id": "f323c907",
   "metadata": {},
   "outputs": [
    {
     "name": "stdout",
     "output_type": "stream",
     "text": [
      "ABEV3     12.85\n",
      "AZUL4     22.55\n",
      "BTOW3    115.08\n",
      "RENT3     49.03\n",
      "JBSS3     21.48\n",
      "RAIL3     18.93\n",
      "SUZB3     48.19\n",
      "MGLU3     25.59\n",
      "dtype: float64\n",
      "       Prices\n",
      "ABEV3   12.85\n",
      "AZUL4   22.55\n",
      "BTOW3  115.08\n",
      "RENT3   49.03\n",
      "JBSS3   24.41\n"
     ]
    }
   ],
   "source": [
    "# Ejercicio 5\n",
    "data = {\n",
    "    'ABEV3':12.85,\n",
    "    'AZUL4':22.55,\n",
    "    'BTOW3':115.08,\n",
    "    'RENT3':49.03,\n",
    "    'JBSS3':24.41,\n",
    "    }\n",
    "Ser1 = pd.Series(data)\n",
    "lista = Ser1.tolist()\n",
    "df = pd.DataFrame(data=Ser1, columns = ['Prices'])\n",
    "Ser1['RAIL3'] = 18.93\n",
    "Ser1['JBSS3'] = 21.48\n",
    "Ser1['SUZB3'] = 48.19\n",
    "Ser1['MGLU3'] = 25.59\n",
    "print(Ser1)\n",
    "print(df)"
   ]
  },
  {
   "cell_type": "code",
   "execution_count": 46,
   "id": "4bf4e037",
   "metadata": {},
   "outputs": [],
   "source": [
    "# Ejercicio 6\n",
    "data = {\n",
    "    'ABEV3':12.85,\n",
    "    'AZUL4':22.55,\n",
    "    'BTOW3':115.08,\n",
    "    'RENT3':49.03,\n",
    "    'JBSS3':24.41,\n",
    "    } \n",
    " \n",
    "serie = pd.Series(data)\n",
    "serie['PETR4'] = 22,97\n",
    "serie['NTCO3'] = 50,60\n",
    "serie['TIMP3'] = 14,82\n",
    "\n",
    "# Solucion # 2\n",
    "serie = serie.append(pd.Series({'PETR4':22.97,'NTCO3':50.6,'TIMP3':14.82}))"
   ]
  },
  {
   "cell_type": "code",
   "execution_count": 55,
   "id": "422bfa7c",
   "metadata": {},
   "outputs": [
    {
     "name": "stdout",
     "output_type": "stream",
     "text": [
      "A\n",
      "B\n",
      "C\n",
      "D\n",
      "E\n",
      "F\n",
      "G\n",
      "H\n",
      "I\n",
      "J\n",
      "K\n",
      "L\n",
      "M\n",
      "N\n",
      "O\n",
      "P\n",
      "Q\n",
      "R\n",
      "S\n",
      "T\n",
      "U\n",
      "V\n",
      "W\n",
      "X\n",
      "Y\n",
      "Z\n"
     ]
    }
   ],
   "source": [
    "# Ejercicio 7\n",
    "a = pd.Series(\n",
    "    data = np.arange(1, 20, 2),\n",
    "    index = [chr(65+i) for i in range(10)])\n",
    " \n",
    "b = pd.Series(\n",
    "    data = np.arange(5, 50, 5),\n",
    "    index = [chr(70+i) for i in range(9)])\n",
    "\n",
    "for i in range(65,91):\n",
    "    print(chr(i))"
   ]
  },
  {
   "cell_type": "code",
   "execution_count": 71,
   "id": "1b8d843c",
   "metadata": {},
   "outputs": [
    {
     "data": {
      "text/plain": [
       "<AxesSubplot:title={'center':'Growth over time'}>"
      ]
     },
     "execution_count": 71,
     "metadata": {},
     "output_type": "execute_result"
    },
    {
     "data": {
      "image/png": "[encoded data removed]",
      "text/plain": [
       "<Figure size 432x288 with 1 Axes>"
      ]
     },
     "metadata": {
      "needs_background": "light"
     },
     "output_type": "display_data"
    }
   ],
   "source": [
    "# Ejercicio 8\n",
    "vec = [i**3 for i in range(1,14)]\n",
    "ind = list(range(2020, 1890, -10))\n",
    "vec = vec[::-1]\n",
    "ser = pd.Series(data=vec, index=ind ,name = 'Growth over time')\n",
    "ser.plot(title = 'Growth over time')"
   ]
  },
  {
   "cell_type": "code",
   "execution_count": 82,
   "id": "b2bb91f8",
   "metadata": {},
   "outputs": [
    {
     "name": "stdout",
     "output_type": "stream",
     "text": [
      "a    1\n",
      "b    2\n",
      "c    3\n",
      "d    4\n",
      "e    5\n",
      "f    6\n",
      "dtype: int64\n",
      "1\n",
      "3\n",
      "a    1\n",
      "b    2\n",
      "c    3\n",
      "dtype: int64\n",
      "d    4\n",
      "e    5\n",
      "f    6\n",
      "dtype: int64\n",
      "6\n"
     ]
    }
   ],
   "source": [
    "# Ejercicio 9\n",
    "s = pd.Series([1, 2, 3, 4, 5, 6], index = ['a', 'b', 'c', 'd', 'e', 'f'])\n",
    "print(s)\n",
    "print(s[0])\n",
    "print(s[2])\n",
    "print(s[0:3])\n",
    "print(s[-3:])\n",
    "print(s[-1])"
   ]
  },
  {
   "cell_type": "code",
   "execution_count": 91,
   "id": "1f6b3e7a",
   "metadata": {},
   "outputs": [
    {
     "name": "stdout",
     "output_type": "stream",
     "text": [
      "[Index(['A', 'B', 'C', 'D', 'E', 'F', 'G', 'H', 'I', 'J'], dtype='object')]\n",
      "False\n",
      "1\n",
      "10\n",
      "[ 1  2  3  4  5  6  7  8  9 10]\n"
     ]
    }
   ],
   "source": [
    "# Ejercicio 10\n",
    "Ser = pd.Series(data=list(range(1,11)), index = [chr(i) for i in range(65,75)])\n",
    "print(Ser.axes)\n",
    "print(Ser.empty)\n",
    "print(Ser.ndim)\n",
    "print(Ser.size)\n",
    "print(Ser.values)"
   ]
  },
  {
   "cell_type": "code",
   "execution_count": 93,
   "id": "f92a9be1",
   "metadata": {},
   "outputs": [
    {
     "data": {
      "text/html": [
       "<div>\n",
       "<style scoped>\n",
       "    .dataframe tbody tr th:only-of-type {\n",
       "        vertical-align: middle;\n",
       "    }\n",
       "\n",
       "    .dataframe tbody tr th {\n",
       "        vertical-align: top;\n",
       "    }\n",
       "\n",
       "    .dataframe thead th {\n",
       "        text-align: right;\n",
       "    }\n",
       "</style>\n",
       "<table border=\"1\" class=\"dataframe\">\n",
       "  <thead>\n",
       "    <tr style=\"text-align: right;\">\n",
       "      <th></th>\n",
       "      <th>A</th>\n",
       "    </tr>\n",
       "  </thead>\n",
       "  <tbody>\n",
       "    <tr>\n",
       "      <th>0</th>\n",
       "      <td>10</td>\n",
       "    </tr>\n",
       "    <tr>\n",
       "      <th>1</th>\n",
       "      <td>22</td>\n",
       "    </tr>\n",
       "    <tr>\n",
       "      <th>2</th>\n",
       "      <td>3</td>\n",
       "    </tr>\n",
       "  </tbody>\n",
       "</table>\n",
       "</div>"
      ],
      "text/plain": [
       "    A\n",
       "0  10\n",
       "1  22\n",
       "2   3"
      ]
     },
     "execution_count": 93,
     "metadata": {},
     "output_type": "execute_result"
    }
   ],
   "source": [
    "# Ejercicio 11\n",
    "data = [10, 22, 3, 11, 17, 22, 9, 4, 29, 31]\n",
    "df = pd.DataFrame(data = data, columns = ['A'])\n",
    "df.head(3)"
   ]
  },
  {
   "cell_type": "code",
   "execution_count": 101,
   "id": "5ba0c7d6",
   "metadata": {},
   "outputs": [
    {
     "data": {
      "text/html": [
       "<div>\n",
       "<style scoped>\n",
       "    .dataframe tbody tr th:only-of-type {\n",
       "        vertical-align: middle;\n",
       "    }\n",
       "\n",
       "    .dataframe tbody tr th {\n",
       "        vertical-align: top;\n",
       "    }\n",
       "\n",
       "    .dataframe thead th {\n",
       "        text-align: right;\n",
       "    }\n",
       "</style>\n",
       "<table border=\"1\" class=\"dataframe\">\n",
       "  <thead>\n",
       "    <tr style=\"text-align: right;\">\n",
       "      <th></th>\n",
       "      <th>A</th>\n",
       "      <th>B</th>\n",
       "      <th>C</th>\n",
       "    </tr>\n",
       "  </thead>\n",
       "  <tbody>\n",
       "    <tr>\n",
       "      <th>0</th>\n",
       "      <td>11</td>\n",
       "      <td>1.0</td>\n",
       "      <td>130</td>\n",
       "    </tr>\n",
       "    <tr>\n",
       "      <th>1</th>\n",
       "      <td>33</td>\n",
       "      <td>2.0</td>\n",
       "      <td>144</td>\n",
       "    </tr>\n",
       "    <tr>\n",
       "      <th>2</th>\n",
       "      <td>11</td>\n",
       "      <td>3.0</td>\n",
       "      <td>111</td>\n",
       "    </tr>\n",
       "    <tr>\n",
       "      <th>3</th>\n",
       "      <td>-1</td>\n",
       "      <td>4.0</td>\n",
       "      <td>104</td>\n",
       "    </tr>\n",
       "    <tr>\n",
       "      <th>4</th>\n",
       "      <td>0</td>\n",
       "      <td>5.0</td>\n",
       "      <td>199</td>\n",
       "    </tr>\n",
       "  </tbody>\n",
       "</table>\n",
       "</div>"
      ],
      "text/plain": [
       "    A    B    C\n",
       "0  11  1.0  130\n",
       "1  33  2.0  144\n",
       "2  11  3.0  111\n",
       "3  -1  4.0  104\n",
       "4   0  5.0  199"
      ]
     },
     "execution_count": 101,
     "metadata": {},
     "output_type": "execute_result"
    }
   ],
   "source": [
    "# Ejercicio 12\n",
    "dic = {'A': [11, 33, 11,-1,0], 'B':np.linspace(1,5,5), 'C':[130, 144, 111, 104, 199]}\n",
    "df = pd.DataFrame(data=dic)\n",
    "df.head()"
   ]
  },
  {
   "cell_type": "code",
   "execution_count": 116,
   "id": "5de25147",
   "metadata": {},
   "outputs": [
    {
     "data": {
      "text/html": [
       "<div>\n",
       "<style scoped>\n",
       "    .dataframe tbody tr th:only-of-type {\n",
       "        vertical-align: middle;\n",
       "    }\n",
       "\n",
       "    .dataframe tbody tr th {\n",
       "        vertical-align: top;\n",
       "    }\n",
       "\n",
       "    .dataframe thead th {\n",
       "        text-align: right;\n",
       "    }\n",
       "</style>\n",
       "<table border=\"1\" class=\"dataframe\">\n",
       "  <thead>\n",
       "    <tr style=\"text-align: right;\">\n",
       "      <th></th>\n",
       "      <th>A</th>\n",
       "      <th>B</th>\n",
       "    </tr>\n",
       "  </thead>\n",
       "  <tbody>\n",
       "    <tr>\n",
       "      <th>1</th>\n",
       "      <td>2</td>\n",
       "      <td>1</td>\n",
       "    </tr>\n",
       "    <tr>\n",
       "      <th>2</th>\n",
       "      <td>4</td>\n",
       "      <td>27</td>\n",
       "    </tr>\n",
       "    <tr>\n",
       "      <th>3</th>\n",
       "      <td>6</td>\n",
       "      <td>125</td>\n",
       "    </tr>\n",
       "    <tr>\n",
       "      <th>4</th>\n",
       "      <td>8</td>\n",
       "      <td>343</td>\n",
       "    </tr>\n",
       "    <tr>\n",
       "      <th>5</th>\n",
       "      <td>10</td>\n",
       "      <td>729</td>\n",
       "    </tr>\n",
       "    <tr>\n",
       "      <th>6</th>\n",
       "      <td>12</td>\n",
       "      <td>1331</td>\n",
       "    </tr>\n",
       "    <tr>\n",
       "      <th>7</th>\n",
       "      <td>14</td>\n",
       "      <td>2197</td>\n",
       "    </tr>\n",
       "    <tr>\n",
       "      <th>8</th>\n",
       "      <td>16</td>\n",
       "      <td>3375</td>\n",
       "    </tr>\n",
       "    <tr>\n",
       "      <th>9</th>\n",
       "      <td>18</td>\n",
       "      <td>4913</td>\n",
       "    </tr>\n",
       "    <tr>\n",
       "      <th>10</th>\n",
       "      <td>20</td>\n",
       "      <td>6859</td>\n",
       "    </tr>\n",
       "  </tbody>\n",
       "</table>\n",
       "</div>"
      ],
      "text/plain": [
       "     A     B\n",
       "1    2     1\n",
       "2    4    27\n",
       "3    6   125\n",
       "4    8   343\n",
       "5   10   729\n",
       "6   12  1331\n",
       "7   14  2197\n",
       "8   16  3375\n",
       "9   18  4913\n",
       "10  20  6859"
      ]
     },
     "execution_count": 116,
     "metadata": {},
     "output_type": "execute_result"
    }
   ],
   "source": [
    "# Ejercicio 13\n",
    "dic = {'A':list(range(2,21,2)), 'B':[i**3 for i in range(1,21,2)]}\n",
    "df = pd.DataFrame(data=dic, index = range(1, len(dic['A'])+1))\n",
    "df"
   ]
  },
  {
   "cell_type": "code",
   "execution_count": 118,
   "id": "7d54a497",
   "metadata": {},
   "outputs": [
    {
     "data": {
      "image/png": "[encoded data removed]",
      "text/plain": [
       "<Figure size 432x288 with 1 Axes>"
      ]
     },
     "metadata": {
      "needs_background": "light"
     },
     "output_type": "display_data"
    },
    {
     "data": {
      "image/png": "[encoded data removed]",
      "text/plain": [
       "<Figure size 432x288 with 1 Axes>"
      ]
     },
     "metadata": {
      "needs_background": "light"
     },
     "output_type": "display_data"
    }
   ],
   "source": [
    "# Ejercicio 14\n",
    "df.plot()\n",
    "plt.show()\n",
    "df['C'] = [i**2 for i in range(1,21,2)]\n",
    "df.plot()\n",
    "plt.show()"
   ]
  },
  {
   "cell_type": "code",
   "execution_count": 125,
   "id": "4ab719ff",
   "metadata": {},
   "outputs": [
    {
     "data": {
      "image/png": "[encoded data removed]",
      "text/plain": [
       "<Figure size 432x288 with 1 Axes>"
      ]
     },
     "metadata": {
      "needs_background": "light"
     },
     "output_type": "display_data"
    }
   ],
   "source": [
    "# Ejercicio 15\n",
    "dic = {'A':np.random.normal(800,30,10), 'B':np.random.normal(800,30,10), \n",
    "       'C':np.random.normal(800,30,10), 'D':np.random.normal(800,30,10)}\n",
    "df = pd.DataFrame(data=dic, index = np.arange(2010,2020,1))\n",
    "df.plot()\n",
    "plt.xlabel('Years')\n",
    "plt.show()"
   ]
  },
  {
   "cell_type": "code",
   "execution_count": 126,
   "id": "87974d24",
   "metadata": {},
   "outputs": [
    {
     "data": {
      "text/plain": [
       "<AxesSubplot:xlabel='Years'>"
      ]
     },
     "execution_count": 126,
     "metadata": {},
     "output_type": "execute_result"
    },
    {
     "data": {
      "image/png": "[encoded data removed]",
      "text/plain": [
       "<Figure size 432x288 with 1 Axes>"
      ]
     },
     "metadata": {
      "needs_background": "light"
     },
     "output_type": "display_data"
    }
   ],
   "source": [
    "# Solucion ejercicio 15\n",
    "array = np.random.normal(800, 30, size = (10, 4)).round(2)\n",
    "years = range(2010, 2020)\n",
    "columns = ['A', 'B', 'C' , 'D']\n",
    "df = pd.DataFrame(data = array, index = years, columns = columns)\n",
    "df.columns.name = 'Products'\n",
    "df.index.name = 'Years'\n",
    "df.plot()"
   ]
  },
  {
   "cell_type": "code",
   "execution_count": 132,
   "id": "55a96a3c",
   "metadata": {},
   "outputs": [
    {
     "data": {
      "text/html": [
       "<div>\n",
       "<style scoped>\n",
       "    .dataframe tbody tr th:only-of-type {\n",
       "        vertical-align: middle;\n",
       "    }\n",
       "\n",
       "    .dataframe tbody tr th {\n",
       "        vertical-align: top;\n",
       "    }\n",
       "\n",
       "    .dataframe thead th {\n",
       "        text-align: right;\n",
       "    }\n",
       "</style>\n",
       "<table border=\"1\" class=\"dataframe\">\n",
       "  <thead>\n",
       "    <tr style=\"text-align: right;\">\n",
       "      <th></th>\n",
       "      <th>Price</th>\n",
       "      <th>Unit</th>\n",
       "      <th>Total Cost</th>\n",
       "    </tr>\n",
       "  </thead>\n",
       "  <tbody>\n",
       "    <tr>\n",
       "      <th>Product 1</th>\n",
       "      <td>20.3</td>\n",
       "      <td>10</td>\n",
       "      <td>100.00</td>\n",
       "    </tr>\n",
       "    <tr>\n",
       "      <th>Product 2</th>\n",
       "      <td>31.2</td>\n",
       "      <td>33</td>\n",
       "      <td>568.70</td>\n",
       "    </tr>\n",
       "    <tr>\n",
       "      <th>Product 3</th>\n",
       "      <td>44.7</td>\n",
       "      <td>45</td>\n",
       "      <td>205.20</td>\n",
       "    </tr>\n",
       "    <tr>\n",
       "      <th>Product 4</th>\n",
       "      <td>30.5</td>\n",
       "      <td>51</td>\n",
       "      <td>507.10</td>\n",
       "    </tr>\n",
       "    <tr>\n",
       "      <th>Product 5</th>\n",
       "      <td>19.8</td>\n",
       "      <td>11</td>\n",
       "      <td>250.12</td>\n",
       "    </tr>\n",
       "  </tbody>\n",
       "</table>\n",
       "</div>"
      ],
      "text/plain": [
       "           Price  Unit  Total Cost\n",
       "Product 1   20.3    10      100.00\n",
       "Product 2   31.2    33      568.70\n",
       "Product 3   44.7    45      205.20\n",
       "Product 4   30.5    51      507.10\n",
       "Product 5   19.8    11      250.12"
      ]
     },
     "execution_count": 132,
     "metadata": {},
     "output_type": "execute_result"
    }
   ],
   "source": [
    "# Ejercicio 16\n",
    "index = ['Product '+str(i) for i in range(1,9)]\n",
    "data = {'A':np.random.normal(30,20,8), \n",
    "        'B':np.random.poisson(10, 8),\n",
    "        'C':np.random.uniform(50,1500,8)}\n",
    "df = pd.DataFrame(data, index=index)\n",
    "\n",
    "data = {\n",
    "    'Price': [20.3, 31.2, 44.7, 30.5, 19.8, 11.2, 15.7, 17.3],\n",
    "    'Unit': [10, 33, 45, 51, 11, 8, 91, 8],\n",
    "    'Total Cost': [100, 568.7, 205.2, 507.1, 250.12, 55.3, 1579, 130]}\n",
    "df = pd.DataFrame(data, index)\n",
    "df.head()"
   ]
  },
  {
   "cell_type": "code",
   "execution_count": 135,
   "id": "818fb9f5",
   "metadata": {},
   "outputs": [
    {
     "data": {
      "text/html": [
       "<div>\n",
       "<style scoped>\n",
       "    .dataframe tbody tr th:only-of-type {\n",
       "        vertical-align: middle;\n",
       "    }\n",
       "\n",
       "    .dataframe tbody tr th {\n",
       "        vertical-align: top;\n",
       "    }\n",
       "\n",
       "    .dataframe thead th {\n",
       "        text-align: right;\n",
       "    }\n",
       "</style>\n",
       "<table border=\"1\" class=\"dataframe\">\n",
       "  <thead>\n",
       "    <tr style=\"text-align: right;\">\n",
       "      <th></th>\n",
       "      <th>Price</th>\n",
       "      <th>Unit</th>\n",
       "      <th>Total Cost</th>\n",
       "      <th>Total Revenue</th>\n",
       "      <th>Total Profit</th>\n",
       "    </tr>\n",
       "  </thead>\n",
       "  <tbody>\n",
       "    <tr>\n",
       "      <th>Product 1</th>\n",
       "      <td>20.3</td>\n",
       "      <td>10</td>\n",
       "      <td>100.00</td>\n",
       "      <td>203.0</td>\n",
       "      <td>103.00</td>\n",
       "    </tr>\n",
       "    <tr>\n",
       "      <th>Product 2</th>\n",
       "      <td>31.2</td>\n",
       "      <td>33</td>\n",
       "      <td>568.70</td>\n",
       "      <td>1029.6</td>\n",
       "      <td>460.90</td>\n",
       "    </tr>\n",
       "    <tr>\n",
       "      <th>Product 3</th>\n",
       "      <td>44.7</td>\n",
       "      <td>45</td>\n",
       "      <td>205.20</td>\n",
       "      <td>2011.5</td>\n",
       "      <td>1806.30</td>\n",
       "    </tr>\n",
       "    <tr>\n",
       "      <th>Product 4</th>\n",
       "      <td>30.5</td>\n",
       "      <td>51</td>\n",
       "      <td>507.10</td>\n",
       "      <td>1555.5</td>\n",
       "      <td>1048.40</td>\n",
       "    </tr>\n",
       "    <tr>\n",
       "      <th>Product 5</th>\n",
       "      <td>19.8</td>\n",
       "      <td>11</td>\n",
       "      <td>250.12</td>\n",
       "      <td>217.8</td>\n",
       "      <td>-32.32</td>\n",
       "    </tr>\n",
       "  </tbody>\n",
       "</table>\n",
       "</div>"
      ],
      "text/plain": [
       "           Price  Unit  Total Cost  Total Revenue  Total Profit\n",
       "Product 1   20.3    10      100.00          203.0        103.00\n",
       "Product 2   31.2    33      568.70         1029.6        460.90\n",
       "Product 3   44.7    45      205.20         2011.5       1806.30\n",
       "Product 4   30.5    51      507.10         1555.5       1048.40\n",
       "Product 5   19.8    11      250.12          217.8        -32.32"
      ]
     },
     "execution_count": 135,
     "metadata": {},
     "output_type": "execute_result"
    }
   ],
   "source": [
    "# Ejercicio 17\n",
    "df['Total Revenue'] = df['Price']*df['Unit']\n",
    "df['Total Profit'] = df['Total Revenue'] - df['Total Cost']\n",
    "df.head()"
   ]
  },
  {
   "cell_type": "code",
   "execution_count": 142,
   "id": "fd920950",
   "metadata": {},
   "outputs": [
    {
     "data": {
      "text/html": [
       "<div>\n",
       "<style scoped>\n",
       "    .dataframe tbody tr th:only-of-type {\n",
       "        vertical-align: middle;\n",
       "    }\n",
       "\n",
       "    .dataframe tbody tr th {\n",
       "        vertical-align: top;\n",
       "    }\n",
       "\n",
       "    .dataframe thead th {\n",
       "        text-align: right;\n",
       "    }\n",
       "</style>\n",
       "<table border=\"1\" class=\"dataframe\">\n",
       "  <thead>\n",
       "    <tr style=\"text-align: right;\">\n",
       "      <th></th>\n",
       "      <th>A</th>\n",
       "      <th>B</th>\n",
       "      <th>C</th>\n",
       "      <th>D</th>\n",
       "      <th>E</th>\n",
       "    </tr>\n",
       "  </thead>\n",
       "  <tbody>\n",
       "    <tr>\n",
       "      <th>1</th>\n",
       "      <td>0.226917</td>\n",
       "      <td>0.369719</td>\n",
       "      <td>0.636703</td>\n",
       "      <td>0.364679</td>\n",
       "      <td>0.944093</td>\n",
       "    </tr>\n",
       "    <tr>\n",
       "      <th>2</th>\n",
       "      <td>0.083472</td>\n",
       "      <td>0.023334</td>\n",
       "      <td>0.160065</td>\n",
       "      <td>0.745278</td>\n",
       "      <td>0.526034</td>\n",
       "    </tr>\n",
       "    <tr>\n",
       "      <th>3</th>\n",
       "      <td>0.499873</td>\n",
       "      <td>0.939582</td>\n",
       "      <td>0.336100</td>\n",
       "      <td>0.848898</td>\n",
       "      <td>0.215535</td>\n",
       "    </tr>\n",
       "    <tr>\n",
       "      <th>4</th>\n",
       "      <td>0.923145</td>\n",
       "      <td>0.799003</td>\n",
       "      <td>0.143626</td>\n",
       "      <td>0.841233</td>\n",
       "      <td>0.425051</td>\n",
       "    </tr>\n",
       "    <tr>\n",
       "      <th>5</th>\n",
       "      <td>0.226625</td>\n",
       "      <td>0.094296</td>\n",
       "      <td>0.898397</td>\n",
       "      <td>0.157616</td>\n",
       "      <td>0.856904</td>\n",
       "    </tr>\n",
       "  </tbody>\n",
       "</table>\n",
       "</div>"
      ],
      "text/plain": [
       "          A         B         C         D         E\n",
       "1  0.226917  0.369719  0.636703  0.364679  0.944093\n",
       "2  0.083472  0.023334  0.160065  0.745278  0.526034\n",
       "3  0.499873  0.939582  0.336100  0.848898  0.215535\n",
       "4  0.923145  0.799003  0.143626  0.841233  0.425051\n",
       "5  0.226625  0.094296  0.898397  0.157616  0.856904"
      ]
     },
     "execution_count": 142,
     "metadata": {},
     "output_type": "execute_result"
    }
   ],
   "source": [
    "# Ejercicio 18\n",
    "array = np.random.random(size = (10,5))\n",
    "col = list('ABCDE')\n",
    "df = pd.DataFrame(data=array, index=list(range(1,11)), columns=col)\n",
    "df.head()"
   ]
  },
  {
   "cell_type": "code",
   "execution_count": 144,
   "id": "fe95e14d",
   "metadata": {},
   "outputs": [
    {
     "data": {
      "text/html": [
       "<div>\n",
       "<style scoped>\n",
       "    .dataframe tbody tr th:only-of-type {\n",
       "        vertical-align: middle;\n",
       "    }\n",
       "\n",
       "    .dataframe tbody tr th {\n",
       "        vertical-align: top;\n",
       "    }\n",
       "\n",
       "    .dataframe thead th {\n",
       "        text-align: right;\n",
       "    }\n",
       "</style>\n",
       "<table border=\"1\" class=\"dataframe\">\n",
       "  <thead>\n",
       "    <tr style=\"text-align: right;\">\n",
       "      <th>Products</th>\n",
       "      <th>product1</th>\n",
       "      <th>product2</th>\n",
       "      <th>product3</th>\n",
       "      <th>product4</th>\n",
       "    </tr>\n",
       "    <tr>\n",
       "      <th>Year</th>\n",
       "      <th></th>\n",
       "      <th></th>\n",
       "      <th></th>\n",
       "      <th></th>\n",
       "    </tr>\n",
       "  </thead>\n",
       "  <tbody>\n",
       "    <tr>\n",
       "      <th>2008</th>\n",
       "      <td>7</td>\n",
       "      <td>14</td>\n",
       "      <td>5</td>\n",
       "      <td>4</td>\n",
       "    </tr>\n",
       "    <tr>\n",
       "      <th>2009</th>\n",
       "      <td>9</td>\n",
       "      <td>13</td>\n",
       "      <td>11</td>\n",
       "      <td>2</td>\n",
       "    </tr>\n",
       "    <tr>\n",
       "      <th>2010</th>\n",
       "      <td>10</td>\n",
       "      <td>7</td>\n",
       "      <td>3</td>\n",
       "      <td>3</td>\n",
       "    </tr>\n",
       "    <tr>\n",
       "      <th>2011</th>\n",
       "      <td>15</td>\n",
       "      <td>13</td>\n",
       "      <td>45</td>\n",
       "      <td>45</td>\n",
       "    </tr>\n",
       "    <tr>\n",
       "      <th>2012</th>\n",
       "      <td>50</td>\n",
       "      <td>77</td>\n",
       "      <td>21</td>\n",
       "      <td>21</td>\n",
       "    </tr>\n",
       "  </tbody>\n",
       "</table>\n",
       "</div>"
      ],
      "text/plain": [
       "Products  product1  product2  product3  product4\n",
       "Year                                            \n",
       "2008             7        14         5         4\n",
       "2009             9        13        11         2\n",
       "2010            10         7         3         3\n",
       "2011            15        13        45        45\n",
       "2012            50        77        21        21"
      ]
     },
     "execution_count": 144,
     "metadata": {},
     "output_type": "execute_result"
    }
   ],
   "source": [
    "# Ejercicio 19\n",
    "products = {\n",
    "    'product1': {2008:7, 2009:9, 2010: 10, 2011: 15, 2012: 50, 2013: 47}, \n",
    "    'product2': {2008:14, 2009:13, 2010: 7, 2011: 13, 2012: 77, 2013: 94}, \n",
    "    'product3': {2008:5, 2009:11, 2010: 3, 2011: 45, 2012: 21, 2013: 33},\n",
    "    'product4': {2008:4, 2009:2, 2010: 3, 2011: 45, 2012: 21, 2013: 33}}\n",
    "df = pd.DataFrame(products)\n",
    "df.columns.name='Products'\n",
    "df.index.name='Year'\n",
    "df.head()"
   ]
  },
  {
   "cell_type": "code",
   "execution_count": 145,
   "id": "b60f9bc7",
   "metadata": {},
   "outputs": [
    {
     "data": {
      "text/html": [
       "<div>\n",
       "<style scoped>\n",
       "    .dataframe tbody tr th:only-of-type {\n",
       "        vertical-align: middle;\n",
       "    }\n",
       "\n",
       "    .dataframe tbody tr th {\n",
       "        vertical-align: top;\n",
       "    }\n",
       "\n",
       "    .dataframe thead th {\n",
       "        text-align: right;\n",
       "    }\n",
       "</style>\n",
       "<table border=\"1\" class=\"dataframe\">\n",
       "  <thead>\n",
       "    <tr style=\"text-align: right;\">\n",
       "      <th></th>\n",
       "      <th>Customers</th>\n",
       "      <th>Age</th>\n",
       "      <th>Rating</th>\n",
       "    </tr>\n",
       "  </thead>\n",
       "  <tbody>\n",
       "    <tr>\n",
       "      <th>0</th>\n",
       "      <td>Adrian</td>\n",
       "      <td>36</td>\n",
       "      <td>6.20</td>\n",
       "    </tr>\n",
       "    <tr>\n",
       "      <th>1</th>\n",
       "      <td>Carl</td>\n",
       "      <td>39</td>\n",
       "      <td>2.17</td>\n",
       "    </tr>\n",
       "    <tr>\n",
       "      <th>2</th>\n",
       "      <td>Eliza</td>\n",
       "      <td>33</td>\n",
       "      <td>6.56</td>\n",
       "    </tr>\n",
       "    <tr>\n",
       "      <th>3</th>\n",
       "      <td>Albert</td>\n",
       "      <td>32</td>\n",
       "      <td>8.32</td>\n",
       "    </tr>\n",
       "    <tr>\n",
       "      <th>4</th>\n",
       "      <td>Fred</td>\n",
       "      <td>27</td>\n",
       "      <td>9.15</td>\n",
       "    </tr>\n",
       "  </tbody>\n",
       "</table>\n",
       "</div>"
      ],
      "text/plain": [
       "  Customers  Age  Rating\n",
       "0    Adrian   36    6.20\n",
       "1      Carl   39    2.17\n",
       "2     Eliza   33    6.56\n",
       "3    Albert   32    8.32\n",
       "4      Fred   27    9.15"
      ]
     },
     "execution_count": 145,
     "metadata": {},
     "output_type": "execute_result"
    }
   ],
   "source": [
    "# Ejercicio 20\n",
    "data = {\n",
    "    'Customers': ['Adrian', 'Carl', 'Eliza', 'Albert', 'Fred', 'Oswald', 'Grace', 'John'],\n",
    "    'Age': [36, 39, 33, 32, 27, 35, 28, 18],\n",
    "    'Rating': [6.2, 2.17, 6.56, 8.32, 9.15, 1.34, 0.57, 1.66] \n",
    "}\n",
    "df = pd.DataFrame(data)\n",
    "df.head()"
   ]
  },
  {
   "cell_type": "code",
   "execution_count": 154,
   "id": "ff5224b6",
   "metadata": {},
   "outputs": [
    {
     "data": {
      "text/html": [
       "<div>\n",
       "<style scoped>\n",
       "    .dataframe tbody tr th:only-of-type {\n",
       "        vertical-align: middle;\n",
       "    }\n",
       "\n",
       "    .dataframe tbody tr th {\n",
       "        vertical-align: top;\n",
       "    }\n",
       "\n",
       "    .dataframe thead th {\n",
       "        text-align: right;\n",
       "    }\n",
       "</style>\n",
       "<table border=\"1\" class=\"dataframe\">\n",
       "  <thead>\n",
       "    <tr style=\"text-align: right;\">\n",
       "      <th></th>\n",
       "      <th>Names</th>\n",
       "      <th>Scores</th>\n",
       "      <th>Result</th>\n",
       "    </tr>\n",
       "  </thead>\n",
       "  <tbody>\n",
       "    <tr>\n",
       "      <th>1</th>\n",
       "      <td>Oswald</td>\n",
       "      <td>7.0</td>\n",
       "      <td>Yes</td>\n",
       "    </tr>\n",
       "    <tr>\n",
       "      <th>2</th>\n",
       "      <td>Richard</td>\n",
       "      <td>8.0</td>\n",
       "      <td>Yes</td>\n",
       "    </tr>\n",
       "    <tr>\n",
       "      <th>3</th>\n",
       "      <td>Victor</td>\n",
       "      <td>4.7</td>\n",
       "      <td>No</td>\n",
       "    </tr>\n",
       "    <tr>\n",
       "      <th>4</th>\n",
       "      <td>Walter</td>\n",
       "      <td>10.0</td>\n",
       "      <td>Yes</td>\n",
       "    </tr>\n",
       "    <tr>\n",
       "      <th>5</th>\n",
       "      <td>Ronald</td>\n",
       "      <td>9.5</td>\n",
       "      <td>Yes</td>\n",
       "    </tr>\n",
       "    <tr>\n",
       "      <th>6</th>\n",
       "      <td>Rebecca</td>\n",
       "      <td>6.0</td>\n",
       "      <td>No</td>\n",
       "    </tr>\n",
       "    <tr>\n",
       "      <th>7</th>\n",
       "      <td>Maurice</td>\n",
       "      <td>5.0</td>\n",
       "      <td>No</td>\n",
       "    </tr>\n",
       "    <tr>\n",
       "      <th>8</th>\n",
       "      <td>Margaret</td>\n",
       "      <td>7.7</td>\n",
       "      <td>Yes</td>\n",
       "    </tr>\n",
       "  </tbody>\n",
       "</table>\n",
       "</div>"
      ],
      "text/plain": [
       "      Names  Scores Result\n",
       "1    Oswald     7.0    Yes\n",
       "2   Richard     8.0    Yes\n",
       "3    Victor     4.7     No\n",
       "4    Walter    10.0    Yes\n",
       "5    Ronald     9.5    Yes\n",
       "6   Rebecca     6.0     No\n",
       "7   Maurice     5.0     No\n",
       "8  Margaret     7.7    Yes"
      ]
     },
     "execution_count": 154,
     "metadata": {},
     "output_type": "execute_result"
    }
   ],
   "source": [
    "# Ejercicio 21\n",
    "names = ['Oswald', 'Richard', 'Victor', 'Walter', 'Ronald', 'Rebecca', 'Maurice', 'Margaret']\n",
    "scores = [7, 8 , 4.7, 10, 9.5, 6, 5, 7.7]\n",
    "df = pd.DataFrame(data=names, columns=['Names'], index = list(range(1,len(names)+1)))\n",
    "df['Scores'] = scores\n",
    "df['Result'] = ['Yes' if score >= 7 else 'No' for score in scores]\n",
    "df"
   ]
  },
  {
   "cell_type": "code",
   "execution_count": 164,
   "id": "e8aa122a",
   "metadata": {},
   "outputs": [
    {
     "name": "stdout",
     "output_type": "stream",
     "text": [
      "                                              Summary:                                              \n",
      "         Scores\n",
      "count   8.00000\n",
      "mean    7.23750\n",
      "std     1.94858\n",
      "min     4.70000\n",
      "25%     5.75000\n",
      "50%     7.35000\n",
      "75%     8.37500\n",
      "max    10.00000\n",
      "\n",
      "Highest score: \n",
      "Names     Walter\n",
      "Scores      10.0\n",
      "Result       Yes\n",
      "dtype: object\n",
      "\n",
      "Lowest score:\n",
      "Names     Margaret\n",
      "Scores         4.7\n",
      "Result          No\n",
      "dtype: object\n",
      "\n",
      "      Names  Scores Result\n",
      "1    Oswald     7.0    Yes\n",
      "2   Richard     8.0    Yes\n",
      "4    Walter    10.0    Yes\n",
      "5    Ronald     9.5    Yes\n",
      "8  Margaret     7.7    Yes\n",
      "\n",
      "     Names  Scores Result\n",
      "2  Richard     8.0    Yes\n",
      "4   Walter    10.0    Yes\n",
      "5   Ronald     9.5    Yes\n"
     ]
    }
   ],
   "source": [
    "# Ejercicio 22\n",
    "approved_students = df[df['Result'] == 'Yes']\n",
    "b = df[df['Scores'] >= 8.]\n",
    "print('Summary:'.center(100, ' '))\n",
    "print(df.describe())\n",
    "print()\n",
    "print(f'Highest score: \\n{df.max()}')\n",
    "print()\n",
    "print(f'Lowest score:\\n{df.min()}')\n",
    "print()\n",
    "print(approved_students)\n",
    "print()\n",
    "print(b)"
   ]
  },
  {
   "cell_type": "code",
   "execution_count": 178,
   "id": "0f53bcdc",
   "metadata": {},
   "outputs": [
    {
     "name": "stdout",
     "output_type": "stream",
     "text": [
      "100\n",
      "5\n",
      "(100, 5)\n",
      "500\n",
      "2\n",
      "----------------------------------------------------------------------------------------------------\n",
      "<class 'pandas.core.frame.DataFrame'>\n",
      "RangeIndex: 100 entries, 1 to 100\n",
      "Data columns (total 5 columns):\n",
      " #   Column  Non-Null Count  Dtype  \n",
      "---  ------  --------------  -----  \n",
      " 0   A       100 non-null    float64\n",
      " 1   B       100 non-null    float64\n",
      " 2   C       100 non-null    float64\n",
      " 3   D       100 non-null    float64\n",
      " 4   E       100 non-null    float64\n",
      "dtypes: float64(5)\n",
      "memory usage: 4.0 KB\n",
      "None\n",
      "----------------------------------------------------------------------------------------------------\n",
      "A    float64\n",
      "B    float64\n",
      "C    float64\n",
      "D    float64\n",
      "E    float64\n",
      "dtype: object\n",
      "----------------------------------------------------------------------------------------------------\n"
     ]
    },
    {
     "data": {
      "text/html": [
       "<div>\n",
       "<style scoped>\n",
       "    .dataframe tbody tr th:only-of-type {\n",
       "        vertical-align: middle;\n",
       "    }\n",
       "\n",
       "    .dataframe tbody tr th {\n",
       "        vertical-align: top;\n",
       "    }\n",
       "\n",
       "    .dataframe thead th {\n",
       "        text-align: right;\n",
       "    }\n",
       "</style>\n",
       "<table border=\"1\" class=\"dataframe\">\n",
       "  <thead>\n",
       "    <tr style=\"text-align: right;\">\n",
       "      <th></th>\n",
       "      <th>A</th>\n",
       "      <th>B</th>\n",
       "      <th>C</th>\n",
       "      <th>D</th>\n",
       "      <th>E</th>\n",
       "    </tr>\n",
       "  </thead>\n",
       "  <tbody>\n",
       "    <tr>\n",
       "      <th>count</th>\n",
       "      <td>100.000000</td>\n",
       "      <td>100.000000</td>\n",
       "      <td>100.000000</td>\n",
       "      <td>100.000000</td>\n",
       "      <td>100.000000</td>\n",
       "    </tr>\n",
       "    <tr>\n",
       "      <th>mean</th>\n",
       "      <td>2.554293</td>\n",
       "      <td>2.437958</td>\n",
       "      <td>2.273728</td>\n",
       "      <td>2.624907</td>\n",
       "      <td>2.590796</td>\n",
       "    </tr>\n",
       "    <tr>\n",
       "      <th>std</th>\n",
       "      <td>1.385532</td>\n",
       "      <td>1.529562</td>\n",
       "      <td>1.349294</td>\n",
       "      <td>1.413250</td>\n",
       "      <td>1.513452</td>\n",
       "    </tr>\n",
       "    <tr>\n",
       "      <th>min</th>\n",
       "      <td>0.051698</td>\n",
       "      <td>0.020248</td>\n",
       "      <td>0.007834</td>\n",
       "      <td>0.004990</td>\n",
       "      <td>0.105595</td>\n",
       "    </tr>\n",
       "    <tr>\n",
       "      <th>25%</th>\n",
       "      <td>1.394806</td>\n",
       "      <td>1.061258</td>\n",
       "      <td>1.260543</td>\n",
       "      <td>1.478506</td>\n",
       "      <td>1.401305</td>\n",
       "    </tr>\n",
       "    <tr>\n",
       "      <th>50%</th>\n",
       "      <td>2.652870</td>\n",
       "      <td>2.386019</td>\n",
       "      <td>2.248559</td>\n",
       "      <td>2.664086</td>\n",
       "      <td>2.657125</td>\n",
       "    </tr>\n",
       "    <tr>\n",
       "      <th>75%</th>\n",
       "      <td>3.632990</td>\n",
       "      <td>3.728747</td>\n",
       "      <td>3.184386</td>\n",
       "      <td>3.859182</td>\n",
       "      <td>3.998022</td>\n",
       "    </tr>\n",
       "    <tr>\n",
       "      <th>max</th>\n",
       "      <td>4.899856</td>\n",
       "      <td>4.968737</td>\n",
       "      <td>4.968727</td>\n",
       "      <td>4.993033</td>\n",
       "      <td>4.976009</td>\n",
       "    </tr>\n",
       "  </tbody>\n",
       "</table>\n",
       "</div>"
      ],
      "text/plain": [
       "                A           B           C           D           E\n",
       "count  100.000000  100.000000  100.000000  100.000000  100.000000\n",
       "mean     2.554293    2.437958    2.273728    2.624907    2.590796\n",
       "std      1.385532    1.529562    1.349294    1.413250    1.513452\n",
       "min      0.051698    0.020248    0.007834    0.004990    0.105595\n",
       "25%      1.394806    1.061258    1.260543    1.478506    1.401305\n",
       "50%      2.652870    2.386019    2.248559    2.664086    2.657125\n",
       "75%      3.632990    3.728747    3.184386    3.859182    3.998022\n",
       "max      4.899856    4.968737    4.968727    4.993033    4.976009"
      ]
     },
     "execution_count": 178,
     "metadata": {},
     "output_type": "execute_result"
    }
   ],
   "source": [
    "# Ejercicio 23\n",
    "data = np.random.uniform(low = 0, high = 5, size = (100,5))\n",
    "df = pd.DataFrame(data, \n",
    "                  index = range(1,data.shape[0]+1), \n",
    "                  columns = list('ABCDE'))  \n",
    "\n",
    "print(df.shape[0])\n",
    "print(df.shape[1])\n",
    "print(df.shape)\n",
    "print(df.size)\n",
    "print(df.ndim)\n",
    "print('-'*100)\n",
    "print(df.info())\n",
    "print('-'*100)\n",
    "print(df.dtypes)\n",
    "print('-'*100)\n",
    "df.describe()"
   ]
  },
  {
   "cell_type": "code",
   "execution_count": null,
   "id": "7e86bdf9",
   "metadata": {},
   "outputs": [],
   "source": [
    "dic = {\n",
    "    'A': [11, 3, 7, 99, 100, 130, 150],\n",
    "    'B': [1.2, 0.5, 1.2, 3.2, 0.9, 1.7, 9.5],\n",
    "    'C': ['A', 'Z', 'W', 'K', 'A', 'Z', 'Z'],\n",
    "    'D': [True, False, True, False, True, False, True],    \n",
    "    'E': ['A', 'A', 'B', 'B', 'A', 'A', 'B'],\n",
    "    'F': [True, True, False, False, True, False, True],}\n",
    "df = pd.dataFrame(dic)"
   ]
  }
 ],
 "metadata": {
  "kernelspec": {
   "display_name": "Python 3 (ipykernel)",
   "language": "python",
   "name": "python3"
  },
  "language_info": {
   "codemirror_mode": {
    "name": "ipython",
    "version": 3
   },
   "file_extension": ".py",
   "mimetype": "text/x-python",
   "name": "python",
   "nbconvert_exporter": "python",
   "pygments_lexer": "ipython3",
   "version": "3.8.8"
  }
 },
 "nbformat": 4,
 "nbformat_minor": 5
}
