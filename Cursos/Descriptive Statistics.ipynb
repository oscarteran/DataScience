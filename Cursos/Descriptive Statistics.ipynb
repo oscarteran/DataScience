{
 "cells": [
  {
   "cell_type": "markdown",
   "id": "49550637",
   "metadata": {},
   "source": [
    "Este notebook contiene los ejercicios de Pandas:\n",
    "\n",
    "        Bootcamp of Data Science with Python [+250 exercises][A-Z]"
   ]
  },
  {
   "cell_type": "code",
   "execution_count": 55,
   "id": "7c10f3e3",
   "metadata": {},
   "outputs": [],
   "source": [
    "import numpy as np\n",
    "import pandas as pd\n",
    "import seaborn as sns\n",
    "import scipy as sc\n",
    "import matplotlib.pyplot as plt"
   ]
  },
  {
   "cell_type": "code",
   "execution_count": 2,
   "id": "ea94dda2",
   "metadata": {},
   "outputs": [
    {
     "data": {
      "text/html": [
       "<div>\n",
       "<style scoped>\n",
       "    .dataframe tbody tr th:only-of-type {\n",
       "        vertical-align: middle;\n",
       "    }\n",
       "\n",
       "    .dataframe tbody tr th {\n",
       "        vertical-align: top;\n",
       "    }\n",
       "\n",
       "    .dataframe thead th {\n",
       "        text-align: right;\n",
       "    }\n",
       "</style>\n",
       "<table border=\"1\" class=\"dataframe\">\n",
       "  <thead>\n",
       "    <tr style=\"text-align: right;\">\n",
       "      <th></th>\n",
       "      <th>Abacate</th>\n",
       "      <th>Açaí</th>\n",
       "      <th>Banana</th>\n",
       "      <th>Cacau</th>\n",
       "      <th>Laranja</th>\n",
       "      <th>Maçã</th>\n",
       "      <th>Mamão</th>\n",
       "      <th>Manga</th>\n",
       "    </tr>\n",
       "  </thead>\n",
       "  <tbody>\n",
       "    <tr>\n",
       "      <th>2017</th>\n",
       "      <td>212873</td>\n",
       "      <td>1335040</td>\n",
       "      <td>6584967</td>\n",
       "      <td>235809</td>\n",
       "      <td>17492882</td>\n",
       "      <td>1307642</td>\n",
       "      <td>1058487</td>\n",
       "      <td>1089882</td>\n",
       "    </tr>\n",
       "    <tr>\n",
       "      <th>2018</th>\n",
       "      <td>236177</td>\n",
       "      <td>1301472</td>\n",
       "      <td>6723590</td>\n",
       "      <td>239318</td>\n",
       "      <td>16841549</td>\n",
       "      <td>1203007</td>\n",
       "      <td>1065421</td>\n",
       "      <td>1320458</td>\n",
       "    </tr>\n",
       "    <tr>\n",
       "      <th>2019</th>\n",
       "      <td>242932</td>\n",
       "      <td>1398328</td>\n",
       "      <td>6812708</td>\n",
       "      <td>259425</td>\n",
       "      <td>17073593</td>\n",
       "      <td>1222970</td>\n",
       "      <td>1161808</td>\n",
       "      <td>1414338</td>\n",
       "    </tr>\n",
       "  </tbody>\n",
       "</table>\n",
       "</div>"
      ],
      "text/plain": [
       "      Abacate     Açaí   Banana   Cacau   Laranja     Maçã    Mamão    Manga\n",
       "2017   212873  1335040  6584967  235809  17492882  1307642  1058487  1089882\n",
       "2018   236177  1301472  6723590  239318  16841549  1203007  1065421  1320458\n",
       "2019   242932  1398328  6812708  259425  17073593  1222970  1161808  1414338"
      ]
     },
     "execution_count": 2,
     "metadata": {},
     "output_type": "execute_result"
    }
   ],
   "source": [
    "# Ejercicio 1\n",
    "dados = {\n",
    "    'Abacate':{\n",
    "        2017: 212873,\n",
    "        2018: 236177,\n",
    "        2019: 242932\n",
    "    },    \n",
    "    'Açaí':{\n",
    "        2017:1335040,\n",
    "        2018:1301472,\n",
    "        2019:1398328\n",
    "    },\n",
    "    'Banana':{\n",
    "        2017:6584967,\n",
    "        2018:6723590,\n",
    "        2019:6812708\n",
    "    },    \n",
    "    'Cacau':{\n",
    "        2017:235809,\n",
    "        2018:239318,\n",
    "        2019:259425\n",
    "    },    \n",
    "    'Laranja':{\n",
    "        2017:17492882,\n",
    "        2018:16841549,\n",
    "        2019:17073593\n",
    "    },    \n",
    "    'Maçã':{\n",
    "        2017:1307642,\n",
    "        2018:1203007,\n",
    "        2019:1222970\n",
    "    },\n",
    "    'Mamão':{\n",
    "        2017:1058487,\n",
    "        2018:1065421,\n",
    "        2019:1161808\n",
    "    },    \n",
    "    'Manga':{\n",
    "        2017:1089882,\n",
    "        2018:1320458,\n",
    "        2019:1414338\n",
    "    },\n",
    " \n",
    "}\n",
    "datos = pd.DataFrame(dados)\n",
    "datos"
   ]
  },
  {
   "cell_type": "code",
   "execution_count": 3,
   "id": "8ff509f9",
   "metadata": {},
   "outputs": [
    {
     "data": {
      "text/plain": [
       "2017    29317582\n",
       "2018    28930992\n",
       "2019    29586102\n",
       "dtype: int64"
      ]
     },
     "execution_count": 3,
     "metadata": {},
     "output_type": "execute_result"
    }
   ],
   "source": [
    "datos.sum(axis=1)"
   ]
  },
  {
   "cell_type": "code",
   "execution_count": 4,
   "id": "ed48a5a6",
   "metadata": {},
   "outputs": [
    {
     "data": {
      "text/plain": [
       "Abacate      691982\n",
       "Açaí        4034840\n",
       "Banana     20121265\n",
       "Cacau        734552\n",
       "Laranja    51408024\n",
       "Maçã        3733619\n",
       "Mamão       3285716\n",
       "Manga       3824678\n",
       "dtype: int64"
      ]
     },
     "execution_count": 4,
     "metadata": {},
     "output_type": "execute_result"
    }
   ],
   "source": [
    "datos.sum(axis=0)"
   ]
  },
  {
   "cell_type": "code",
   "execution_count": 5,
   "id": "299d0e3a",
   "metadata": {},
   "outputs": [
    {
     "data": {
      "text/html": [
       "<div>\n",
       "<style scoped>\n",
       "    .dataframe tbody tr th:only-of-type {\n",
       "        vertical-align: middle;\n",
       "    }\n",
       "\n",
       "    .dataframe tbody tr th {\n",
       "        vertical-align: top;\n",
       "    }\n",
       "\n",
       "    .dataframe thead th {\n",
       "        text-align: right;\n",
       "    }\n",
       "</style>\n",
       "<table border=\"1\" class=\"dataframe\">\n",
       "  <thead>\n",
       "    <tr style=\"text-align: right;\">\n",
       "      <th></th>\n",
       "      <th>Abacate</th>\n",
       "      <th>Açaí</th>\n",
       "      <th>Banana</th>\n",
       "      <th>Cacau</th>\n",
       "      <th>Laranja</th>\n",
       "      <th>Maçã</th>\n",
       "      <th>Mamão</th>\n",
       "      <th>Manga</th>\n",
       "    </tr>\n",
       "  </thead>\n",
       "  <tbody>\n",
       "    <tr>\n",
       "      <th>count</th>\n",
       "      <td>3.000000</td>\n",
       "      <td>3.000000e+00</td>\n",
       "      <td>3.000000e+00</td>\n",
       "      <td>3.000000</td>\n",
       "      <td>3.000000e+00</td>\n",
       "      <td>3.000000e+00</td>\n",
       "      <td>3.000000e+00</td>\n",
       "      <td>3.000000e+00</td>\n",
       "    </tr>\n",
       "    <tr>\n",
       "      <th>mean</th>\n",
       "      <td>230660.666667</td>\n",
       "      <td>1.344947e+06</td>\n",
       "      <td>6.707088e+06</td>\n",
       "      <td>244850.666667</td>\n",
       "      <td>1.713601e+07</td>\n",
       "      <td>1.244540e+06</td>\n",
       "      <td>1.095239e+06</td>\n",
       "      <td>1.274893e+06</td>\n",
       "    </tr>\n",
       "    <tr>\n",
       "      <th>std</th>\n",
       "      <td>15770.488906</td>\n",
       "      <td>4.918209e+04</td>\n",
       "      <td>1.147638e+05</td>\n",
       "      <td>12743.102618</td>\n",
       "      <td>3.301218e+05</td>\n",
       "      <td>5.555231e+04</td>\n",
       "      <td>5.775489e+04</td>\n",
       "      <td>1.669583e+05</td>\n",
       "    </tr>\n",
       "    <tr>\n",
       "      <th>min</th>\n",
       "      <td>212873.000000</td>\n",
       "      <td>1.301472e+06</td>\n",
       "      <td>6.584967e+06</td>\n",
       "      <td>235809.000000</td>\n",
       "      <td>1.684155e+07</td>\n",
       "      <td>1.203007e+06</td>\n",
       "      <td>1.058487e+06</td>\n",
       "      <td>1.089882e+06</td>\n",
       "    </tr>\n",
       "    <tr>\n",
       "      <th>25%</th>\n",
       "      <td>224525.000000</td>\n",
       "      <td>1.318256e+06</td>\n",
       "      <td>6.654278e+06</td>\n",
       "      <td>237563.500000</td>\n",
       "      <td>1.695757e+07</td>\n",
       "      <td>1.212988e+06</td>\n",
       "      <td>1.061954e+06</td>\n",
       "      <td>1.205170e+06</td>\n",
       "    </tr>\n",
       "    <tr>\n",
       "      <th>50%</th>\n",
       "      <td>236177.000000</td>\n",
       "      <td>1.335040e+06</td>\n",
       "      <td>6.723590e+06</td>\n",
       "      <td>239318.000000</td>\n",
       "      <td>1.707359e+07</td>\n",
       "      <td>1.222970e+06</td>\n",
       "      <td>1.065421e+06</td>\n",
       "      <td>1.320458e+06</td>\n",
       "    </tr>\n",
       "    <tr>\n",
       "      <th>75%</th>\n",
       "      <td>239554.500000</td>\n",
       "      <td>1.366684e+06</td>\n",
       "      <td>6.768149e+06</td>\n",
       "      <td>249371.500000</td>\n",
       "      <td>1.728324e+07</td>\n",
       "      <td>1.265306e+06</td>\n",
       "      <td>1.113614e+06</td>\n",
       "      <td>1.367398e+06</td>\n",
       "    </tr>\n",
       "    <tr>\n",
       "      <th>max</th>\n",
       "      <td>242932.000000</td>\n",
       "      <td>1.398328e+06</td>\n",
       "      <td>6.812708e+06</td>\n",
       "      <td>259425.000000</td>\n",
       "      <td>1.749288e+07</td>\n",
       "      <td>1.307642e+06</td>\n",
       "      <td>1.161808e+06</td>\n",
       "      <td>1.414338e+06</td>\n",
       "    </tr>\n",
       "  </tbody>\n",
       "</table>\n",
       "</div>"
      ],
      "text/plain": [
       "             Abacate          Açaí        Banana          Cacau       Laranja  \\\n",
       "count       3.000000  3.000000e+00  3.000000e+00       3.000000  3.000000e+00   \n",
       "mean   230660.666667  1.344947e+06  6.707088e+06  244850.666667  1.713601e+07   \n",
       "std     15770.488906  4.918209e+04  1.147638e+05   12743.102618  3.301218e+05   \n",
       "min    212873.000000  1.301472e+06  6.584967e+06  235809.000000  1.684155e+07   \n",
       "25%    224525.000000  1.318256e+06  6.654278e+06  237563.500000  1.695757e+07   \n",
       "50%    236177.000000  1.335040e+06  6.723590e+06  239318.000000  1.707359e+07   \n",
       "75%    239554.500000  1.366684e+06  6.768149e+06  249371.500000  1.728324e+07   \n",
       "max    242932.000000  1.398328e+06  6.812708e+06  259425.000000  1.749288e+07   \n",
       "\n",
       "               Maçã         Mamão         Manga  \n",
       "count  3.000000e+00  3.000000e+00  3.000000e+00  \n",
       "mean   1.244540e+06  1.095239e+06  1.274893e+06  \n",
       "std    5.555231e+04  5.775489e+04  1.669583e+05  \n",
       "min    1.203007e+06  1.058487e+06  1.089882e+06  \n",
       "25%    1.212988e+06  1.061954e+06  1.205170e+06  \n",
       "50%    1.222970e+06  1.065421e+06  1.320458e+06  \n",
       "75%    1.265306e+06  1.113614e+06  1.367398e+06  \n",
       "max    1.307642e+06  1.161808e+06  1.414338e+06  "
      ]
     },
     "execution_count": 5,
     "metadata": {},
     "output_type": "execute_result"
    }
   ],
   "source": [
    "datos.describe()"
   ]
  },
  {
   "cell_type": "code",
   "execution_count": 6,
   "id": "d1797dd5",
   "metadata": {},
   "outputs": [],
   "source": [
    "datos.to_csv('Braz_Food.csv', index=False, sep= ' ')"
   ]
  },
  {
   "cell_type": "code",
   "execution_count": 7,
   "id": "595f1e08",
   "metadata": {},
   "outputs": [
    {
     "data": {
      "text/plain": [
       "2017    3664697.75\n",
       "2018    3616374.00\n",
       "2019    3698262.75\n",
       "dtype: float64"
      ]
     },
     "execution_count": 7,
     "metadata": {},
     "output_type": "execute_result"
    }
   ],
   "source": [
    "# Ejercicio 2\n",
    "datos.mean(axis=1)"
   ]
  },
  {
   "cell_type": "code",
   "execution_count": 8,
   "id": "d2a2cf3d",
   "metadata": {},
   "outputs": [
    {
     "data": {
      "text/plain": [
       "Abacate    2.306607e+05\n",
       "Açaí       1.344947e+06\n",
       "Banana     6.707088e+06\n",
       "Cacau      2.448507e+05\n",
       "Laranja    1.713601e+07\n",
       "Maçã       1.244540e+06\n",
       "Mamão      1.095239e+06\n",
       "Manga      1.274893e+06\n",
       "dtype: float64"
      ]
     },
     "execution_count": 8,
     "metadata": {},
     "output_type": "execute_result"
    }
   ],
   "source": [
    "datos.mean(axis=0)"
   ]
  },
  {
   "cell_type": "code",
   "execution_count": 9,
   "id": "c6650742",
   "metadata": {},
   "outputs": [
    {
     "data": {
      "text/plain": [
       "2017    5.950079e+06\n",
       "2018    5.736500e+06\n",
       "2019    5.799394e+06\n",
       "dtype: float64"
      ]
     },
     "execution_count": 9,
     "metadata": {},
     "output_type": "execute_result"
    }
   ],
   "source": [
    "datos.std(axis=1)"
   ]
  },
  {
   "cell_type": "code",
   "execution_count": 10,
   "id": "6b6e00ad",
   "metadata": {},
   "outputs": [
    {
     "data": {
      "text/plain": [
       "Abacate     15770.488906\n",
       "Açaí        49182.087363\n",
       "Banana     114763.755264\n",
       "Cacau       12743.102618\n",
       "Laranja    330121.785696\n",
       "Maçã        55552.305950\n",
       "Mamão       57754.888921\n",
       "Manga      166958.299241\n",
       "dtype: float64"
      ]
     },
     "execution_count": 10,
     "metadata": {},
     "output_type": "execute_result"
    }
   ],
   "source": [
    "datos.std(axis=0)"
   ]
  },
  {
   "cell_type": "code",
   "execution_count": 11,
   "id": "0481e9b7",
   "metadata": {},
   "outputs": [
    {
     "data": {
      "text/plain": [
       "Abacate    2.487083e+08\n",
       "Açaí       2.418878e+09\n",
       "Banana     1.317072e+10\n",
       "Cacau      1.623867e+08\n",
       "Laranja    1.089804e+11\n",
       "Maçã       3.086059e+09\n",
       "Mamão      3.335627e+09\n",
       "Manga      2.787507e+10\n",
       "dtype: float64"
      ]
     },
     "execution_count": 11,
     "metadata": {},
     "output_type": "execute_result"
    }
   ],
   "source": [
    "datos.var()"
   ]
  },
  {
   "cell_type": "code",
   "execution_count": 12,
   "id": "45a22a8b",
   "metadata": {},
   "outputs": [
    {
     "data": {
      "text/html": [
       "<div>\n",
       "<style scoped>\n",
       "    .dataframe tbody tr th:only-of-type {\n",
       "        vertical-align: middle;\n",
       "    }\n",
       "\n",
       "    .dataframe tbody tr th {\n",
       "        vertical-align: top;\n",
       "    }\n",
       "\n",
       "    .dataframe thead th {\n",
       "        text-align: right;\n",
       "    }\n",
       "</style>\n",
       "<table border=\"1\" class=\"dataframe\">\n",
       "  <thead>\n",
       "    <tr style=\"text-align: right;\">\n",
       "      <th></th>\n",
       "      <th>Daily Sales</th>\n",
       "    </tr>\n",
       "  </thead>\n",
       "  <tbody>\n",
       "    <tr>\n",
       "      <th>2020-12-01</th>\n",
       "      <td>5.0</td>\n",
       "    </tr>\n",
       "    <tr>\n",
       "      <th>2020-12-02</th>\n",
       "      <td>3.0</td>\n",
       "    </tr>\n",
       "    <tr>\n",
       "      <th>2020-12-03</th>\n",
       "      <td>8.0</td>\n",
       "    </tr>\n",
       "    <tr>\n",
       "      <th>2020-12-04</th>\n",
       "      <td>13.0</td>\n",
       "    </tr>\n",
       "    <tr>\n",
       "      <th>2020-12-05</th>\n",
       "      <td>7.0</td>\n",
       "    </tr>\n",
       "    <tr>\n",
       "      <th>2020-12-06</th>\n",
       "      <td>8.0</td>\n",
       "    </tr>\n",
       "    <tr>\n",
       "      <th>2020-12-07</th>\n",
       "      <td>16.0</td>\n",
       "    </tr>\n",
       "    <tr>\n",
       "      <th>2020-12-08</th>\n",
       "      <td>13.0</td>\n",
       "    </tr>\n",
       "    <tr>\n",
       "      <th>2020-12-09</th>\n",
       "      <td>9.0</td>\n",
       "    </tr>\n",
       "    <tr>\n",
       "      <th>2020-12-10</th>\n",
       "      <td>12.0</td>\n",
       "    </tr>\n",
       "  </tbody>\n",
       "</table>\n",
       "</div>"
      ],
      "text/plain": [
       "            Daily Sales\n",
       "2020-12-01          5.0\n",
       "2020-12-02          3.0\n",
       "2020-12-03          8.0\n",
       "2020-12-04         13.0\n",
       "2020-12-05          7.0\n",
       "2020-12-06          8.0\n",
       "2020-12-07         16.0\n",
       "2020-12-08         13.0\n",
       "2020-12-09          9.0\n",
       "2020-12-10         12.0"
      ]
     },
     "execution_count": 12,
     "metadata": {},
     "output_type": "execute_result"
    }
   ],
   "source": [
    "# Ejercicio 3\n",
    "datos2 = pd.DataFrame(data=np.random.normal(10,3,10).round(), \n",
    "                      columns=['Daily Sales'],\n",
    "                      index=pd.date_range(start='12-1-2020', periods=10, freq='D'))\n",
    "datos2"
   ]
  },
  {
   "cell_type": "code",
   "execution_count": 13,
   "id": "8bc1e220",
   "metadata": {},
   "outputs": [
    {
     "data": {
      "text/html": [
       "<div>\n",
       "<style scoped>\n",
       "    .dataframe tbody tr th:only-of-type {\n",
       "        vertical-align: middle;\n",
       "    }\n",
       "\n",
       "    .dataframe tbody tr th {\n",
       "        vertical-align: top;\n",
       "    }\n",
       "\n",
       "    .dataframe thead th {\n",
       "        text-align: right;\n",
       "    }\n",
       "</style>\n",
       "<table border=\"1\" class=\"dataframe\">\n",
       "  <thead>\n",
       "    <tr style=\"text-align: right;\">\n",
       "      <th></th>\n",
       "      <th>count</th>\n",
       "      <th>mean</th>\n",
       "      <th>std</th>\n",
       "      <th>min</th>\n",
       "      <th>25%</th>\n",
       "      <th>50%</th>\n",
       "      <th>75%</th>\n",
       "      <th>max</th>\n",
       "    </tr>\n",
       "  </thead>\n",
       "  <tbody>\n",
       "    <tr>\n",
       "      <th>Daily Sales</th>\n",
       "      <td>10.0</td>\n",
       "      <td>9.4</td>\n",
       "      <td>4.033196</td>\n",
       "      <td>3.0</td>\n",
       "      <td>7.25</td>\n",
       "      <td>8.5</td>\n",
       "      <td>12.75</td>\n",
       "      <td>16.0</td>\n",
       "    </tr>\n",
       "  </tbody>\n",
       "</table>\n",
       "</div>"
      ],
      "text/plain": [
       "             count  mean       std  min   25%  50%    75%   max\n",
       "Daily Sales   10.0   9.4  4.033196  3.0  7.25  8.5  12.75  16.0"
      ]
     },
     "execution_count": 13,
     "metadata": {},
     "output_type": "execute_result"
    }
   ],
   "source": [
    "datos2.describe().T"
   ]
  },
  {
   "cell_type": "code",
   "execution_count": 14,
   "id": "2dc3c4ed",
   "metadata": {},
   "outputs": [
    {
     "name": "stdout",
     "output_type": "stream",
     "text": [
      "Daily Sales    16.266667\n",
      "dtype: float64\n",
      "   Daily Sales\n",
      "0          8.0\n",
      "1         13.0\n",
      "Daily Sales    94.0\n",
      "dtype: float64\n"
     ]
    }
   ],
   "source": [
    "print(datos2.var())\n",
    "print(datos2.mode())\n",
    "print(datos2.sum())"
   ]
  },
  {
   "cell_type": "code",
   "execution_count": 15,
   "id": "f5617064",
   "metadata": {},
   "outputs": [
    {
     "name": "stdout",
     "output_type": "stream",
     "text": [
      "Daily Sales    3.0\n",
      "Name: 2020-12-02 00:00:00, dtype: float64\n",
      "Daily Sales    16.0\n",
      "Name: 2020-12-07 00:00:00, dtype: float64\n"
     ]
    }
   ],
   "source": [
    "print(datos2.loc[datos2['Daily Sales'].idxmin()])\n",
    "print(datos2.loc[datos2['Daily Sales'].idxmax()])"
   ]
  },
  {
   "cell_type": "code",
   "execution_count": 16,
   "id": "fccd7ea4",
   "metadata": {},
   "outputs": [
    {
     "data": {
      "text/html": [
       "<div>\n",
       "<style scoped>\n",
       "    .dataframe tbody tr th:only-of-type {\n",
       "        vertical-align: middle;\n",
       "    }\n",
       "\n",
       "    .dataframe tbody tr th {\n",
       "        vertical-align: top;\n",
       "    }\n",
       "\n",
       "    .dataframe thead th {\n",
       "        text-align: right;\n",
       "    }\n",
       "</style>\n",
       "<table border=\"1\" class=\"dataframe\">\n",
       "  <thead>\n",
       "    <tr style=\"text-align: right;\">\n",
       "      <th></th>\n",
       "      <th>Product</th>\n",
       "      <th>Age</th>\n",
       "      <th>Gender</th>\n",
       "      <th>Education</th>\n",
       "      <th>MaritalStatus</th>\n",
       "      <th>Usage</th>\n",
       "      <th>Fitness</th>\n",
       "      <th>Income</th>\n",
       "      <th>Miles</th>\n",
       "    </tr>\n",
       "  </thead>\n",
       "  <tbody>\n",
       "    <tr>\n",
       "      <th>0</th>\n",
       "      <td>TM195</td>\n",
       "      <td>18</td>\n",
       "      <td>Male</td>\n",
       "      <td>14</td>\n",
       "      <td>Single</td>\n",
       "      <td>3</td>\n",
       "      <td>4</td>\n",
       "      <td>29562</td>\n",
       "      <td>112</td>\n",
       "    </tr>\n",
       "    <tr>\n",
       "      <th>1</th>\n",
       "      <td>TM195</td>\n",
       "      <td>19</td>\n",
       "      <td>Male</td>\n",
       "      <td>15</td>\n",
       "      <td>Single</td>\n",
       "      <td>2</td>\n",
       "      <td>3</td>\n",
       "      <td>31836</td>\n",
       "      <td>75</td>\n",
       "    </tr>\n",
       "    <tr>\n",
       "      <th>2</th>\n",
       "      <td>TM195</td>\n",
       "      <td>19</td>\n",
       "      <td>Female</td>\n",
       "      <td>14</td>\n",
       "      <td>Partnered</td>\n",
       "      <td>4</td>\n",
       "      <td>3</td>\n",
       "      <td>30699</td>\n",
       "      <td>66</td>\n",
       "    </tr>\n",
       "    <tr>\n",
       "      <th>3</th>\n",
       "      <td>TM195</td>\n",
       "      <td>19</td>\n",
       "      <td>Male</td>\n",
       "      <td>12</td>\n",
       "      <td>Single</td>\n",
       "      <td>3</td>\n",
       "      <td>3</td>\n",
       "      <td>32973</td>\n",
       "      <td>85</td>\n",
       "    </tr>\n",
       "    <tr>\n",
       "      <th>4</th>\n",
       "      <td>TM195</td>\n",
       "      <td>20</td>\n",
       "      <td>Male</td>\n",
       "      <td>13</td>\n",
       "      <td>Partnered</td>\n",
       "      <td>4</td>\n",
       "      <td>2</td>\n",
       "      <td>35247</td>\n",
       "      <td>47</td>\n",
       "    </tr>\n",
       "    <tr>\n",
       "      <th>...</th>\n",
       "      <td>...</td>\n",
       "      <td>...</td>\n",
       "      <td>...</td>\n",
       "      <td>...</td>\n",
       "      <td>...</td>\n",
       "      <td>...</td>\n",
       "      <td>...</td>\n",
       "      <td>...</td>\n",
       "      <td>...</td>\n",
       "    </tr>\n",
       "    <tr>\n",
       "      <th>175</th>\n",
       "      <td>TM798</td>\n",
       "      <td>40</td>\n",
       "      <td>Male</td>\n",
       "      <td>21</td>\n",
       "      <td>Single</td>\n",
       "      <td>6</td>\n",
       "      <td>5</td>\n",
       "      <td>83416</td>\n",
       "      <td>200</td>\n",
       "    </tr>\n",
       "    <tr>\n",
       "      <th>176</th>\n",
       "      <td>TM798</td>\n",
       "      <td>42</td>\n",
       "      <td>Male</td>\n",
       "      <td>18</td>\n",
       "      <td>Single</td>\n",
       "      <td>5</td>\n",
       "      <td>4</td>\n",
       "      <td>89641</td>\n",
       "      <td>200</td>\n",
       "    </tr>\n",
       "    <tr>\n",
       "      <th>177</th>\n",
       "      <td>TM798</td>\n",
       "      <td>45</td>\n",
       "      <td>Male</td>\n",
       "      <td>16</td>\n",
       "      <td>Single</td>\n",
       "      <td>5</td>\n",
       "      <td>5</td>\n",
       "      <td>90886</td>\n",
       "      <td>160</td>\n",
       "    </tr>\n",
       "    <tr>\n",
       "      <th>178</th>\n",
       "      <td>TM798</td>\n",
       "      <td>47</td>\n",
       "      <td>Male</td>\n",
       "      <td>18</td>\n",
       "      <td>Partnered</td>\n",
       "      <td>4</td>\n",
       "      <td>5</td>\n",
       "      <td>104581</td>\n",
       "      <td>120</td>\n",
       "    </tr>\n",
       "    <tr>\n",
       "      <th>179</th>\n",
       "      <td>TM798</td>\n",
       "      <td>48</td>\n",
       "      <td>Male</td>\n",
       "      <td>18</td>\n",
       "      <td>Partnered</td>\n",
       "      <td>4</td>\n",
       "      <td>5</td>\n",
       "      <td>95508</td>\n",
       "      <td>180</td>\n",
       "    </tr>\n",
       "  </tbody>\n",
       "</table>\n",
       "<p>180 rows × 9 columns</p>\n",
       "</div>"
      ],
      "text/plain": [
       "    Product  Age  Gender  Education MaritalStatus  Usage  Fitness  Income  \\\n",
       "0     TM195   18    Male         14        Single      3        4   29562   \n",
       "1     TM195   19    Male         15        Single      2        3   31836   \n",
       "2     TM195   19  Female         14     Partnered      4        3   30699   \n",
       "3     TM195   19    Male         12        Single      3        3   32973   \n",
       "4     TM195   20    Male         13     Partnered      4        2   35247   \n",
       "..      ...  ...     ...        ...           ...    ...      ...     ...   \n",
       "175   TM798   40    Male         21        Single      6        5   83416   \n",
       "176   TM798   42    Male         18        Single      5        4   89641   \n",
       "177   TM798   45    Male         16        Single      5        5   90886   \n",
       "178   TM798   47    Male         18     Partnered      4        5  104581   \n",
       "179   TM798   48    Male         18     Partnered      4        5   95508   \n",
       "\n",
       "     Miles  \n",
       "0      112  \n",
       "1       75  \n",
       "2       66  \n",
       "3       85  \n",
       "4       47  \n",
       "..     ...  \n",
       "175    200  \n",
       "176    200  \n",
       "177    160  \n",
       "178    120  \n",
       "179    180  \n",
       "\n",
       "[180 rows x 9 columns]"
      ]
     },
     "execution_count": 16,
     "metadata": {},
     "output_type": "execute_result"
    }
   ],
   "source": [
    "# Ejercicio 4\n",
    "datos3 = pd.read_csv('CardioGoodFitness.csv')\n",
    "datos3"
   ]
  },
  {
   "cell_type": "code",
   "execution_count": 18,
   "id": "80d9b450",
   "metadata": {},
   "outputs": [
    {
     "data": {
      "text/plain": [
       "Product          0\n",
       "Age              0\n",
       "Gender           0\n",
       "Education        0\n",
       "MaritalStatus    0\n",
       "Usage            0\n",
       "Fitness          0\n",
       "Income           0\n",
       "Miles            0\n",
       "dtype: int64"
      ]
     },
     "execution_count": 18,
     "metadata": {},
     "output_type": "execute_result"
    }
   ],
   "source": [
    "# Ejercicio 5\n",
    "datos3.isna().sum()"
   ]
  },
  {
   "cell_type": "code",
   "execution_count": 23,
   "id": "ac1d912f",
   "metadata": {},
   "outputs": [
    {
     "data": {
      "text/plain": [
       "25    25\n",
       "23    18\n",
       "24    12\n",
       "26    12\n",
       "28     9\n",
       "35     8\n",
       "33     8\n",
       "30     7\n",
       "38     7\n",
       "21     7\n",
       "22     7\n",
       "27     7\n",
       "31     6\n",
       "34     6\n",
       "29     6\n",
       "40     5\n",
       "20     5\n",
       "32     4\n",
       "19     4\n",
       "48     2\n",
       "37     2\n",
       "47     2\n",
       "45     2\n",
       "44     1\n",
       "46     1\n",
       "18     1\n",
       "43     1\n",
       "42     1\n",
       "41     1\n",
       "39     1\n",
       "36     1\n",
       "50     1\n",
       "Name: Age, dtype: int64"
      ]
     },
     "execution_count": 23,
     "metadata": {},
     "output_type": "execute_result"
    }
   ],
   "source": [
    "# Ejercicio 6\n",
    "datos3['Age'].value_counts().sort_values(ascending=False)"
   ]
  },
  {
   "cell_type": "code",
   "execution_count": 33,
   "id": "3d3f5405",
   "metadata": {},
   "outputs": [
    {
     "name": "stdout",
     "output_type": "stream",
     "text": [
      "28.951923076923077 , 7.377978000283422\n",
      "28.56578947368421 , 6.342103807235766\n"
     ]
    }
   ],
   "source": [
    "Male = datos3[datos3['Gender'] == 'Male']\n",
    "Female = datos3[datos3['Gender'] == 'Female']\n",
    "print(Male['Age'].mean(), ',',Male['Age'].std())\n",
    "print(Female['Age'].mean(), ',',Female['Age'].std())"
   ]
  },
  {
   "cell_type": "code",
   "execution_count": 34,
   "id": "abdbc52a",
   "metadata": {},
   "outputs": [
    {
     "data": {
      "text/plain": [
       "Male      104\n",
       "Female     76\n",
       "Name: Gender, dtype: int64"
      ]
     },
     "execution_count": 34,
     "metadata": {},
     "output_type": "execute_result"
    }
   ],
   "source": [
    "datos3['Gender'].value_counts()"
   ]
  },
  {
   "cell_type": "code",
   "execution_count": 35,
   "id": "fd9d9fa4",
   "metadata": {},
   "outputs": [
    {
     "data": {
      "text/plain": [
       "Partnered    107\n",
       "Single        73\n",
       "Name: MaritalStatus, dtype: int64"
      ]
     },
     "execution_count": 35,
     "metadata": {},
     "output_type": "execute_result"
    }
   ],
   "source": [
    "datos3['MaritalStatus'].value_counts()"
   ]
  },
  {
   "cell_type": "code",
   "execution_count": 38,
   "id": "5ac37d5a",
   "metadata": {},
   "outputs": [
    {
     "data": {
      "text/plain": [
       "16    50\n",
       "14    25\n",
       "18    16\n",
       "13     4\n",
       "12     3\n",
       "15     3\n",
       "21     2\n",
       "20     1\n",
       "Name: Education, dtype: int64"
      ]
     },
     "execution_count": 38,
     "metadata": {},
     "output_type": "execute_result"
    }
   ],
   "source": [
    "Male['Education'].value_counts()"
   ]
  },
  {
   "cell_type": "code",
   "execution_count": 39,
   "id": "9bdd154d",
   "metadata": {},
   "outputs": [
    {
     "data": {
      "text/plain": [
       "16    35\n",
       "14    30\n",
       "18     7\n",
       "15     2\n",
       "13     1\n",
       "21     1\n",
       "Name: Education, dtype: int64"
      ]
     },
     "execution_count": 39,
     "metadata": {},
     "output_type": "execute_result"
    }
   ],
   "source": [
    "Female['Education'].value_counts()"
   ]
  },
  {
   "cell_type": "code",
   "execution_count": 40,
   "id": "22c40459",
   "metadata": {},
   "outputs": [
    {
     "data": {
      "text/html": [
       "<div>\n",
       "<style scoped>\n",
       "    .dataframe tbody tr th:only-of-type {\n",
       "        vertical-align: middle;\n",
       "    }\n",
       "\n",
       "    .dataframe tbody tr th {\n",
       "        vertical-align: top;\n",
       "    }\n",
       "\n",
       "    .dataframe thead th {\n",
       "        text-align: right;\n",
       "    }\n",
       "</style>\n",
       "<table border=\"1\" class=\"dataframe\">\n",
       "  <thead>\n",
       "    <tr style=\"text-align: right;\">\n",
       "      <th></th>\n",
       "      <th>Age</th>\n",
       "      <th>Education</th>\n",
       "      <th>Usage</th>\n",
       "      <th>Fitness</th>\n",
       "      <th>Income</th>\n",
       "      <th>Miles</th>\n",
       "    </tr>\n",
       "  </thead>\n",
       "  <tbody>\n",
       "    <tr>\n",
       "      <th>Age</th>\n",
       "      <td>1.000000</td>\n",
       "      <td>0.280496</td>\n",
       "      <td>0.015064</td>\n",
       "      <td>0.061105</td>\n",
       "      <td>0.513414</td>\n",
       "      <td>0.036618</td>\n",
       "    </tr>\n",
       "    <tr>\n",
       "      <th>Education</th>\n",
       "      <td>0.280496</td>\n",
       "      <td>1.000000</td>\n",
       "      <td>0.395155</td>\n",
       "      <td>0.410581</td>\n",
       "      <td>0.625827</td>\n",
       "      <td>0.307284</td>\n",
       "    </tr>\n",
       "    <tr>\n",
       "      <th>Usage</th>\n",
       "      <td>0.015064</td>\n",
       "      <td>0.395155</td>\n",
       "      <td>1.000000</td>\n",
       "      <td>0.668606</td>\n",
       "      <td>0.519537</td>\n",
       "      <td>0.759130</td>\n",
       "    </tr>\n",
       "    <tr>\n",
       "      <th>Fitness</th>\n",
       "      <td>0.061105</td>\n",
       "      <td>0.410581</td>\n",
       "      <td>0.668606</td>\n",
       "      <td>1.000000</td>\n",
       "      <td>0.535005</td>\n",
       "      <td>0.785702</td>\n",
       "    </tr>\n",
       "    <tr>\n",
       "      <th>Income</th>\n",
       "      <td>0.513414</td>\n",
       "      <td>0.625827</td>\n",
       "      <td>0.519537</td>\n",
       "      <td>0.535005</td>\n",
       "      <td>1.000000</td>\n",
       "      <td>0.543473</td>\n",
       "    </tr>\n",
       "    <tr>\n",
       "      <th>Miles</th>\n",
       "      <td>0.036618</td>\n",
       "      <td>0.307284</td>\n",
       "      <td>0.759130</td>\n",
       "      <td>0.785702</td>\n",
       "      <td>0.543473</td>\n",
       "      <td>1.000000</td>\n",
       "    </tr>\n",
       "  </tbody>\n",
       "</table>\n",
       "</div>"
      ],
      "text/plain": [
       "                Age  Education     Usage   Fitness    Income     Miles\n",
       "Age        1.000000   0.280496  0.015064  0.061105  0.513414  0.036618\n",
       "Education  0.280496   1.000000  0.395155  0.410581  0.625827  0.307284\n",
       "Usage      0.015064   0.395155  1.000000  0.668606  0.519537  0.759130\n",
       "Fitness    0.061105   0.410581  0.668606  1.000000  0.535005  0.785702\n",
       "Income     0.513414   0.625827  0.519537  0.535005  1.000000  0.543473\n",
       "Miles      0.036618   0.307284  0.759130  0.785702  0.543473  1.000000"
      ]
     },
     "execution_count": 40,
     "metadata": {},
     "output_type": "execute_result"
    }
   ],
   "source": [
    "# Ejercicio 7\n",
    "datos3.corr()"
   ]
  },
  {
   "cell_type": "code",
   "execution_count": 41,
   "id": "f56a34f7",
   "metadata": {},
   "outputs": [
    {
     "data": {
      "text/html": [
       "<div>\n",
       "<style scoped>\n",
       "    .dataframe tbody tr th:only-of-type {\n",
       "        vertical-align: middle;\n",
       "    }\n",
       "\n",
       "    .dataframe tbody tr th {\n",
       "        vertical-align: top;\n",
       "    }\n",
       "\n",
       "    .dataframe thead th {\n",
       "        text-align: right;\n",
       "    }\n",
       "</style>\n",
       "<table border=\"1\" class=\"dataframe\">\n",
       "  <thead>\n",
       "    <tr style=\"text-align: right;\">\n",
       "      <th></th>\n",
       "      <th>Age</th>\n",
       "      <th>Education</th>\n",
       "      <th>Usage</th>\n",
       "      <th>Fitness</th>\n",
       "      <th>Income</th>\n",
       "      <th>Miles</th>\n",
       "    </tr>\n",
       "  </thead>\n",
       "  <tbody>\n",
       "    <tr>\n",
       "      <th>Age</th>\n",
       "      <td>48.212166</td>\n",
       "      <td>3.149410</td>\n",
       "      <td>0.113470</td>\n",
       "      <td>0.406828</td>\n",
       "      <td>5.884446e+04</td>\n",
       "      <td>13.186530</td>\n",
       "    </tr>\n",
       "    <tr>\n",
       "      <th>Education</th>\n",
       "      <td>3.149410</td>\n",
       "      <td>2.614867</td>\n",
       "      <td>0.693172</td>\n",
       "      <td>0.636623</td>\n",
       "      <td>1.670472e+04</td>\n",
       "      <td>25.770795</td>\n",
       "    </tr>\n",
       "    <tr>\n",
       "      <th>Usage</th>\n",
       "      <td>0.113470</td>\n",
       "      <td>0.693172</td>\n",
       "      <td>1.176785</td>\n",
       "      <td>0.695469</td>\n",
       "      <td>9.303043e+03</td>\n",
       "      <td>42.709808</td>\n",
       "    </tr>\n",
       "    <tr>\n",
       "      <th>Fitness</th>\n",
       "      <td>0.406828</td>\n",
       "      <td>0.636623</td>\n",
       "      <td>0.695469</td>\n",
       "      <td>0.919429</td>\n",
       "      <td>8.467925e+03</td>\n",
       "      <td>39.073246</td>\n",
       "    </tr>\n",
       "    <tr>\n",
       "      <th>Income</th>\n",
       "      <td>58844.463439</td>\n",
       "      <td>16704.717815</td>\n",
       "      <td>9303.042582</td>\n",
       "      <td>8467.925388</td>\n",
       "      <td>2.724706e+08</td>\n",
       "      <td>465265.361887</td>\n",
       "    </tr>\n",
       "    <tr>\n",
       "      <th>Miles</th>\n",
       "      <td>13.186530</td>\n",
       "      <td>25.770795</td>\n",
       "      <td>42.709808</td>\n",
       "      <td>39.073246</td>\n",
       "      <td>4.652654e+05</td>\n",
       "      <td>2689.833489</td>\n",
       "    </tr>\n",
       "  </tbody>\n",
       "</table>\n",
       "</div>"
      ],
      "text/plain": [
       "                    Age     Education        Usage      Fitness        Income  \\\n",
       "Age           48.212166      3.149410     0.113470     0.406828  5.884446e+04   \n",
       "Education      3.149410      2.614867     0.693172     0.636623  1.670472e+04   \n",
       "Usage          0.113470      0.693172     1.176785     0.695469  9.303043e+03   \n",
       "Fitness        0.406828      0.636623     0.695469     0.919429  8.467925e+03   \n",
       "Income     58844.463439  16704.717815  9303.042582  8467.925388  2.724706e+08   \n",
       "Miles         13.186530     25.770795    42.709808    39.073246  4.652654e+05   \n",
       "\n",
       "                   Miles  \n",
       "Age            13.186530  \n",
       "Education      25.770795  \n",
       "Usage          42.709808  \n",
       "Fitness        39.073246  \n",
       "Income     465265.361887  \n",
       "Miles        2689.833489  "
      ]
     },
     "execution_count": 41,
     "metadata": {},
     "output_type": "execute_result"
    }
   ],
   "source": [
    "datos3.cov()"
   ]
  },
  {
   "cell_type": "code",
   "execution_count": 47,
   "id": "e26b5ed0",
   "metadata": {},
   "outputs": [
    {
     "data": {
      "image/png": "[encoded data removed]",
      "text/plain": [
       "<Figure size 432x288 with 1 Axes>"
      ]
     },
     "metadata": {
      "needs_background": "light"
     },
     "output_type": "display_data"
    },
    {
     "data": {
      "image/png": "[encoded data removed]",
      "text/plain": [
       "<Figure size 432x288 with 1 Axes>"
      ]
     },
     "metadata": {
      "needs_background": "light"
     },
     "output_type": "display_data"
    }
   ],
   "source": [
    "datos3['Age'].plot(kind='hist')\n",
    "plt.show()\n",
    "\n",
    "datos3.plot(kind = 'hist')\n",
    "plt.show()\n"
   ]
  },
  {
   "cell_type": "code",
   "execution_count": 53,
   "id": "0d498f52",
   "metadata": {},
   "outputs": [
    {
     "data": {
      "text/html": [
       "<div>\n",
       "<style scoped>\n",
       "    .dataframe tbody tr th:only-of-type {\n",
       "        vertical-align: middle;\n",
       "    }\n",
       "\n",
       "    .dataframe tbody tr th {\n",
       "        vertical-align: top;\n",
       "    }\n",
       "\n",
       "    .dataframe thead th {\n",
       "        text-align: right;\n",
       "    }\n",
       "</style>\n",
       "<table border=\"1\" class=\"dataframe\">\n",
       "  <thead>\n",
       "    <tr style=\"text-align: right;\">\n",
       "      <th></th>\n",
       "      <th>V</th>\n",
       "      <th>V2</th>\n",
       "    </tr>\n",
       "  </thead>\n",
       "  <tbody>\n",
       "    <tr>\n",
       "      <th>1</th>\n",
       "      <td>7.0</td>\n",
       "      <td>7.0</td>\n",
       "    </tr>\n",
       "    <tr>\n",
       "      <th>2</th>\n",
       "      <td>8.0</td>\n",
       "      <td>11.0</td>\n",
       "    </tr>\n",
       "    <tr>\n",
       "      <th>3</th>\n",
       "      <td>12.0</td>\n",
       "      <td>15.0</td>\n",
       "    </tr>\n",
       "    <tr>\n",
       "      <th>4</th>\n",
       "      <td>17.0</td>\n",
       "      <td>13.0</td>\n",
       "    </tr>\n",
       "    <tr>\n",
       "      <th>5</th>\n",
       "      <td>9.0</td>\n",
       "      <td>12.0</td>\n",
       "    </tr>\n",
       "    <tr>\n",
       "      <th>6</th>\n",
       "      <td>9.0</td>\n",
       "      <td>3.0</td>\n",
       "    </tr>\n",
       "    <tr>\n",
       "      <th>7</th>\n",
       "      <td>5.0</td>\n",
       "      <td>10.0</td>\n",
       "    </tr>\n",
       "    <tr>\n",
       "      <th>8</th>\n",
       "      <td>9.0</td>\n",
       "      <td>7.0</td>\n",
       "    </tr>\n",
       "    <tr>\n",
       "      <th>9</th>\n",
       "      <td>8.0</td>\n",
       "      <td>13.0</td>\n",
       "    </tr>\n",
       "    <tr>\n",
       "      <th>10</th>\n",
       "      <td>7.0</td>\n",
       "      <td>12.0</td>\n",
       "    </tr>\n",
       "  </tbody>\n",
       "</table>\n",
       "</div>"
      ],
      "text/plain": [
       "       V    V2\n",
       "1    7.0   7.0\n",
       "2    8.0  11.0\n",
       "3   12.0  15.0\n",
       "4   17.0  13.0\n",
       "5    9.0  12.0\n",
       "6    9.0   3.0\n",
       "7    5.0  10.0\n",
       "8    9.0   7.0\n",
       "9    8.0  13.0\n",
       "10   7.0  12.0"
      ]
     },
     "execution_count": 53,
     "metadata": {},
     "output_type": "execute_result"
    }
   ],
   "source": [
    "# Ejercicio 9\n",
    "df = pd.DataFrame(np.random.normal(10,3,(10,2)).round(), index = range(1,11), columns=['V', 'V2'])\n",
    "df"
   ]
  },
  {
   "cell_type": "code",
   "execution_count": 56,
   "id": "1e16888b",
   "metadata": {},
   "outputs": [
    {
     "data": {
      "text/plain": [
       "array([8.64510705, 9.48647895])"
      ]
     },
     "execution_count": 56,
     "metadata": {},
     "output_type": "execute_result"
    }
   ],
   "source": [
    "sc.stats.gmean(df)"
   ]
  },
  {
   "cell_type": "code",
   "execution_count": 58,
   "id": "aa231733",
   "metadata": {},
   "outputs": [
    {
     "data": {
      "text/plain": [
       "array([8.25624422, 8.35326843])"
      ]
     },
     "execution_count": 58,
     "metadata": {},
     "output_type": "execute_result"
    }
   ],
   "source": [
    "sc.stats.hmean(df)"
   ]
  },
  {
   "cell_type": "code",
   "execution_count": null,
   "id": "fddb40b7",
   "metadata": {},
   "outputs": [],
   "source": []
  }
 ],
 "metadata": {
  "kernelspec": {
   "display_name": "Python 3 (ipykernel)",
   "language": "python",
   "name": "python3"
  },
  "language_info": {
   "codemirror_mode": {
    "name": "ipython",
    "version": 3
   },
   "file_extension": ".py",
   "mimetype": "text/x-python",
   "name": "python",
   "nbconvert_exporter": "python",
   "pygments_lexer": "ipython3",
   "version": "3.8.8"
  }
 },
 "nbformat": 4,
 "nbformat_minor": 5
}
