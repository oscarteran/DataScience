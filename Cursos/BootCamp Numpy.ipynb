{
 "cells": [
  {
   "cell_type": "markdown",
   "id": "1ff7d571",
   "metadata": {},
   "source": [
    "Este notebook contiene los ejercicios de Numpy:\n",
    "\n",
    "        Bootcamp of Data Science with Python [+250 exercises][A-Z]\n"
   ]
  },
  {
   "cell_type": "code",
   "execution_count": 1,
   "id": "73a9d3ec",
   "metadata": {},
   "outputs": [],
   "source": [
    "# Librerías\n",
    "import numpy as np"
   ]
  },
  {
   "cell_type": "code",
   "execution_count": 2,
   "id": "3fec717c",
   "metadata": {},
   "outputs": [
    {
     "name": "stdout",
     "output_type": "stream",
     "text": [
      "Shape:  (5,)\n",
      "Size:  5\n",
      "Dim:  1\n",
      "NBytes:  40\n",
      "DTypes:  int64\n"
     ]
    }
   ],
   "source": [
    "# Ejercicio 1\n",
    "array = np.array([1, 2, 3, 4, 5])\n",
    "print('Shape: ', array.shape)\n",
    "print('Size: ', array.size)\n",
    "print('Dim: ', array.ndim)\n",
    "print('NBytes: ', array.nbytes)\n",
    "print('DTypes: ', array.dtype)"
   ]
  },
  {
   "cell_type": "code",
   "execution_count": 3,
   "id": "91b5638c",
   "metadata": {},
   "outputs": [
    {
     "name": "stdout",
     "output_type": "stream",
     "text": [
      "Shape:  (5,)\n",
      "Size:  5\n",
      "Dim:  1\n",
      "NBytes:  40\n",
      "DTypes:  int64\n",
      "--------------------------------------------------\n",
      "The objetc is not a array from numpy\n"
     ]
    }
   ],
   "source": [
    "# Ejercicio 2\n",
    "def inspect_array(array):\n",
    "    if isinstance(array, np.ndarray):\n",
    "        print('Shape: ', array.shape)\n",
    "        print('Size: ', array.size)\n",
    "        print('Dim: ', array.ndim)\n",
    "        print('NBytes: ', array.nbytes)\n",
    "        print('DTypes: ', array.dtype)\n",
    "    else:\n",
    "        print('The objetc is not a array from numpy')\n",
    "\n",
    "inspect_array(np.array([1, 2, 3, 4, 5]))\n",
    "print(50*'-')\n",
    "inspect_array([1,2,3])"
   ]
  },
  {
   "cell_type": "code",
   "execution_count": 4,
   "id": "c6487000",
   "metadata": {},
   "outputs": [
    {
     "name": "stdout",
     "output_type": "stream",
     "text": [
      "[-1  4  7  9]\n",
      "[ 1  2  3  4  5  6  7  8  9 10]\n",
      "[10 11 12 13 14]\n",
      "[1990 1995 2000 2005 2010 2015 2020]\n",
      "[2020 2010 2000 1990 1980 1970 1960 1950 1940 1930 1920 1910 1900]\n",
      "[100]\n"
     ]
    }
   ],
   "source": [
    "# Ejercicio 3 \n",
    "print(np.array([-1, 4, 7, 9]))\n",
    "print(np.array(range(1,11)))\n",
    "print(np.array((10, 11, 12, 13, 14,)))\n",
    "print(np.array(range(1990,2025,5)))\n",
    "print(np.array(range(2020,1890,-10)))\n",
    "print(np.array([100]))"
   ]
  },
  {
   "cell_type": "code",
   "execution_count": 5,
   "id": "e37fde95",
   "metadata": {},
   "outputs": [
    {
     "name": "stdout",
     "output_type": "stream",
     "text": [
      "[1. 1. 1. 1. 1. 1. 1. 1. 1. 1.]\n",
      "[[1. 1. 1. 1.]\n",
      " [1. 1. 1. 1.]\n",
      " [1. 1. 1. 1.]\n",
      " [1. 1. 1. 1.]]\n",
      "[[1 1]\n",
      " [1 1]\n",
      " [1 1]]\n"
     ]
    }
   ],
   "source": [
    "# Ejercicio 4\n",
    "print(np.ones(10))\n",
    "print(np.ones((4,4)))\n",
    "print(np.ones((3,2), dtype = int))"
   ]
  },
  {
   "cell_type": "code",
   "execution_count": 6,
   "id": "bc15592e",
   "metadata": {},
   "outputs": [
    {
     "name": "stdout",
     "output_type": "stream",
     "text": [
      "[0. 0. 0. 0. 0. 0. 0. 0. 0. 0.]\n",
      "[[0. 0.]\n",
      " [0. 0.]]\n",
      "[[0. 0. 0. 0. 0. 0.]\n",
      " [0. 0. 0. 0. 0. 0.]\n",
      " [0. 0. 0. 0. 0. 0.]\n",
      " [0. 0. 0. 0. 0. 0.]]\n"
     ]
    }
   ],
   "source": [
    "# Ejercicio 5\n",
    "print(np.zeros(shape = 10))\n",
    "print(np.zeros(shape = (2,2)))\n",
    "print(np.zeros((4,6), dtype = float))"
   ]
  },
  {
   "cell_type": "code",
   "execution_count": 7,
   "id": "a8498a6f",
   "metadata": {},
   "outputs": [
    {
     "name": "stdout",
     "output_type": "stream",
     "text": [
      "[[10]\n",
      " [15]\n",
      " [20]\n",
      " [25]\n",
      " [30]\n",
      " [35]\n",
      " [40]\n",
      " [45]]\n",
      "[-50 -45 -40 -35 -30 -25 -20 -15 -10  -5]\n",
      "[[ 50  52  54  56  58  60  62  64  66  68]\n",
      " [ 70  72  74  76  78  80  82  84  86  88]\n",
      " [ 90  92  94  96  98 100 102 104 106 108]\n",
      " [110 112 114 116 118 120 122 124 126 128]\n",
      " [130 132 134 136 138 140 142 144 146 148]]\n"
     ]
    }
   ],
   "source": [
    "# Ejercicio 6\n",
    "ar1 = np.array([[10], [15], [20], [25], [30], [35], [40], [45]]).reshape(8,1)\n",
    "ar2 = np.array(range(-50, 0, 5))\n",
    "ar3 = np.array(range(50, 150, 2)).reshape(5, 10)\n",
    "print(ar1)\n",
    "print(ar2)\n",
    "print(ar3)"
   ]
  },
  {
   "cell_type": "code",
   "execution_count": 8,
   "id": "000545e4",
   "metadata": {},
   "outputs": [
    {
     "name": "stdout",
     "output_type": "stream",
     "text": [
      "[[5. 5. 5. 5. 5. 5. 5. 5. 5. 5.]]\n",
      "[[5. 5. 5. 5.]\n",
      " [5. 5. 5. 5.]\n",
      " [5. 5. 5. 5.]\n",
      " [5. 5. 5. 5.]]\n",
      "[[3. 3. 3.]\n",
      " [3. 3. 3.]\n",
      " [3. 3. 3.]]\n",
      "[[50 50 50 50 50 50 50 50 50 50]\n",
      " [50 50 50 50 50 50 50 50 50 50]\n",
      " [50 50 50 50 50 50 50 50 50 50]\n",
      " [50 50 50 50 50 50 50 50 50 50]\n",
      " [50 50 50 50 50 50 50 50 50 50]\n",
      " [50 50 50 50 50 50 50 50 50 50]\n",
      " [50 50 50 50 50 50 50 50 50 50]\n",
      " [50 50 50 50 50 50 50 50 50 50]\n",
      " [50 50 50 50 50 50 50 50 50 50]\n",
      " [50 50 50 50 50 50 50 50 50 50]]\n"
     ]
    }
   ],
   "source": [
    "# Ejercicio 7\n",
    "print(np.full((1,10),5, dtype = float))\n",
    "print(np.full((4,4),5, dtype = float))\n",
    "print(np.full((3,3),3, dtype = float))\n",
    "print(np.full((10,10),50, dtype = int))"
   ]
  },
  {
   "cell_type": "code",
   "execution_count": 9,
   "id": "7a83a6f6",
   "metadata": {},
   "outputs": [
    {
     "name": "stdout",
     "output_type": "stream",
     "text": [
      "[[ True False False False]\n",
      " [ True  True  True  True]\n",
      " [False False  True False]\n",
      " [False  True  True False]]\n",
      "There are 8 missing data in K.\n",
      "There are 8 missing data in K\n"
     ]
    }
   ],
   "source": [
    "# Ejercicio 8\n",
    "K = np.array([\n",
    "    [np.nan, 1, 10, 0],\n",
    "    [np.nan,np.nan,np.nan,np.nan],\n",
    "    [100, 50, np.nan, -25],\n",
    "    [30, np.nan, np.nan, 130]])\n",
    " \n",
    "print(np.isnan(K))\n",
    "print(f'There are {np.isnan(K).sum()} missing data in K.')\n",
    "print('There are {} missing data in K'.format(np.isnan(K).sum()))"
   ]
  },
  {
   "cell_type": "code",
   "execution_count": 10,
   "id": "f23e4b69",
   "metadata": {},
   "outputs": [
    {
     "data": {
      "text/plain": [
       "array([ 1.,  6., 11., 16., 21.])"
      ]
     },
     "execution_count": 10,
     "metadata": {},
     "output_type": "execute_result"
    }
   ],
   "source": [
    "# Ejercicio 9\n",
    "np.linspace(1,21,5)"
   ]
  },
  {
   "cell_type": "code",
   "execution_count": 11,
   "id": "30a01329",
   "metadata": {},
   "outputs": [
    {
     "data": {
      "text/plain": [
       "array([[1.00000000e+01],\n",
       "       [3.59381366e+06],\n",
       "       [1.29154967e+12],\n",
       "       [4.64158883e+17],\n",
       "       [1.66810054e+23],\n",
       "       [5.99484250e+28],\n",
       "       [2.15443469e+34],\n",
       "       [7.74263683e+39],\n",
       "       [2.78255940e+45],\n",
       "       [1.00000000e+51]])"
      ]
     },
     "execution_count": 11,
     "metadata": {},
     "output_type": "execute_result"
    }
   ],
   "source": [
    "# Ejercicio 10\n",
    "np.logspace(1,51,10).reshape(-1,1)"
   ]
  },
  {
   "cell_type": "code",
   "execution_count": 12,
   "id": "9e192d51",
   "metadata": {},
   "outputs": [
    {
     "data": {
      "text/plain": [
       "array([[ 5,  0,  0,  0,  0,  0],\n",
       "       [ 0, 10,  0,  0,  0,  0],\n",
       "       [ 0,  0, 15,  0,  0,  0],\n",
       "       [ 0,  0,  0, 20,  0,  0],\n",
       "       [ 0,  0,  0,  0, 25,  0],\n",
       "       [ 0,  0,  0,  0,  0, 30]])"
      ]
     },
     "execution_count": 12,
     "metadata": {},
     "output_type": "execute_result"
    }
   ],
   "source": [
    "# Ejercicio 11\n",
    "np.diag(range(5,31,5))"
   ]
  },
  {
   "cell_type": "code",
   "execution_count": 13,
   "id": "de1bfdef",
   "metadata": {},
   "outputs": [
    {
     "data": {
      "text/plain": [
       "array([[1., 0., 0., 0., 0., 0., 0., 0., 0., 0.],\n",
       "       [0., 1., 0., 0., 0., 0., 0., 0., 0., 0.],\n",
       "       [0., 0., 1., 0., 0., 0., 0., 0., 0., 0.],\n",
       "       [0., 0., 0., 1., 0., 0., 0., 0., 0., 0.],\n",
       "       [0., 0., 0., 0., 1., 0., 0., 0., 0., 0.],\n",
       "       [0., 0., 0., 0., 0., 1., 0., 0., 0., 0.],\n",
       "       [0., 0., 0., 0., 0., 0., 1., 0., 0., 0.],\n",
       "       [0., 0., 0., 0., 0., 0., 0., 1., 0., 0.],\n",
       "       [0., 0., 0., 0., 0., 0., 0., 0., 1., 0.],\n",
       "       [0., 0., 0., 0., 0., 0., 0., 0., 0., 1.]])"
      ]
     },
     "execution_count": 13,
     "metadata": {},
     "output_type": "execute_result"
    }
   ],
   "source": [
    "# Ejercicio 12\n",
    "np.eye(10)"
   ]
  },
  {
   "cell_type": "code",
   "execution_count": 14,
   "id": "86fe3303",
   "metadata": {},
   "outputs": [
    {
     "name": "stdout",
     "output_type": "stream",
     "text": [
      "Sum of the elements of array 1:  55\n",
      "Sum of the elements of array 2:  255.0\n",
      "Sum of the elements of array 3:  1275\n",
      "Sum of the elements of array 4:  10056552148.564463\n",
      "Sum of the elements of array 5:  105\n"
     ]
    }
   ],
   "source": [
    "# Ejercicio 14\n",
    "array1 = np.arange(1,11)\n",
    "array2 = np.linspace(1,50,10)\n",
    "array3 = np.array(range(51))\n",
    "array4 = np.logspace(1,10,5)\n",
    "array5 = np.diag(range(5,31,5))\n",
    "arrays = [array1, array2, array3, array4, array5]\n",
    "for index, array in enumerate(arrays, start = 1):\n",
    "    print(f'Sum of the elements of array {index}: ', array.sum())\n",
    "    \n"
   ]
  },
  {
   "cell_type": "code",
   "execution_count": 15,
   "id": "0dc6e43d",
   "metadata": {},
   "outputs": [
    {
     "name": "stdout",
     "output_type": "stream",
     "text": [
      "[[69 47 98]\n",
      " [ 2 14 31]\n",
      " [89 20 62]\n",
      " [49 20 53]\n",
      " [63 94 94]]\n",
      "805\n",
      "[272 195 338]\n",
      "[214  47 171 122 251]\n"
     ]
    }
   ],
   "source": [
    "# Ejercicio 15\n",
    "matrix = np.array(np.random.randint(1,100,15)).reshape(5,3)\n",
    "print(matrix)\n",
    "print(matrix.sum())\n",
    "print(matrix.sum(axis = 0))\n",
    "print(matrix.sum(axis = 1))"
   ]
  },
  {
   "cell_type": "code",
   "execution_count": 16,
   "id": "283a01d2",
   "metadata": {},
   "outputs": [
    {
     "name": "stdout",
     "output_type": "stream",
     "text": [
      "The minimun and the maximun is: -1,27\n",
      "For the array # 1, the minimum is -1 and the maximun is 27\n",
      "--------------------------------------------------\n",
      "The minimun and the maximun is: -92,277\n",
      "For the array # 2, the minimum is -92 and the maximun is 277\n",
      "--------------------------------------------------\n",
      "The minimun and the maximun is: -1.1020166787848025,0.5225747430258363\n",
      "For the array # 3, the minimum is -1.1020166787848025 and the maximun is 0.5225747430258363\n",
      "--------------------------------------------------\n",
      "The minimun and the maximun is: 12,50\n",
      "For the array # 4, the minimum is 12 and the maximun is 50\n",
      "--------------------------------------------------\n"
     ]
    }
   ],
   "source": [
    "# Ejercicio 16\n",
    "array1 = np.array([-1, 10, 3, 4, 7, 27])\n",
    "array2 = np.random.randint(-100,300,30)\n",
    "array3 = np.random.randn(10)\n",
    "array4 = np.array(range(50,10,-2))\n",
    "arrays = [array1, array2, array3, array4]\n",
    "for i, array in enumerate (arrays, 1):\n",
    "    print('The minimun and the maximun is: {},{}'.format(array.min(), array.max()))\n",
    "    print(f'For the array # {i}, the minimum is {array.min()} and the maximun is {array.max()}')\n",
    "    print('-'*50)"
   ]
  },
  {
   "cell_type": "code",
   "execution_count": 17,
   "id": "91e6f927",
   "metadata": {},
   "outputs": [
    {
     "name": "stdout",
     "output_type": "stream",
     "text": [
      "The maximun value is :  970\n",
      "The maximun value per column is :  [970 865 444 806 891]\n",
      "The maximun value per line is :  [865 891 219 970 435  91 806 686 715 806]\n",
      "The minimun value is :  -993\n",
      "The minumun value per column is :  [-988 -910 -993 -991 -873]\n",
      "The minumun value per line is :  [-135 -910 -873 -991 -993 -860 -333 -683 -545 -593]\n"
     ]
    }
   ],
   "source": [
    "# Ejercicio 17\n",
    "def info_array(array):\n",
    "    print('The maximun value is : ', array.max())\n",
    "    print('The maximun value per column is : ', array.max(axis = 0))\n",
    "    print('The maximun value per line is : ', array.max(axis = 1))\n",
    "    print('The minimun value is : ', array.min())\n",
    "    print('The minumun value per column is : ', array.min(axis = 0))\n",
    "    print('The minumun value per line is : ', array.min(axis = 1))\n",
    "\n",
    "matrix = np.random.randint(-1000,1000,50).reshape(10,5)\n",
    "info_array(matrix)"
   ]
  },
  {
   "cell_type": "code",
   "execution_count": 18,
   "id": "5cc74ac8",
   "metadata": {},
   "outputs": [
    {
     "name": "stdout",
     "output_type": "stream",
     "text": [
      "The average is: 40.008595300079854\n",
      "The median is: 40.00385662176497\n",
      "The standar desviation is: 0.4927916791308362\n",
      "The variance is: 0.24284363902058903\n"
     ]
    }
   ],
   "source": [
    "# Ejercicio 18\n",
    "arr = np.random.normal(40,0.5,size = (300))\n",
    "print('The average is: {}'.format(np.mean(arr)))\n",
    "print('The median is: {}'.format(np.median(arr)))\n",
    "print('The standar desviation is: {}'.format(np.std(arr)))\n",
    "print('The variance is: {}'.format(np.var(arr)))"
   ]
  },
  {
   "cell_type": "code",
   "execution_count": 19,
   "id": "4440f184",
   "metadata": {},
   "outputs": [
    {
     "name": "stdout",
     "output_type": "stream",
     "text": [
      "The covariance is :\n",
      " [[0.08993427 0.0011707 ]\n",
      " [0.0011707  0.0781391 ]]\n",
      "The correlation is :\n",
      " [[1.         0.01396525]\n",
      " [0.01396525 1.        ]]\n"
     ]
    }
   ],
   "source": [
    "# Ejercicio 19\n",
    "x = np.random.rand(100)\n",
    "y = np.random.uniform(size=100)\n",
    "\n",
    "print('The covariance is :\\n', np.cov(x, y))\n",
    "print('The correlation is :\\n', np.corrcoef(x, y))"
   ]
  },
  {
   "cell_type": "code",
   "execution_count": 20,
   "id": "3e30a5b4",
   "metadata": {},
   "outputs": [
    {
     "name": "stdout",
     "output_type": "stream",
     "text": [
      "9\n",
      "9\n"
     ]
    }
   ],
   "source": [
    "# Ejercicio 20\n",
    "A = np.array([[11, 15, 33, 105],\n",
    "              [1, 140, 45, 90],\n",
    "              [67, 230, 78, 99]])\n",
    "print(np.argmax(A))\n",
    "print(A.argmax())"
   ]
  },
  {
   "cell_type": "code",
   "execution_count": 21,
   "id": "f07baba7",
   "metadata": {},
   "outputs": [
    {
     "name": "stdout",
     "output_type": "stream",
     "text": [
      "4\n",
      "4\n"
     ]
    }
   ],
   "source": [
    "B = np.array([\n",
    "    [73, 22, 20, 62,  3],\n",
    "    [68, 84, 27, 59, 93],\n",
    "    [48, 52,  4, 55, 50],\n",
    "    [42, 23, 63, 67,  4],\n",
    "    [44, 30, 41, 31, 29]])\n",
    "print(np.argmin(A))\n",
    "print(A.argmin())"
   ]
  },
  {
   "cell_type": "code",
   "execution_count": 22,
   "id": "541a750d",
   "metadata": {},
   "outputs": [
    {
     "name": "stdout",
     "output_type": "stream",
     "text": [
      "The maximun value is:         270\n",
      "The minumun value is:         -57\n",
      "The average is:               117.6\n",
      "The median is:                130.0\n",
      "The standar desviation is:    104.72554607162475\n",
      "The variance is:              10967.439999999999\n"
     ]
    }
   ],
   "source": [
    "array = np.array([-57, 101, 270, 130, 144])\n",
    "\n",
    "\n",
    "def info_array(array):\n",
    "    if isinstance(array, np.ndarray):\n",
    "        print('The maximun value is:        ', array.max())\n",
    "        print('The minumun value is:        ', array.min())\n",
    "        print('The average is:               {}'.format(np.mean(array)))\n",
    "        print('The median is:                {}'.format(np.median(array)))\n",
    "        print('The standar desviation is:    {}'.format(np.std(array)))\n",
    "        print('The variance is:              {}'.format(np.var(array)))\n",
    "    else:\n",
    "        return None\n",
    "        \n",
    "info_array(array)        "
   ]
  },
  {
   "cell_type": "code",
   "execution_count": 23,
   "id": "6fb6c5b9",
   "metadata": {},
   "outputs": [
    {
     "name": "stdout",
     "output_type": "stream",
     "text": [
      "[ 1  3  4  5  7 11]\n"
     ]
    }
   ],
   "source": [
    "A = np.array([\n",
    "    [1, 3, 3, 4, 5],\n",
    "    [4, 7, 11, 3, 5],\n",
    "    [1, 11, 4, 4, 11]])\n",
    "\n",
    "Aux = np.unique(A)\n",
    "print(Aux)"
   ]
  },
  {
   "cell_type": "code",
   "execution_count": 24,
   "id": "46a23c6b",
   "metadata": {},
   "outputs": [
    {
     "name": "stdout",
     "output_type": "stream",
     "text": [
      "10 30 40\n",
      "100 5 170\n",
      "[10 20 30 40]\n",
      "[100  30   5   1  40 100  20 130 155 170]\n",
      "40\n"
     ]
    }
   ],
   "source": [
    "array1 = np.array([10, 20, 30, 40])\n",
    "array2 = np.array([100, 30, 5, 1, 40, 100, 20, 130, 155,170])\n",
    "\n",
    "print(array1[0], array1[2], array1[-1])\n",
    "print(array2[0], array2[2], array2[-1])\n",
    "\n",
    "array11 = array1[::-1]\n",
    "print(array1)\n",
    "\n",
    "array22 = array2[::-1]\n",
    "print(array2)\n",
    "\n",
    "var = array1[1] + array2[-4]\n",
    "print(var)"
   ]
  },
  {
   "cell_type": "code",
   "execution_count": 25,
   "id": "e383cb50",
   "metadata": {},
   "outputs": [
    {
     "name": "stdout",
     "output_type": "stream",
     "text": [
      "[[-1 33 44  9  1]\n",
      " [11  1  0 90 44]]\n",
      "9\n",
      "90\n"
     ]
    }
   ],
   "source": [
    "ar = np.array([[-1, 33, 44, 9, 1],[11, 1, 0, 90, 44]])\n",
    "print(ar)\n",
    "print(ar[0][3])\n",
    "print(ar[1,3])"
   ]
  },
  {
   "cell_type": "code",
   "execution_count": 26,
   "id": "588aa1ee",
   "metadata": {},
   "outputs": [
    {
     "name": "stdout",
     "output_type": "stream",
     "text": [
      "[[[ 1  1  5  1]\n",
      "  [ 1  1  1  9]]\n",
      "\n",
      " [[ 1  3  1  1]\n",
      "  [ 1  1 21  1]]]\n",
      "5\n",
      "9\n",
      "3\n",
      "21\n"
     ]
    }
   ],
   "source": [
    "ar = np.array([\n",
    "    [[1, 1, 5, 1],\n",
    "    [1, 1, 1, 9]],\n",
    "    [[1, 3, 1, 1],\n",
    "    [1, 1, 21, 1]]\n",
    "                ])\n",
    "print(ar)\n",
    "print(ar[0,0,2])\n",
    "print(ar[0,1,-1])\n",
    "print(ar[1,0,1])\n",
    "print(ar[1,1,2])"
   ]
  },
  {
   "cell_type": "code",
   "execution_count": 27,
   "id": "00cf36d1",
   "metadata": {},
   "outputs": [
    {
     "data": {
      "text/plain": [
       "array([2, 3, 4, 5])"
      ]
     },
     "execution_count": 27,
     "metadata": {},
     "output_type": "execute_result"
    }
   ],
   "source": [
    "ar = np.array([1, 2, 3, 4, 5, 6, 7, 8, 9, 10])\n",
    "ar2 = ar[1:5]\n",
    "ar2"
   ]
  },
  {
   "cell_type": "code",
   "execution_count": null,
   "id": "ed6b80a3",
   "metadata": {},
   "outputs": [],
   "source": []
  }
 ],
 "metadata": {
  "kernelspec": {
   "display_name": "Python 3 (ipykernel)",
   "language": "python",
   "name": "python3"
  },
  "language_info": {
   "codemirror_mode": {
    "name": "ipython",
    "version": 3
   },
   "file_extension": ".py",
   "mimetype": "text/x-python",
   "name": "python",
   "nbconvert_exporter": "python",
   "pygments_lexer": "ipython3",
   "version": "3.8.8"
  }
 },
 "nbformat": 4,
 "nbformat_minor": 5
}
