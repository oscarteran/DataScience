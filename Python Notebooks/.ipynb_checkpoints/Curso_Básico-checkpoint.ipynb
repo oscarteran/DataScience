{
 "cells": [
  {
   "cell_type": "markdown",
   "metadata": {},
   "source": [
    "# CURSO DE PYTHON BÁSICO\n",
    "\n",
    "## Oscar Hernández Terán"
   ]
  },
  {
   "cell_type": "markdown",
   "metadata": {},
   "source": [
    "#### 1. -Tipos de datos. Operaciones en pantalla\n",
    "\n",
    "| Tipo |        | Ejemplos|   |\n",
    "|---   |--------|-------|-----|\n",
    "| int  | 4      |159    |-73  |\n",
    "| float|   5.6  |  10.  |-86.4|\n",
    "| bool |  True  | False |     |\n",
    "| str  | 'One'  | 'UNAM'|'Python'|\n",
    "\n",
    "\n",
    "Para mostrar en pantalla un mensaje ocupamos la palabra reservada print('Mensaje'). \n",
    "\n",
    "Para pedir un dato al usuario por pantalla usamos la palabra reservada input('Mensaje').\n",
    "\n",
    "La forma en la que se utiliza es la siguiente:\n",
    "\n",
    "valor = formato(input('Mensaje'))\n",
    "\n",
    "Input lee el mensaje en formato string."
   ]
  },
  {
   "cell_type": "markdown",
   "metadata": {},
   "source": [
    "#### 2. -Asignación y declaración de variables. Operaciones básicas y formateo\n",
    "Contrario a lenguajes de programación de más bajo nivel (C, FORTRAN, etc), en Python no es necesario declarar el nombre y tipo de las variables sino hasta su utilización.\n",
    "La asignación se hace por medio del operador $=$ para los 4 tipos primitivos mencionados."
   ]
  },
  {
   "cell_type": "code",
   "execution_count": 1,
   "metadata": {},
   "outputs": [],
   "source": [
    "'''\n",
    "Los comentarios en python se pueden hacer de dos formas. Como en este caso usando tres comillas, \n",
    "ya sean dobles o simples al principio y final del bloque de comentario.\n",
    "'''\n",
    "# O bien, si solo se desea comentar un renglón, con el símbolo #\n",
    "\n",
    "\n",
    "\n",
    "\n",
    "# Enteros\n",
    "a = 10\n",
    "b = 3\n",
    "c = -8\n",
    "\n",
    "# Flotantes\n",
    "d = 10.6\n",
    "e = 8.4\n",
    "f = -4.\n",
    "\n",
    "# Booleanos \n",
    "T = True\n",
    "F = False\n",
    "\n",
    "# Strings\n",
    "Cadena1 = 'Curso de Python'\n",
    "Cadena2 = 'La Jeepeta'"
   ]
  },
  {
   "cell_type": "code",
   "execution_count": 2,
   "metadata": {},
   "outputs": [
    {
     "name": "stdout",
     "output_type": "stream",
     "text": [
      "El resultado es:  -1\n",
      "<class 'int'>\n",
      "El resultado es:  -42.4\n",
      "<class 'float'>\n",
      "El resultado es:  -40.0\n",
      "<class 'float'>\n",
      "El número 8 cabe 2 veces en 3\n",
      "El residuo de la división 17 entre 3 es:  2\n",
      "--------------------------------------------------\n",
      "10000.0 10000.0\n",
      "--------------------------------------------------\n",
      "64\n"
     ]
    }
   ],
   "source": [
    "# Operaciones \n",
    "# Suma y resta\n",
    "res1 = a - b + c\n",
    "print('El resultado es: ',res1)\n",
    "print(type(res1))\n",
    "\n",
    "# Multiplicación\n",
    "\n",
    "res2 = d * f\n",
    "print('El resultado es: ',res2)\n",
    "print(type(res2))\n",
    "\n",
    "# División\n",
    "res1 = a * f\n",
    "print('El resultado es: ',res1)\n",
    "print(type(res1))\n",
    "\n",
    "# Módulo\n",
    "print('El número 8 cabe' ,8//3 ,'veces en 3')\n",
    "\n",
    "# Residuo\n",
    "print('El residuo de la división 17 entre 3 es: ' ,17%3)\n",
    "\n",
    "# Notación científica\n",
    "print('-'*50)\n",
    "a = 10000.\n",
    "a2 = 1e4\n",
    "print(a,a2)\n",
    "\n",
    "# Potenciación\n",
    "print('-'*50)\n",
    "print(8**2)"
   ]
  },
  {
   "cell_type": "markdown",
   "metadata": {},
   "source": [
    "Python permite realizar operaciones aritméticas con cadenas, además de la concatenación."
   ]
  },
  {
   "cell_type": "code",
   "execution_count": 3,
   "metadata": {},
   "outputs": [
    {
     "name": "stdout",
     "output_type": "stream",
     "text": [
      "Arrebata´o dando vuelta en La Jeepeta\n",
      "Perro Perro Perro Perro Perro Perro Perro Perro Perro Perro \n",
      "Un día tiene 24 horas\n"
     ]
    }
   ],
   "source": [
    "# Concatenación\n",
    "Tex1 = 'Arrebata´o dando vuelta en '\n",
    "print(Tex1 + Cadena2)\n",
    "\n",
    "# Operaciones con Strings\n",
    "Aux = 'Perro '*10\n",
    "print(Aux)\n",
    "\n",
    "# Impresión de varios argumentos\n",
    "print('Un día tiene', 24, 'horas')"
   ]
  },
  {
   "cell_type": "markdown",
   "metadata": {},
   "source": [
    "Se conoce como formateo a la operación por la cual un tipo de dato puede ser convertido en otro. Obviamente existen restricciones para estas operaciones. \n",
    "\n",
    "Los operadores son: \n",
    "* int()\n",
    "* float()\n",
    "* str()\n",
    "* bool() Nota: Devuelve en función del parámetro"
   ]
  },
  {
   "cell_type": "code",
   "execution_count": 4,
   "metadata": {},
   "outputs": [
    {
     "name": "stdout",
     "output_type": "stream",
     "text": [
      "-4\n",
      "<class 'int'>\n",
      "--------------------------------------------------\n",
      "8.4\n",
      "<class 'str'>\n",
      "---------------------------------------------------------------------------\n",
      "(2+6j)\n",
      "---------------------------------------------------------------------------\n",
      "(8+5j) \n",
      " <class 'complex'>\n"
     ]
    }
   ],
   "source": [
    "# Pasando de float a int\n",
    "f = int(f)\n",
    "print(f)\n",
    "print(type(f))\n",
    "\n",
    "print('-' * 50)\n",
    "\n",
    "e = str(e)\n",
    "print(e)\n",
    "print(type(e))\n",
    "\n",
    "#Cadena1 = float(Cadena1)\n",
    "\n",
    "# Tipo de dato complejo\n",
    "print('-' * 75)\n",
    "print(2+6j)\n",
    "print('-' * 75)\n",
    "\n",
    "com = complex(8,5)\n",
    "print(com, '\\n', type(com))"
   ]
  },
  {
   "cell_type": "markdown",
   "metadata": {},
   "source": [
    "#### Operadores relacionales\n",
    "\n",
    "| Operación | Operador |\n",
    "|---   |--------|\n",
    "| Igualdad    | ==      |\n",
    "| Desigualdad | !=  |\n",
    "| Mayor que |  >  |\n",
    "| Menor que  | <  | \n",
    "| Mayor o igual que |  >=  |\n",
    "| Menor o igual que  | <=  | "
   ]
  },
  {
   "cell_type": "markdown",
   "metadata": {},
   "source": [
    "#### 3. -Estructuras de datos\n",
    "En python existen 4 estructuras que permiten el manejo de datos primitivos:\n",
    "* Listas\n",
    "* Tuplas \n",
    "* Diccionarios\n",
    "* Colecciones"
   ]
  },
  {
   "cell_type": "code",
   "execution_count": 5,
   "metadata": {},
   "outputs": [
    {
     "name": "stdout",
     "output_type": "stream",
     "text": [
      "[1, 2, 3, 4]\n",
      "---------------------------------------------------------------------------\n",
      "[(4+2j), 5.6, True, 'Python']\n",
      "---------------------------------------------------------------------------\n",
      "1\n",
      "Python\n",
      "Python\n",
      "---------------------------------------------------------------------------\n",
      "[[1, 2, 3], [4, 5, 6], [7, 8, 9]]\n",
      "---------------------------------------------------------------------------\n",
      "5\n",
      "---------------------------------------------------------------------------\n",
      "1\n"
     ]
    }
   ],
   "source": [
    "'''\n",
    "Las listas son variables que almacenan internamente uno o varios datos, \n",
    "ubicados en un índice entero que siempre comienza en cero. \n",
    "Las listas son estructuras que soportan mas de un tipo de dato (heterogéneas), \n",
    "además que sus datos son modificables (mutables).\n",
    "Para crearlas se usa el símbolo []\n",
    "'''\n",
    "\n",
    "lista1 = [1,2,3,4]\n",
    "lista2 = [complex(4,2), 5.6, True, 'Python']\n",
    "print(lista1)\n",
    "print('-'*75)\n",
    "print(lista2)\n",
    "print('-'*75)\n",
    "\n",
    "\n",
    "'''\n",
    "Para acceder a los elementos de una lista se ocupa el mismo operador [].\n",
    "La forma es: \n",
    "    nombre[index]\n",
    "El index es un número entero que denota la posición del dato dentro de la lista.\n",
    "Los index de una lista comienzan siempre en cero.\n",
    "'''\n",
    "print(lista1[0])\n",
    "print(lista2[3])\n",
    "print(lista2[-1])\n",
    "\n",
    "\n",
    "'''\n",
    "Listas multidimensionales\n",
    "Una lista multidimensional puede ser entendida como una matriz.\n",
    "Las propiedades de las listas se cumplen no importando su tamaño.\n",
    "Para crear listas de dimensión mayor a uno se ocupa la siguiente sintaxis:\n",
    "Matriz 2x2 = [[a,b],[c,d]]\n",
    "Matriz 3x3 = [[a,b,c],[d,e,f],[g,h,i]]\n",
    "'''\n",
    "print('-'*75)\n",
    "Mat1 = [[1,2,3],[4,5,6],[7,8,9]]\n",
    "print(Mat1)\n",
    "# El acceso se realiza de la misma manera con el número de corchetes iguales a la dimension\n",
    "print('-'*75)\n",
    "print(Mat1[1][1])\n",
    "print('-'*75)\n",
    "print(Mat1[0][0])"
   ]
  },
  {
   "cell_type": "markdown",
   "metadata": {},
   "source": [
    "Operaciones en las listas"
   ]
  },
  {
   "cell_type": "code",
   "execution_count": 6,
   "metadata": {},
   "outputs": [
    {
     "name": "stdout",
     "output_type": "stream",
     "text": [
      "[2, 4, 6, 8, 4]\n",
      "---------------------------------------------------------------------------\n",
      "0\n",
      "---------------------------------------------------------------------------\n",
      "[2, 4, 6, 8, 4, 0, 1, 2]\n",
      "---------------------------------------------------------------------------\n",
      "[2, 4, 6, 8, 4, 0, 1, 2, 5, 5]\n",
      "---------------------------------------------------------------------------\n",
      "5\n",
      "---------------------------------------------------------------------------\n",
      "[8, 2, 4, 6, 8, 4, 0, 1, 2, 5, 5]\n",
      "---------------------------------------------------------------------------\n",
      "[8, 2, 4, 6, 8, 4, 0, 1, 2, 5]\n",
      "---------------------------------------------------------------------------\n",
      "[8, 2, 6, 8, 4, 0, 1, 2, 5]\n",
      "---------------------------------------------------------------------------\n",
      "[5, 2, 1, 0, 4, 8, 6, 2, 8]\n",
      "---------------------------------------------------------------------------\n",
      "[0, 1, 2, 2, 4, 5, 6, 8, 8]\n"
     ]
    }
   ],
   "source": [
    "# .append  Agrega un valor al final de la lista\n",
    "aux1 = [2,4,6,8]\n",
    "aux1.append(4)\n",
    "print(aux1)\n",
    "\n",
    "# .count   Cuenta la cantidad de veces que existe en la lista el argumento pasado\n",
    "print('-'*75)\n",
    "print(aux1.count(5))\n",
    "\n",
    "# .extend  Agrega a la lista los valores de una estructura\n",
    "print('-'*75)\n",
    "aux1.extend(range(3))\n",
    "print(aux1)\n",
    "print('-'*75)\n",
    "aux1.extend([5,5])\n",
    "print(aux1)\n",
    "\n",
    "# .index  Regresa la posición del parámetro la primera vez que lo encuentra\n",
    "print('-'*75)\n",
    "print(aux1.index(0))\n",
    "#print('-'*75)\n",
    "#print(aux1.index(8))\n",
    "\n",
    "# .insert(i,x) Inserta el valor x en la posición i\n",
    "print('-'*75)\n",
    "aux1.insert(0,8)\n",
    "print(aux1)\n",
    "\n",
    "# .pop  Devuelve el último elemento de la lista y lo elimina\n",
    "print('-'*75)\n",
    "aux1.pop()\n",
    "#aux1.pop()\n",
    "print(aux1)\n",
    "\n",
    "# .remove  Borra la primer aparición del elemento pasado como argumento\n",
    "print('-'*75)\n",
    "aux1.remove(4)\n",
    "print(aux1)\n",
    "\n",
    "# .reverse Invierte el orden de la lista\n",
    "print('-'*75)\n",
    "aux1.reverse()\n",
    "print(aux1)\n",
    "\n",
    "# .sort  Ordena los elementos de una lista\n",
    "print('-'*75)\n",
    "aux1.sort()\n",
    "print(aux1)"
   ]
  },
  {
   "cell_type": "code",
   "execution_count": 7,
   "metadata": {},
   "outputs": [
    {
     "name": "stdout",
     "output_type": "stream",
     "text": [
      "6\n",
      "---------------------------------------------------------------------------\n",
      "(1+1j)\n",
      "---------------------------------------------------------------------------\n",
      "Cadena2\n"
     ]
    }
   ],
   "source": [
    "'''\n",
    "Las tuplas son objetos de tipo secuencia heterogénea e inmutable.\n",
    "Para crearlas se usa el símbolo ().\n",
    "La principal diferencia que presentan con las listas es que estas no son mutables, \n",
    "por lo tanto, el tamaño guardado en su definición es el único que tendrá\n",
    "a lo largo de su uso y ejecución.\n",
    "'''\n",
    "\n",
    "tupla1 = (1,2,3,4,5,6)\n",
    "tupla2 = ('Cadena1', 'Cadena2', True, True, complex(1,1))\n",
    "\n",
    "'''\n",
    "Para acceder a los elementos de una lista se ocupa el mismo operador [].\n",
    "La forma es: \n",
    "    nombre[index]\n",
    "El index es un número entero que denota la posición del dato dentro de la lista.\n",
    "Los index de una lista comienzan siempre en cero.\n",
    "'''\n",
    "print(tupla1[5])\n",
    "print('-'*75)\n",
    "print(tupla2[4])\n",
    "print('-'*75)\n",
    "print(tupla2[1])"
   ]
  },
  {
   "cell_type": "markdown",
   "metadata": {},
   "source": [
    "Operaciones en Tuplas"
   ]
  },
  {
   "cell_type": "code",
   "execution_count": 8,
   "metadata": {},
   "outputs": [
    {
     "name": "stdout",
     "output_type": "stream",
     "text": [
      "---------------------------------------------------------------------------\n",
      "2\n",
      "---------------------------------------------------------------------------\n",
      "1\n"
     ]
    }
   ],
   "source": [
    "aux2 = (1,3,5,7,9)\n",
    "\n",
    "# .index  Regresa la posición del parámetro la primera vez que lo encuentra\n",
    "print('-'*75)\n",
    "print(aux2.index(5))\n",
    "\n",
    "# .count   Cuenta la cantidad de veces que existe en la tupla el argumento pasado\n",
    "print('-'*75)\n",
    "print(aux2.count(5))"
   ]
  },
  {
   "cell_type": "code",
   "execution_count": 9,
   "metadata": {},
   "outputs": [
    {
     "name": "stdout",
     "output_type": "stream",
     "text": [
      "{'A': [1, 2, 3, 4], 'B': [1j, 2j, 3j, 4j], 'C': True, 'D': False}\n",
      "---------------------------------------------------------------------------\n",
      "2\n",
      "---------------------------------------------------------------------------\n",
      "[1j, 2j, 3j, 4j]\n",
      "---------------------------------------------------------------------------\n",
      "<class 'complex'>\n",
      "---------------------------------------------------------------------------\n",
      "{'Primero': 1, 'Segundo': 2, 'Tercero': 3, 'Cuarto': 8}\n"
     ]
    }
   ],
   "source": [
    "'''\n",
    "Los diccionarios son estructuras en forma de lista que almacenan la\n",
    "relación que existe entre dos variables.\n",
    "Estas estructuras son heterogéneas y mmutables.\n",
    "Para crearlas utilizamos el símbolo {}.\n",
    "Los datos que le pasemos son separas individualmente por :,\n",
    "y en parejas por una coma. \n",
    "Para acceder a los datos se utiliza el identificador de tipo String.\n",
    "'''\n",
    "# Estructura Key-Value\n",
    "dict1 = {'Primero':1, 'Segundo':2, 'Tercero':3, 'Cuarto':4}\n",
    "dict2 = {'A': [1,2,3,4], 'B':[1j,2j,3j,4j], 'C':True, 'D':False}\n",
    "\n",
    "print(dict2)\n",
    "print('-'*75)\n",
    "print(dict1['Segundo'])\n",
    "print('-'*75)\n",
    "print(dict2['B'])\n",
    "print('-'*75)\n",
    "aux = dict2['B']\n",
    "print(type(aux[0]))\n",
    "\n",
    "# Es posible modificar valores a través de su key\n",
    "dict1['Cuarto'] = 8\n",
    "print('-'*75)\n",
    "print(dict1)\n"
   ]
  },
  {
   "cell_type": "markdown",
   "metadata": {},
   "source": [
    "Operaciones en diccionarios"
   ]
  },
  {
   "cell_type": "code",
   "execution_count": 10,
   "metadata": {},
   "outputs": [
    {
     "name": "stdout",
     "output_type": "stream",
     "text": [
      "{}\n",
      "---------------------------------------------------------------------------\n",
      "{'Uno': 1, 'Dos': 2, 'Tres': 3}\n",
      "---------------------------------------------------------------------------\n",
      "{'Uno': None, 'Dos': None, 'Tres': None}\n",
      "---------------------------------------------------------------------------\n",
      "dict_items([('Uno', 1), ('Dos', 2), ('Tres', 3)])\n",
      "---------------------------------------------------------------------------\n",
      "dict_keys(['Uno', 'Dos', 'Tres'])\n",
      "---------------------------------------------------------------------------\n",
      "dict_values([1, 2, 3])\n"
     ]
    }
   ],
   "source": [
    "# .clear    Borra la información y deja vacío el diccionario\n",
    "aux3 = {'Uno':1, 'Dos':2, 'Tres':3}\n",
    "aux3.clear()\n",
    "print(aux3)\n",
    "\n",
    "# .copy   Devuelve una copia identica del diccionario\n",
    "aux4 = {'Uno':1, 'Dos':2, 'Tres':3}\n",
    "print('-'*75)\n",
    "copia = aux4.copy()\n",
    "print(copia)\n",
    "\n",
    "# .fromkeys Crea un nuevo diccionario con las misma key e igualadas a valores None\n",
    "print('-'*75)\n",
    "new = dict.fromkeys(aux4)\n",
    "print(new)\n",
    "\n",
    "# .items   Devuelve una lista de tuplas en formato (key,value)\n",
    "print('-'*75)\n",
    "item = aux4.items()\n",
    "print(item)\n",
    "\n",
    "# .keys    Devuelve una lista con las keys del diccionario   \n",
    "print('-'*75)\n",
    "print(aux4.keys())\n",
    "\n",
    "# .values  Devuelve una lista con los values del diccionario   \n",
    "print('-'*75)\n",
    "print(aux4.values())"
   ]
  },
  {
   "cell_type": "code",
   "execution_count": 11,
   "metadata": {},
   "outputs": [
    {
     "name": "stdout",
     "output_type": "stream",
     "text": [
      "{1, 2, 3, 4, 5, 6}\n",
      "---------------------------------------------------------------------------\n",
      "{True, 'Carro', 5}\n",
      "---------------------------------------------------------------------------\n",
      "{1, 2, 3, 4, 5}\n",
      "---------------------------------------------------------------------------\n",
      "frozenset({1, 2, 3, 4, 5})\n"
     ]
    }
   ],
   "source": [
    "'''\n",
    "Los conjuntos son estructuras hetegéneas y mutables que no permiten la repetición de datos.\n",
    "Para crearlo, se utiliza la palabra set([]), y dentro se ingresan las variables.\n",
    "'''\n",
    "\n",
    "conj1 = set([1,2,3,4,5,6])\n",
    "conj2 = set(['Carro', 'Carro', True, 5])\n",
    "conj3 = set([5,5,5,5,5,4,4,4,3,1,2])\n",
    "\n",
    "print(conj1)\n",
    "print('-'*75)\n",
    "print(conj2)\n",
    "print('-'*75)\n",
    "print(conj3)\n",
    "\n",
    "\n",
    "'''\n",
    "Existen conjuntos inmutables. Al igual que los mutables, no presentan valores duplicados.\n",
    "Se definen con la palabara frozenset([]).\n",
    "'''\n",
    "print('-'*75)\n",
    "conj_I1 = frozenset([1,2,3,4,4,5])\n",
    "print(conj_I1)\n",
    "\n",
    "# Prueba de inmutabilidad\n",
    "# conj_I1.add(7)"
   ]
  },
  {
   "cell_type": "markdown",
   "metadata": {},
   "source": [
    "Operaciones con conjuntos"
   ]
  },
  {
   "cell_type": "code",
   "execution_count": 12,
   "metadata": {},
   "outputs": [
    {
     "name": "stdout",
     "output_type": "stream",
     "text": [
      "---------------------------------------------------------------------------\n",
      "{2, 4, 5, 6, 8, 10, 12, 14}\n",
      "---------------------------------------------------------------------------\n",
      "set()\n",
      "---------------------------------------------------------------------------\n",
      "{2, 4, 6, 8, 10, 12, 14}\n",
      "---------------------------------------------------------------------------\n",
      "{2, 4, 6, 8, 10, 14}\n",
      "---------------------------------------------------------------------------\n",
      "{4}\n",
      "---------------------------------------------------------------------------\n",
      "{1, 2, 3, 4, 5, 6, 7, 8, 9, 10, 14}\n"
     ]
    }
   ],
   "source": [
    "aux5 = set([2,4,6,8,10,12,14])\n",
    "aux6 = set([2,4,6,8,10,12,14])\n",
    "\n",
    "# .add  Agrega un elemento al final del conjunto, en caso de que no exista\n",
    "print('-'*75)\n",
    "aux5.add(5)\n",
    "print(aux5)\n",
    "\n",
    "# .clear  Remueve todos los elementos de un conjunto\n",
    "print('-'*75)\n",
    "aux5.clear()\n",
    "print(aux5)\n",
    "\n",
    "# .copy   Devuelve una copia del conjunto\n",
    "print('-'*75)\n",
    "copy = aux6.copy()\n",
    "print(copy)\n",
    "\n",
    "# .remove Busca y elimina un elemento\n",
    "print('-'*75)\n",
    "aux6.remove(12)\n",
    "print(aux6)\n",
    "\n",
    "aux7 = set([1,3,4,5,7,9])\n",
    "\n",
    "# .intersection  Devuelve la intersección entre dos conjuntos\n",
    "print('-'*75)\n",
    "print(aux6.intersection(aux7))\n",
    "\n",
    "# .union   Devuelve la union entre dos conjuntos\n",
    "print('-'*75)\n",
    "print(aux6.union(aux7))"
   ]
  },
  {
   "cell_type": "markdown",
   "metadata": {},
   "source": [
    "#### 7. -Importación de bibliotecas. Math\n",
    "\n",
    "La biblioteca math es una de las más utilizada en Python.\n",
    "Contiene funciones trigonométricas, constantes importantes, funciones logarítmicas, etc.\n",
    "Es posible trabajar estaas mismas funciones en el dominio de los complejos con "
   ]
  },
  {
   "cell_type": "code",
   "execution_count": 13,
   "metadata": {},
   "outputs": [
    {
     "name": "stdout",
     "output_type": "stream",
     "text": [
      "1.2246467991473532e-16\n",
      "---------------------------------------------------------------------------\n",
      "9.539392014169456\n",
      "---------------------------------------------------------------------------\n",
      "2.0\n",
      "---------------------------------------------------------------------------\n",
      "Return e raised to the power of x.\n",
      "---------------------------------------------------------------------------\n"
     ]
    }
   ],
   "source": [
    "from math import sin, cos, pi\n",
    "print(sin(pi))\n",
    "print('-'*75)\n",
    "\n",
    "import math \n",
    "print(math.sqrt(91))\n",
    "print('-'*75)\n",
    "\n",
    "import math as mt\n",
    "print(mt.log(mt.e**2))\n",
    "print('-'*75)\n",
    "print(mt.exp.__doc__)\n",
    "print('-'*75)\n",
    "\n",
    "#help(math)"
   ]
  },
  {
   "cell_type": "markdown",
   "metadata": {},
   "source": [
    "#### 8. -Ciclos y condicionales\n",
    "* if\n",
    "* while\n",
    "* for \n",
    "\n",
    "NOTA:\n",
    "\n",
    "Algo muy importante en Python es la indentación.\n",
    "Un bloque de código estará clasificado en jerarquía según el nivel\n",
    "en el que se encuentre indentado. "
   ]
  },
  {
   "cell_type": "code",
   "execution_count": 14,
   "metadata": {},
   "outputs": [
    {
     "name": "stdout",
     "output_type": "stream",
     "text": [
      "Teclee el primer valor. 1\n",
      "Teclee el segundo valor. 2\n",
      "El segundo valor es el mayor.\n",
      "Teclee el tercer valor. 3\n",
      "El tercer valor es el mayor.\n",
      "False\n"
     ]
    }
   ],
   "source": [
    "'''\n",
    "La sentencia if nos permite pausar el flujo del programa y evaluar una o varias condiciones. \n",
    "A partir de la decisión tomada el programa continuará su curso en una dirección o otra.\n",
    "La sintaxis es la siguiente:\n",
    "\n",
    "if logical_condition:\n",
    "    statements\n",
    "elif:\n",
    "    statements\n",
    "else:\n",
    "    statements\n",
    "'''\n",
    " \n",
    "# Haremos uso de la sentencia input\n",
    "\n",
    "a = int(input('Teclee el primer valor. '))\n",
    "b = int(input('Teclee el segundo valor. '))\n",
    "\n",
    "# Compararemos los valores usando if\n",
    "if a == b:\n",
    "    print('Ambos valores son iguales.')\n",
    "elif a > b:\n",
    "    print('El primer valor es el mayor.')\n",
    "else:\n",
    "    print('El segundo valor es el mayor.')\n",
    "    \n",
    "# Se pueden utilizar compuertas lógicas\n",
    "c = int(input('Teclee el tercer valor. '))\n",
    "\n",
    "if a >= b and a >= c:\n",
    "    print('El primer valor es el mayor.')\n",
    "elif b >= a and b >= c:\n",
    "    print('El segundo valor es el mayor.')\n",
    "elif c >= a and c >= b: \n",
    "    print('El tercer valor es el mayor.')\n",
    "else:\n",
    "    print('Los 3 valores son iguales.')\n",
    "    \n",
    "'''\n",
    "En operaciones con retornos booleanos se puede usar la siguiente sintaxis.\n",
    "'''\n",
    "a = False\n",
    "if a:\n",
    "    print('True')\n",
    "else: \n",
    "    print('False')"
   ]
  },
  {
   "cell_type": "code",
   "execution_count": 15,
   "metadata": {},
   "outputs": [
    {
     "name": "stdout",
     "output_type": "stream",
     "text": [
      "0\n",
      "1\n",
      "4\n",
      "9\n",
      "16\n",
      "25\n",
      "36\n",
      "49\n",
      "64\n",
      "81\n",
      "---------------------------------------------------------------------------\n",
      "0.0\n",
      "1.0\n",
      "1.4142135623730951\n",
      "1.7320508075688772\n",
      "2.0\n",
      "---------------------------------------------------------------------------\n",
      "Ingrese las opciones: \n",
      " 0.- Aumentar contador  \n",
      " 1.- Detener ciclo \n",
      "0\n",
      "Ingrese las opciones: \n",
      " 0.- Aumentar contador  \n",
      " 1.- Detener ciclo \n",
      "0\n",
      "Ingrese las opciones: \n",
      " 0.- Aumentar contador  \n",
      " 1.- Detener ciclo \n",
      "1\n",
      "El programa se ejecutó 2 veces\n"
     ]
    }
   ],
   "source": [
    "'''\n",
    "La sentencia while es una operación que nos permite repetir código\n",
    "un determinado número de veces hasta que se cumpla una condición inicial.\n",
    "while logical_condition:\n",
    "    statements\n",
    "    counter\n",
    "'''\n",
    "a = 0\n",
    "b = 0\n",
    "while a < 10:\n",
    "    print(a**2)\n",
    "    a = a + 1\n",
    "    \n",
    "print('-'*75)\n",
    "while b < 5:\n",
    "    print(mt.sqrt(b))\n",
    "    b += 1\n",
    "    \n",
    "print('-'*75)\n",
    "\n",
    "# While controlado por usuario\n",
    "sel = int(input('Ingrese las opciones: \\n 0.- Aumentar contador  \\n 1.- Detener ciclo \\n' ))\n",
    "a = 0\n",
    "while sel != 1:\n",
    "    sel = int(input('Ingrese las opciones: \\n 0.- Aumentar contador  \\n 1.- Detener ciclo \\n' ))\n",
    "    a += 1\n",
    "print('El programa se ejecutó',a,'veces')\n"
   ]
  },
  {
   "cell_type": "code",
   "execution_count": 16,
   "metadata": {},
   "outputs": [
    {
     "name": "stdout",
     "output_type": "stream",
     "text": [
      "1\n",
      "2\n",
      "3\n",
      "4\n",
      "5\n",
      "6\n",
      "7\n",
      "8\n",
      "9\n",
      "10\n",
      "---------------------------------------------------------------------------\n",
      "(8+8j)\n",
      "3\n",
      "4\n",
      "5\n",
      "FOR\n",
      "False\n",
      "---------------------------------------------------------------------------\n",
      "0\n",
      "1\n",
      "2\n",
      "3\n",
      "4\n",
      "---------------------------------------------------------------------------\n",
      "1\n",
      "2\n",
      "3\n",
      "4\n",
      "5\n",
      "---------------------------------------------------------------------------\n",
      "0\n",
      "2\n",
      "4\n",
      "6\n",
      "8\n",
      "---------------------------------------------------------------------------\n"
     ]
    }
   ],
   "source": [
    "'''\n",
    "La sentencia for es una operación que nos permite repetir código a través\n",
    "de la iteración de una secuencia.\n",
    "En Python, for nos permite iterar sobre cualquier estructura, \n",
    "siempre comenzando en el orden que esté descrita.\n",
    "La sintaxis es la siguiente:\n",
    "for nombre_contador in items:\n",
    "    statements\n",
    "'''\n",
    "\n",
    "# Definimos una lista de enteros \n",
    "lis = [1,2,3,4,5,6,7,8,9,10]\n",
    "for i in lis:\n",
    "    print(i)\n",
    "print('-'*75)\n",
    "\n",
    "# Definimos una lista heterogénea\n",
    "lis2 = [complex(8,8),3,4,5,'FOR', False]\n",
    "for j in lis2:\n",
    "    print(j)\n",
    "print('-'*75)    \n",
    "\n",
    "\n",
    "'''\n",
    "Función range(inicio,fin,paso)\n",
    "La función range nos permite iterar sobre una lista de enteros que definimos \n",
    "de manera dinámica y en el momento de uso.\n",
    "'''\n",
    "# Por definición, comienza en cero y termina en N-1. \n",
    "for k in range(5):\n",
    "    print(k)\n",
    "print('-'*75) \n",
    "\n",
    "for l in range(1,6):\n",
    "    print(l)\n",
    "print('-'*75)\n",
    "\n",
    "for m in range(0,9,2):\n",
    "    print(m)\n",
    "print('-'*75) \n"
   ]
  },
  {
   "cell_type": "markdown",
   "metadata": {},
   "source": [
    "#### Ciclos anidados"
   ]
  },
  {
   "cell_type": "code",
   "execution_count": 17,
   "metadata": {
    "scrolled": true
   },
   "outputs": [
    {
     "name": "stdout",
     "output_type": "stream",
     "text": [
      "0 , 0 = 1\n",
      "0 , 1 = 2\n",
      "0 , 2 = 3\n",
      "1 , 0 = 4\n",
      "1 , 1 = 5\n",
      "1 , 2 = 6\n",
      "2 , 0 = 7\n",
      "2 , 1 = 8\n",
      "2 , 2 = 9\n",
      "---------------------------------------------------------------------------\n",
      "[1, 0, 0]\n",
      "[0, 1, 0]\n",
      "[0, 0, 1]\n"
     ]
    }
   ],
   "source": [
    "'''\n",
    "Es posible porner ciclos dentro de otros ciclos o condicionales dentro de otros condicionales.\n",
    "Se debe tener en cuenta el nivel de indentación, ya que es con \n",
    "este parámetro con el que jerarquizamos los ciclos.\n",
    "'''\n",
    "\n",
    "matriz = [[1,2,3],[4,5,6],[7,8,9]]\n",
    "for i in range(3):\n",
    "    for j in range(3):\n",
    "        print(i,',',j, '=', matriz[i][j])\n",
    "        \n",
    "for i in range(3):\n",
    "    for j in range(3):\n",
    "        if i == j:\n",
    "            matriz[i][j] = 1\n",
    "        else:\n",
    "            matriz[i][j] = 0\n",
    "        \n",
    "print('-'*75)\n",
    "for i in range(3):\n",
    "    print(matriz[i][:])"
   ]
  },
  {
   "cell_type": "markdown",
   "metadata": {},
   "source": [
    "#### 15. -Funciones "
   ]
  },
  {
   "cell_type": "code",
   "execution_count": 18,
   "metadata": {},
   "outputs": [],
   "source": [
    "'''\n",
    "Una función es un conjunto de sentencias que pueden ser ejecutadas desde su llamada.\n",
    "Definir o crear una función como tal no ejecuta el bloque de instrucciones de esta, \n",
    "si no que su ejecución sucede hasta que se le llame a través del nombre que usamos.\n",
    "Sentencia def\n",
    "Sintaxis:\n",
    "def Nombre(Parámetros):\n",
    "    \"\"\"DOCSTRING\"\"\"\n",
    "    sentencias\n",
    "    return \n",
    "'''\n",
    "\n",
    "def Potencia(x):\n",
    "    '''Esta función regresa la potencia al cuadrado del parámetro'''\n",
    "    return x**2\n",
    "\n",
    "def Comparación(a,b):\n",
    "    '''Esta función compara dos valores'''\n",
    "    if a > b:\n",
    "        return print('El primer valor es el mayor')\n",
    "    else:\n",
    "        return print('El segundo valor es el mayor')\n",
    "    \n",
    "def Suma(a=0, b=0):\n",
    "    '''Esta función retorna la suma de dos valores. Los parámetros se inicializan en cero'''\n",
    "    return a+b\n",
    "\n",
    "def Sin_Posición(*args):\n",
    "    '''Esta función recibe una tupla de elementos sobre la cual se iterará para imprimirla'''\n",
    "    for args in args:\n",
    "        print(args)\n",
    "        \n",
    "def Sin_Nombre(**kwargs):\n",
    "    '''Esta función recibe un diccionario y se iterará sobre el para imprimirla'''\n",
    "    for kwarg in kwargs:\n",
    "        print(kwarg,'=',kwargs[kwarg])\n",
    "        \n",
    "def Prueba():\n",
    "    '''Esta función ejecuta una operación nula'''\n",
    "    pass\n",
    "    \n",
    "\n",
    "def Multiple(a,b):\n",
    "    '''Esta función genera dos listas a partir de los parámetros'''\n",
    "    aux1 = [a,b,a+b]\n",
    "    aux2 = [a,b,a-b]\n",
    "    return aux1, aux2"
   ]
  },
  {
   "cell_type": "code",
   "execution_count": 19,
   "metadata": {},
   "outputs": [
    {
     "name": "stdout",
     "output_type": "stream",
     "text": [
      "---------------------------------------------------------------------------\n",
      "25\n",
      "---------------------------------------------------------------------------\n",
      "El segundo valor es el mayor\n",
      "---------------------------------------------------------------------------\n",
      "El primer valor es el mayor\n",
      "---------------------------------------------------------------------------\n",
      "0\n",
      "---------------------------------------------------------------------------\n",
      "1\n",
      "2\n",
      "3\n",
      "4\n",
      "True\n",
      "---------------------------------------------------------------------------\n",
      "n = 5\n",
      "m = 18\n",
      "o = True\n",
      "---------------------------------------------------------------------------\n",
      "None\n",
      "---------------------------------------------------------------------------\n",
      "[1, 2, 3] [1, 2, -1]\n"
     ]
    }
   ],
   "source": [
    "'''\n",
    "El llamado a las funciones se hace con su nombre clave, y entre paréntesis \n",
    "el o los argumentos que solicite.\n",
    "Deben de ser igualados a la o las variables que se creen para guarda \n",
    "lainformación de retorno.\n",
    "'''\n",
    "print('-'*75)\n",
    "a = Potencia(5)\n",
    "print(a)\n",
    "\n",
    "print('-'*75)\n",
    "Comparación(5,10)\n",
    "\n",
    "print('-'*75)\n",
    "Comparación(b=5,a=10)\n",
    "\n",
    "print('-'*75)\n",
    "b = Suma()\n",
    "print(b)\n",
    "\n",
    "print('-'*75)\n",
    "Sin_Posición(1,2,3,4,True)\n",
    "\n",
    "print('-'*75)\n",
    "Sin_Nombre(n=5, m=18, o = True)\n",
    "\n",
    "print('-'*75)\n",
    "c = Prueba()\n",
    "print(c)\n",
    "\n",
    "print('-'*75)\n",
    "d, e = Multiple(1,2)\n",
    "print(d,e)"
   ]
  },
  {
   "cell_type": "code",
   "execution_count": 20,
   "metadata": {},
   "outputs": [
    {
     "name": "stdout",
     "output_type": "stream",
     "text": [
      "64\n",
      "---------------------------------------------------------------------------\n",
      "10.0\n",
      "10.0\n"
     ]
    }
   ],
   "source": [
    "'''\n",
    "Existe otra manera de definir funciones sin usar def o algún nombre específico.\n",
    "Se conocen como funciones anónimas. Se crean utilizando la palabra reservada lambda.\n",
    "\n",
    "Nombre_variable = lambda parámetros: operaciones\n",
    "'''\n",
    "\n",
    "pot = lambda x: x**2\n",
    "print(pot(8))\n",
    "print('-'*75)\n",
    "\n",
    "# Comparación de ambos tipos de funciones\n",
    "def Area(base, altura):\n",
    "    res = (base*altura)/2.\n",
    "    return res\n",
    "\n",
    "AreaT = lambda base, altura: (base*altura)/2.\n",
    "\n",
    "print(Area(2,10))\n",
    "print(AreaT(2,10))"
   ]
  },
  {
   "cell_type": "markdown",
   "metadata": {},
   "source": [
    "#### 16. -Numpy\n",
    "\n",
    "Numpy es una biblioteca que emplea Python para el uso de vectores y matrices."
   ]
  },
  {
   "cell_type": "code",
   "execution_count": 21,
   "metadata": {},
   "outputs": [
    {
     "name": "stdout",
     "output_type": "stream",
     "text": [
      "<class 'list'>\n",
      "<class 'numpy.ndarray'>\n",
      "6\n",
      "(6,)\n",
      "1\n",
      "int64\n"
     ]
    }
   ],
   "source": [
    "# Importamos la biblioteca con un alias\n",
    "import numpy as np\n",
    "\n",
    "# Para acceder a los métodos de la biblioteca usamos el operador punto .\n",
    "\n",
    "# Método array\n",
    "#help(np.array)\n",
    "list1 = [1,2,3,4,5,6]\n",
    "print(type(list1))\n",
    "\n",
    "arreglo = np.array(list1)\n",
    "print(type(arreglo))\n",
    "\n",
    "# Métodos útiles de la clase array\n",
    "print(arreglo.size)        # Tamaño del arreglo\n",
    "print(arreglo.shape)       # Forma del arreglo\n",
    "print(arreglo.ndim)        # Número de dimensiones\n",
    "print(arreglo.dtype)       # Tipo de dato del arreglo"
   ]
  },
  {
   "cell_type": "code",
   "execution_count": 22,
   "metadata": {},
   "outputs": [
    {
     "name": "stdout",
     "output_type": "stream",
     "text": [
      "[0. 0. 0. 0. 0. 0. 0. 0. 0. 0.]\n",
      "[[0. 0. 0. 0. 0.]\n",
      " [0. 0. 0. 0. 0.]\n",
      " [0. 0. 0. 0. 0.]\n",
      " [0. 0. 0. 0. 0.]\n",
      " [0. 0. 0. 0. 0.]\n",
      " [0. 0. 0. 0. 0.]\n",
      " [0. 0. 0. 0. 0.]\n",
      " [0. 0. 0. 0. 0.]\n",
      " [0. 0. 0. 0. 0.]\n",
      " [0. 0. 0. 0. 0.]]\n",
      "---------------------------------------------------------------------------\n",
      "50\n",
      "(10, 5)\n",
      "2\n",
      "float64\n"
     ]
    }
   ],
   "source": [
    "# Creación de un arreglo de ceros\n",
    "zero1 = np.zeros(10)\n",
    "zero2 = np.zeros((10,5))\n",
    "\n",
    "print(zero1)\n",
    "print(zero2)\n",
    "\n",
    "print('-'*75)\n",
    "print(zero2.size)        \n",
    "print(zero2.shape)       \n",
    "print(zero2.ndim)        \n",
    "print(zero2.dtype) "
   ]
  },
  {
   "cell_type": "code",
   "execution_count": 23,
   "metadata": {},
   "outputs": [
    {
     "name": "stdout",
     "output_type": "stream",
     "text": [
      "[1. 1. 1. 1. 1.]\n",
      "[[1. 1. 1. 1.]\n",
      " [1. 1. 1. 1.]\n",
      " [1. 1. 1. 1.]\n",
      " [1. 1. 1. 1.]]\n"
     ]
    }
   ],
   "source": [
    "# Creación de arreglos de unos\n",
    "uno1 = np.ones(5)\n",
    "uno2 = np.ones((4,4))\n",
    "\n",
    "print(uno1)\n",
    "print(uno2)"
   ]
  },
  {
   "cell_type": "code",
   "execution_count": 24,
   "metadata": {},
   "outputs": [
    {
     "name": "stdout",
     "output_type": "stream",
     "text": [
      "[0, 1, 2, 3, 4, 5, 6, 7, 8, 9]\n",
      "<class 'list'>\n"
     ]
    }
   ],
   "source": [
    "# Creación de listas \n",
    "# Formateamos con la instrucción list()\n",
    "\n",
    "l1 = list(range(0,10,1))\n",
    "print(l1)\n",
    "print(type(l1))"
   ]
  },
  {
   "cell_type": "code",
   "execution_count": 25,
   "metadata": {},
   "outputs": [
    {
     "name": "stdout",
     "output_type": "stream",
     "text": [
      "[ 0  1  2  3  4  5  6  7  8  9 10 11 12 13 14]\n",
      "<class 'numpy.ndarray'>\n"
     ]
    }
   ],
   "source": [
    "# Creamos arreglos definiendo inicio y fin\n",
    "# np.arange(inicio, fin, paso)\n",
    "array1 = np.arange(0,15,1)\n",
    "print(array1)\n",
    "print(type(array1))"
   ]
  },
  {
   "cell_type": "code",
   "execution_count": 26,
   "metadata": {},
   "outputs": [
    {
     "name": "stdout",
     "output_type": "stream",
     "text": [
      "[ 1.  2.  3.  4.  5.  6.  7.  8.  9. 10.]\n",
      "<class 'numpy.ndarray'>\n"
     ]
    }
   ],
   "source": [
    "# Generación de arreglo equiespaciado\n",
    "# np.linspace(inicio, fin, # de datos)\n",
    "\n",
    "lp1 = np.linspace(1,10,10)\n",
    "print(lp1)\n",
    "print(type(lp1))"
   ]
  },
  {
   "cell_type": "code",
   "execution_count": 27,
   "metadata": {},
   "outputs": [
    {
     "name": "stdout",
     "output_type": "stream",
     "text": [
      "[0 1 2 3 4 5 6 7 8]\n",
      "---------------------------------------------------------------------------\n",
      "[[0 1 2]\n",
      " [3 4 5]\n",
      " [6 7 8]]\n"
     ]
    }
   ],
   "source": [
    "'''\n",
    "El método .reshape permite reorganizar un arreglo y cambiar sus dimensiones\n",
    "'''\n",
    "array = np.arange(9)\n",
    "print(array)\n",
    "print('-'*75)\n",
    "\n",
    "matriz = array.reshape((3,3))\n",
    "print(matriz)"
   ]
  },
  {
   "cell_type": "code",
   "execution_count": 28,
   "metadata": {},
   "outputs": [
    {
     "name": "stdout",
     "output_type": "stream",
     "text": [
      "[0 4 8]\n"
     ]
    }
   ],
   "source": [
    "'''\n",
    "El método .diagonal devuelve la diagonal principal de la matriz\n",
    "'''\n",
    "print(matriz.diagonal())"
   ]
  },
  {
   "cell_type": "code",
   "execution_count": 29,
   "metadata": {},
   "outputs": [
    {
     "name": "stdout",
     "output_type": "stream",
     "text": [
      "[[0 3 6]\n",
      " [1 4 7]\n",
      " [2 5 8]]\n"
     ]
    }
   ],
   "source": [
    "'''\n",
    "El método .transpose() devuelve la matriz transpuesta\n",
    "'''\n",
    "print(matriz.transpose())"
   ]
  },
  {
   "cell_type": "code",
   "execution_count": 30,
   "metadata": {},
   "outputs": [
    {
     "name": "stdout",
     "output_type": "stream",
     "text": [
      "[[ 0.22058824  0.08823529  0.07352941]\n",
      " [ 0.35294118 -0.05882353  0.11764706]\n",
      " [-0.07352941 -0.02941176  0.30882353]]\n",
      "---------------------------------------------------------------------------\n",
      "-67.99999999999996\n"
     ]
    }
   ],
   "source": [
    "'''\n",
    "Existe un submódulo de numpy con métodos útiles para el algebra lineal\n",
    "'''\n",
    "\n",
    "# Para acceder a lo métodos usamos np.linalg.\n",
    "\n",
    "# Método para el cálculo de la inversa\n",
    "matriz2 = np.array([[1,2,-1],\n",
    "                    [8,-5,0],\n",
    "                    [1,0,3]])\n",
    "\n",
    "print(np.linalg.inv(matriz2))\n",
    "\n",
    "# .det para el cálculo del determinante\n",
    "print('-'*75)\n",
    "print(np.linalg.det(matriz2))"
   ]
  },
  {
   "cell_type": "code",
   "execution_count": 31,
   "metadata": {},
   "outputs": [
    {
     "name": "stdout",
     "output_type": "stream",
     "text": [
      "[ 0.8  0.4 -0.2]\n"
     ]
    }
   ],
   "source": [
    "# Solución de sistemas de ecuaciones lineales\n",
    "a = np.array([[1,5,9],\n",
    "              [2,4,6],\n",
    "              [0,9,3]])\n",
    "\n",
    "b = [1,2,3]\n",
    "\n",
    "res = np.linalg.solve(a,b)\n",
    "\n",
    "print(res)"
   ]
  },
  {
   "cell_type": "markdown",
   "metadata": {},
   "source": [
    "#### 17. -Matplotlib\n",
    "\n",
    "Matplotlib es una biblioteca utilizada para la graficación de datos a partir de estructuras como listas o arrays"
   ]
  },
  {
   "cell_type": "code",
   "execution_count": 32,
   "metadata": {},
   "outputs": [],
   "source": [
    "import matplotlib.pyplot as plt"
   ]
  },
  {
   "cell_type": "code",
   "execution_count": 33,
   "metadata": {},
   "outputs": [
    {
     "data": {
      "image/png": "[encoded data removed]",
      "text/plain": [
       "<Figure size 432x288 with 1 Axes>"
      ]
     },
     "metadata": {
      "needs_background": "light"
     },
     "output_type": "display_data"
    }
   ],
   "source": [
    "# Generamos un lista \n",
    "x = np.linspace(0,10,11)\n",
    "\n",
    "plt.plot(x)\n",
    "plt.show()"
   ]
  },
  {
   "cell_type": "code",
   "execution_count": 34,
   "metadata": {},
   "outputs": [
    {
     "data": {
      "image/png": "[encoded data removed]",
      "text/plain": [
       "<Figure size 432x288 with 1 Axes>"
      ]
     },
     "metadata": {
      "needs_background": "light"
     },
     "output_type": "display_data"
    }
   ],
   "source": [
    "# Podemos graficar distintas funciones\n",
    "\n",
    "y = x**2  # Se llama al vector x, se elevan al cuadrado sus valores y se almacenan en y\n",
    "\n",
    "plt.plot(x,y)\n",
    "plt.show()"
   ]
  },
  {
   "cell_type": "code",
   "execution_count": 35,
   "metadata": {},
   "outputs": [
    {
     "data": {
      "image/png": "[encoded data removed]",
      "text/plain": [
       "<Figure size 432x288 with 1 Axes>"
      ]
     },
     "metadata": {
      "needs_background": "light"
     },
     "output_type": "display_data"
    }
   ],
   "source": [
    "plt.plot(x,y)\n",
    "plt.xlabel('Tiempo[s]')\n",
    "plt.ylabel('Posición')\n",
    "plt.title('Partícula')\n",
    "plt.show()"
   ]
  },
  {
   "cell_type": "code",
   "execution_count": 36,
   "metadata": {},
   "outputs": [
    {
     "data": {
      "image/png": "[encoded data removed]",
      "text/plain": [
       "<Figure size 432x288 with 1 Axes>"
      ]
     },
     "metadata": {
      "needs_background": "light"
     },
     "output_type": "display_data"
    }
   ],
   "source": [
    "plt.plot(x,y, 'g', label = '#1', linewidth = '5')\n",
    "plt.xlabel('Tiempo[s]')\n",
    "plt.ylabel('Posición[m]')\n",
    "plt.title('Partícula')\n",
    "plt.legend()\n",
    "plt.grid()\n",
    "plt.show()"
   ]
  },
  {
   "cell_type": "code",
   "execution_count": 37,
   "metadata": {},
   "outputs": [
    {
     "data": {
      "image/png": "[encoded data removed]",
      "text/plain": [
       "<Figure size 432x288 with 1 Axes>"
      ]
     },
     "metadata": {
      "needs_background": "light"
     },
     "output_type": "display_data"
    }
   ],
   "source": [
    "y2 = x**3/2\n",
    "\n",
    "plt.plot(x,y, 'g', label = '#1', linewidth = '5')\n",
    "plt.plot(x,y2, 'r', label = '#2', linewidth = '2')\n",
    "plt.plot(x[5], y2[5], 'b^', label = 'Punto medio')\n",
    "plt.xlabel('Tiempo[s]')\n",
    "plt.ylabel('Posición[m]')\n",
    "plt.title('Partículas')\n",
    "plt.legend()\n",
    "plt.grid()\n",
    "# Para guardar la imagen\n",
    "# plt.save('Nombre.formatp')\n",
    "plt.show()"
   ]
  },
  {
   "cell_type": "markdown",
   "metadata": {},
   "source": [
    "##### Subplots"
   ]
  },
  {
   "cell_type": "code",
   "execution_count": 38,
   "metadata": {},
   "outputs": [
    {
     "data": {
      "image/png": "[encoded data removed]",
      "text/plain": [
       "<Figure size 432x288 with 2 Axes>"
      ]
     },
     "metadata": {
      "needs_background": "light"
     },
     "output_type": "display_data"
    }
   ],
   "source": [
    "# plt.subplot(# Rows, # Col, #)\n",
    "plt.subplot(1,2,1)\n",
    "plt.plot(x,y,'b', label = 'Primera')\n",
    "plt.legend()\n",
    "\n",
    "plt.subplot(1,2,2)\n",
    "plt.plot(x,np.sqrt(x),'r', label = 'Segunda')\n",
    "plt.legend()\n",
    "\n",
    "plt.suptitle('Sub gráficos')\n",
    "plt.show()"
   ]
  },
  {
   "cell_type": "code",
   "execution_count": 39,
   "metadata": {},
   "outputs": [
    {
     "data": {
      "image/png": "[encoded data removed]",
      "text/plain": [
       "<Figure size 432x288 with 3 Axes>"
      ]
     },
     "metadata": {
      "needs_background": "light"
     },
     "output_type": "display_data"
    }
   ],
   "source": [
    "plt.subplot(1,2,1) \n",
    "plt.plot(x,y,'m')  \n",
    "\n",
    "plt.subplot(2,2,2)\n",
    "plt.plot(y,x,'b')\n",
    "plt.subplot(2,2,4) \n",
    "plt.plot(y,x,'g')\n",
    "plt.show()"
   ]
  },
  {
   "cell_type": "markdown",
   "metadata": {},
   "source": [
    "##### Histogramas"
   ]
  },
  {
   "cell_type": "code",
   "execution_count": 40,
   "metadata": {},
   "outputs": [
    {
     "data": {
      "image/png": "[encoded data removed]",
      "text/plain": [
       "<Figure size 432x288 with 1 Axes>"
      ]
     },
     "metadata": {
      "needs_background": "light"
     },
     "output_type": "display_data"
    },
    {
     "name": "stdout",
     "output_type": "stream",
     "text": [
      "[-9.82680607e-01 -7.65568784e-01  3.45569413e-01  4.84939905e-01\n",
      "  2.89655224e-01 -3.23488761e-01  2.10314150e-01 -7.52852911e-01\n",
      "  9.18969880e-01 -4.00591388e-02  8.87778689e-01 -2.75757889e-01\n",
      " -1.49867032e+00  6.44283435e-01  1.09415852e+00  3.51076717e-01\n",
      " -4.82670392e-01 -1.25408326e+00  5.75396683e-01 -2.26709579e-03\n",
      " -1.30894924e+00  1.35677715e+00  1.50539495e-01 -1.26629667e+00\n",
      "  8.74737605e-01 -3.36044550e-01 -3.25915431e-01  5.59650792e-01\n",
      "  2.01491137e-01 -2.34941250e-01 -1.63727910e+00  5.34317851e-01\n",
      "  1.75676018e-01  3.14714259e-01  2.57655564e-02  9.59433381e-01\n",
      " -1.54593709e+00  5.66733217e-01  5.83222890e-01  4.36555816e-01\n",
      " -2.80427998e-01 -8.77245600e-01  8.91178643e-01  1.24793298e+00\n",
      "  5.28827332e-02 -6.93245098e-01  4.44886549e-01 -1.67276897e+00\n",
      " -9.41742699e-01 -4.79847050e-02  9.09597631e-01  7.56946665e-01\n",
      "  1.11319308e+00  2.84192066e-01  8.55161407e-01  1.21400469e+00\n",
      "  1.41507521e-01 -2.09551399e+00 -1.52933316e+00  6.07846136e-01\n",
      " -7.85220957e-01  3.24770846e-01  2.76383338e-01 -2.17288487e+00\n",
      "  7.80184176e-01  9.70363609e-01 -9.60944577e-01  3.05894458e-01\n",
      " -1.87000103e+00 -1.58698149e+00 -8.90207604e-01  5.15683747e-01\n",
      " -2.05154550e+00 -1.81381866e+00 -8.88267653e-01  2.43658064e-01\n",
      "  1.21050343e+00  1.44513200e+00 -1.59005516e+00  2.67880583e+00\n",
      " -9.55052050e-01  1.16524388e+00  1.05743791e+00 -4.29207147e-01\n",
      "  4.07417145e-01 -7.27185248e-01  2.42460737e+00  1.08111521e+00\n",
      " -1.60839913e+00 -6.15100515e-01 -5.42909297e-01  3.97349792e-01\n",
      " -6.65327651e-01  1.20611050e+00 -1.72399581e+00 -1.52355532e+00\n",
      "  3.03145055e-01 -6.98512365e-01 -1.61513911e+00  6.81325742e-01]\n"
     ]
    }
   ],
   "source": [
    "N = 100\n",
    "n = 20\n",
    "\n",
    "x = np.random.randn(N)\n",
    "\n",
    "plt.hist(x, bins = n)\n",
    "plt.title('Histograma')\n",
    "plt.show()\n",
    "\n",
    "#help(np.random.randn)\n",
    "#help(plt.hist)\n",
    "print(x)"
   ]
  },
  {
   "cell_type": "markdown",
   "metadata": {},
   "source": [
    "##### Dispersión"
   ]
  },
  {
   "cell_type": "code",
   "execution_count": 41,
   "metadata": {},
   "outputs": [
    {
     "data": {
      "image/png": "[encoded data removed]",
      "text/plain": [
       "<Figure size 432x288 with 1 Axes>"
      ]
     },
     "metadata": {
      "needs_background": "light"
     },
     "output_type": "display_data"
    }
   ],
   "source": [
    "x = np.arange(1, 15, 1)\n",
    "y = np.random.randn(len(x))\n",
    "\n",
    "plt.scatter(x, y*10, marker = '2')\n",
    "plt.grid()\n",
    "plt.title('Gráfico de dispersión')\n",
    "plt.show()"
   ]
  },
  {
   "cell_type": "markdown",
   "metadata": {},
   "source": [
    "##### Pastel"
   ]
  },
  {
   "cell_type": "code",
   "execution_count": 42,
   "metadata": {},
   "outputs": [
    {
     "data": {
      "image/png": "[encoded data removed]",
      "text/plain": [
       "<Figure size 432x288 with 1 Axes>"
      ]
     },
     "metadata": {},
     "output_type": "display_data"
    }
   ],
   "source": [
    "Frec = [13.6, 14.8, 10.7, 0.5, 60.4]\n",
    "Cont = ['América', 'África', 'Europa','Oceanía', 'Asia']\n",
    "\n",
    "plt.pie(Frec, labels = Cont, shadow = True, radius = 1, autopct='%1.1f%%')\n",
    "plt.title('Población por continente', color = 'blue')\n",
    "plt.show()"
   ]
  },
  {
   "cell_type": "markdown",
   "metadata": {},
   "source": [
    "##### Mapas de calor "
   ]
  },
  {
   "cell_type": "code",
   "execution_count": 43,
   "metadata": {},
   "outputs": [
    {
     "data": {
      "image/png": "[encoded data removed]",
      "text/plain": [
       "<Figure size 432x288 with 2 Axes>"
      ]
     },
     "metadata": {
      "needs_background": "light"
     },
     "output_type": "display_data"
    }
   ],
   "source": [
    "mat = np.random.random((15,15))\n",
    "\n",
    "plt.imshow(mat, cmap = 'inferno')\n",
    "plt.colorbar()\n",
    "plt.title('Mapa de calor')\n",
    "plt.show()"
   ]
  },
  {
   "cell_type": "markdown",
   "metadata": {},
   "source": [
    "##### Gráficos 3D"
   ]
  },
  {
   "cell_type": "code",
   "execution_count": 44,
   "metadata": {},
   "outputs": [
    {
     "data": {
      "image/png": "[encoded data removed]",
      "text/plain": [
       "<Figure size 432x288 with 1 Axes>"
      ]
     },
     "metadata": {
      "needs_background": "light"
     },
     "output_type": "display_data"
    }
   ],
   "source": [
    "from mpl_toolkits import mplot3d\n",
    "\n",
    "def f(x, y):\n",
    "    return np.sin(np.sqrt(x ** 2 + y ** 2))\n",
    "\n",
    "x = np.linspace(-5,5,30)\n",
    "y = np.linspace(-5, 5, 30)\n",
    "\n",
    "X, Y = np.meshgrid(x, y) \n",
    "Z = f(X, Y)\n",
    "\n",
    "fig = plt.figure()\n",
    "ax = plt.axes(projection='3d')\n",
    "ax.contour3D(X, Y, Z, 50, cmap='viridis')\n",
    "ax.set_title('Gráfico 3D')\n",
    "ax.set_xlabel('x')\n",
    "ax.set_ylabel('y')\n",
    "ax.set_zlabel('z')\n",
    "\n",
    "plt.show()"
   ]
  },
  {
   "cell_type": "code",
   "execution_count": 45,
   "metadata": {},
   "outputs": [
    {
     "data": {
      "image/png": "[encoded data removed]",
      "text/plain": [
       "<Figure size 432x288 with 1 Axes>"
      ]
     },
     "metadata": {
      "needs_background": "light"
     },
     "output_type": "display_data"
    }
   ],
   "source": [
    "ax2 = plt.axes(projection = '3d')\n",
    "ax2.scatter(X,Y,Z, cmap = 'viridis', linewidth = 0.5)\n",
    "plt.show()"
   ]
  },
  {
   "cell_type": "code",
   "execution_count": 46,
   "metadata": {},
   "outputs": [
    {
     "name": "stderr",
     "output_type": "stream",
     "text": [
      "/tmp/ipykernel_27831/2846604759.py:62: UserWarning: Matplotlib is currently using module://matplotlib_inline.backend_inline, which is a non-GUI backend, so cannot show the figure.\n",
      "  fig.show()\n"
     ]
    },
    {
     "data": {
      "image/png": "[encoded data removed]",
      "text/plain": [
       "<Figure size 1224x864 with 7 Axes>"
      ]
     },
     "metadata": {
      "needs_background": "light"
     },
     "output_type": "display_data"
    }
   ],
   "source": [
    "# Formams una imagen completa con varios tipos de gráficos\n",
    "\n",
    "plt.style.use('ggplot')\n",
    "%matplotlib inline\n",
    "\n",
    "fig = plt.figure(figsize = (17,12))\n",
    "fig.suptitle('Conjunto de gráficos')\n",
    "\n",
    "ax1 = fig.add_subplot(2,3,1)\n",
    "x = np.linspace(-5,5,101)\n",
    "y = np.sin(x)\n",
    "yy = np.cos(x)\n",
    "ax1.plot(x,y, 'r-', label = 'Seno')\n",
    "ax1.plot(x,yy, 'g.-', label = 'Coseno')\n",
    "ax1.set_title('Función seno', fontsize = 10)\n",
    "ax1.set_xlabel('Tiempo[s]', fontsize = 8)\n",
    "ax1.set_ylabel('Posición[m]', fontsize = 8)\n",
    "ax1.legend()\n",
    "\n",
    "ax2 = fig.add_subplot(2,3,2)\n",
    "N = np.random.random(20)\n",
    "ax2.hist(N, 10, color = 'c')\n",
    "ax2.set_title('Histograma', fontsize = 10)\n",
    "ax2.set_xlabel('Eventos', fontsize = 8)\n",
    "ax2.set_ylabel('Frecuencia', fontsize = 8)\n",
    "\n",
    "ax3 = fig.add_subplot(2,3,3)\n",
    "x3 = np.arange(0,21,1)\n",
    "y3 = np.random.random(len(x3))\n",
    "y4 = np.random.random(len(x3))\n",
    "ax3.scatter(x3,y3, marker = '1', color = 'b', label = 'Uno')\n",
    "ax3.scatter(x3,y4, marker = '*', color = 'y', label = 'Dos')\n",
    "ax3.set_title('Dispersión', fontsize = 10)\n",
    "ax3.set_xlabel('x', fontsize = 8)\n",
    "ax3.set_ylabel('y', fontsize = 8)\n",
    "ax3.legend()\n",
    "\n",
    "ax4 = fig.add_subplot(2,3,4)\n",
    "Frec = [30., 25, 10., 9., 9., 4., 3., 1. , 9]\n",
    "Labels = ['Python', 'Java', 'Javascript', 'C#', 'PHP', 'R', 'Swift', 'MATLAB', 'Otros' ]\n",
    "ax4.pie(Frec, labels = Labels, shadow = True, autopct='%1.1f%%')\n",
    "ax4.set_title('Lenguajes', fontsize = 10)\n",
    "\n",
    "ax5 = fig.add_subplot(2,3,5)\n",
    "mat5 = np.random.random((10,10))\n",
    "aux = ax5.imshow(mat5, cmap = 'inferno')\n",
    "fig.colorbar(aux)\n",
    "\n",
    "ax6 = fig.add_subplot(2,3,6, projection = '3d')\n",
    "x = np.linspace(-5,5,20)\n",
    "y = np.linspace(-5,5,20)\n",
    "X, Y = np.meshgrid(x,y)\n",
    "Z = X**2 + Y**2\n",
    "ax6.plot_surface(X,Y,Z, cmap = 'viridis')\n",
    "ax6.set_title('3D', fontsize = 10)\n",
    "ax6.set_xlabel('x', fontsize = 8)\n",
    "ax6.set_ylabel('y', fontsize = 8)\n",
    "ax6.set_zlabel('z', fontsize = 8);\n",
    "\n",
    "#fig.savefig('Final.pdf')\n",
    "\n",
    "fig.show()"
   ]
  },
  {
   "cell_type": "markdown",
   "metadata": {},
   "source": [
    "#### 18.- Pandas\n",
    "Pandas es una biblioteca auxiliar para el manejo, edición y manipulación de archivos de datos."
   ]
  },
  {
   "cell_type": "code",
   "execution_count": 47,
   "metadata": {},
   "outputs": [],
   "source": [
    "import pandas as pd"
   ]
  },
  {
   "cell_type": "code",
   "execution_count": 48,
   "metadata": {},
   "outputs": [
    {
     "name": "stdout",
     "output_type": "stream",
     "text": [
      "0     1\n",
      "1     2\n",
      "2     3\n",
      "3     4\n",
      "4     5\n",
      "5     6\n",
      "6     7\n",
      "7     8\n",
      "8     9\n",
      "9    10\n",
      "dtype: int64\n",
      "<class 'pandas.core.series.Series'>\n"
     ]
    }
   ],
   "source": [
    "# Generamos una Serie\n",
    "Ser1 = pd.Series([1, 2, 3, 4, 5, 6, 7, 8, 9, 10])\n",
    "print(Ser1)\n",
    "print(type(Ser1))"
   ]
  },
  {
   "cell_type": "code",
   "execution_count": 49,
   "metadata": {},
   "outputs": [],
   "source": [
    "# Es posible asignar valores a los índices de los valores de la serie\n",
    "Ser1.index = ['a','b','c','d','e','f','g','h','i','j']"
   ]
  },
  {
   "cell_type": "code",
   "execution_count": 50,
   "metadata": {},
   "outputs": [
    {
     "name": "stdout",
     "output_type": "stream",
     "text": [
      "a     1\n",
      "b     2\n",
      "c     3\n",
      "d     4\n",
      "e     5\n",
      "f     6\n",
      "g     7\n",
      "h     8\n",
      "i     9\n",
      "j    10\n",
      "dtype: int64\n"
     ]
    }
   ],
   "source": [
    "print(Ser1)"
   ]
  },
  {
   "cell_type": "code",
   "execution_count": 51,
   "metadata": {},
   "outputs": [
    {
     "data": {
      "text/plain": [
       "array([[9.9098343 , 7.16668197],\n",
       "       [7.47343315, 1.89069564],\n",
       "       [3.22741614, 0.02106792],\n",
       "       [8.7946508 , 8.40588307],\n",
       "       [3.53149488, 0.82118208]])"
      ]
     },
     "execution_count": 51,
     "metadata": {},
     "output_type": "execute_result"
    }
   ],
   "source": [
    "# Data Frames\n",
    "# Son las estructuras más importantes dentro de pandas, pueden ser pensadas como matrices, mutables y heterogéneas\n",
    "\n",
    "# Generamos una matriz de datos aleatorios\n",
    "mat = np.random.rand(5,2)*10\n",
    "mat"
   ]
  },
  {
   "cell_type": "code",
   "execution_count": 52,
   "metadata": {},
   "outputs": [
    {
     "data": {
      "text/html": [
       "<div>\n",
       "<style scoped>\n",
       "    .dataframe tbody tr th:only-of-type {\n",
       "        vertical-align: middle;\n",
       "    }\n",
       "\n",
       "    .dataframe tbody tr th {\n",
       "        vertical-align: top;\n",
       "    }\n",
       "\n",
       "    .dataframe thead th {\n",
       "        text-align: right;\n",
       "    }\n",
       "</style>\n",
       "<table border=\"1\" class=\"dataframe\">\n",
       "  <thead>\n",
       "    <tr style=\"text-align: right;\">\n",
       "      <th></th>\n",
       "      <th>0</th>\n",
       "      <th>1</th>\n",
       "    </tr>\n",
       "  </thead>\n",
       "  <tbody>\n",
       "    <tr>\n",
       "      <th>0</th>\n",
       "      <td>9.909834</td>\n",
       "      <td>7.166682</td>\n",
       "    </tr>\n",
       "    <tr>\n",
       "      <th>1</th>\n",
       "      <td>7.473433</td>\n",
       "      <td>1.890696</td>\n",
       "    </tr>\n",
       "    <tr>\n",
       "      <th>2</th>\n",
       "      <td>3.227416</td>\n",
       "      <td>0.021068</td>\n",
       "    </tr>\n",
       "    <tr>\n",
       "      <th>3</th>\n",
       "      <td>8.794651</td>\n",
       "      <td>8.405883</td>\n",
       "    </tr>\n",
       "    <tr>\n",
       "      <th>4</th>\n",
       "      <td>3.531495</td>\n",
       "      <td>0.821182</td>\n",
       "    </tr>\n",
       "  </tbody>\n",
       "</table>\n",
       "</div>"
      ],
      "text/plain": [
       "          0         1\n",
       "0  9.909834  7.166682\n",
       "1  7.473433  1.890696\n",
       "2  3.227416  0.021068\n",
       "3  8.794651  8.405883\n",
       "4  3.531495  0.821182"
      ]
     },
     "execution_count": 52,
     "metadata": {},
     "output_type": "execute_result"
    }
   ],
   "source": [
    "#Guardaremos los valores en un DataFrame\n",
    "datos = pd.DataFrame(data = mat)\n",
    "datos"
   ]
  },
  {
   "cell_type": "code",
   "execution_count": 53,
   "metadata": {},
   "outputs": [
    {
     "data": {
      "text/html": [
       "<div>\n",
       "<style scoped>\n",
       "    .dataframe tbody tr th:only-of-type {\n",
       "        vertical-align: middle;\n",
       "    }\n",
       "\n",
       "    .dataframe tbody tr th {\n",
       "        vertical-align: top;\n",
       "    }\n",
       "\n",
       "    .dataframe thead th {\n",
       "        text-align: right;\n",
       "    }\n",
       "</style>\n",
       "<table border=\"1\" class=\"dataframe\">\n",
       "  <thead>\n",
       "    <tr style=\"text-align: right;\">\n",
       "      <th></th>\n",
       "      <th>Evento1</th>\n",
       "      <th>Evento2</th>\n",
       "    </tr>\n",
       "  </thead>\n",
       "  <tbody>\n",
       "    <tr>\n",
       "      <th>t0</th>\n",
       "      <td>9.909834</td>\n",
       "      <td>7.166682</td>\n",
       "    </tr>\n",
       "    <tr>\n",
       "      <th>t1</th>\n",
       "      <td>7.473433</td>\n",
       "      <td>1.890696</td>\n",
       "    </tr>\n",
       "    <tr>\n",
       "      <th>t2</th>\n",
       "      <td>3.227416</td>\n",
       "      <td>0.021068</td>\n",
       "    </tr>\n",
       "    <tr>\n",
       "      <th>t3</th>\n",
       "      <td>8.794651</td>\n",
       "      <td>8.405883</td>\n",
       "    </tr>\n",
       "    <tr>\n",
       "      <th>t4</th>\n",
       "      <td>3.531495</td>\n",
       "      <td>0.821182</td>\n",
       "    </tr>\n",
       "  </tbody>\n",
       "</table>\n",
       "</div>"
      ],
      "text/plain": [
       "     Evento1   Evento2\n",
       "t0  9.909834  7.166682\n",
       "t1  7.473433  1.890696\n",
       "t2  3.227416  0.021068\n",
       "t3  8.794651  8.405883\n",
       "t4  3.531495  0.821182"
      ]
     },
     "execution_count": 53,
     "metadata": {},
     "output_type": "execute_result"
    }
   ],
   "source": [
    "# De igual manera es posible cambiar los valores y etiquetas\n",
    "# Los atributos a modificar son columns y index, para columnas y renglones respectivamente\n",
    "datos.columns = ['Evento1', 'Evento2']\n",
    "datos.index = ['t0','t1','t2','t3','t4']\n",
    "datos"
   ]
  },
  {
   "cell_type": "code",
   "execution_count": 54,
   "metadata": {},
   "outputs": [
    {
     "name": "stdout",
     "output_type": "stream",
     "text": [
      "3.2274161428391945\n",
      "3.2274161428391945\n"
     ]
    }
   ],
   "source": [
    "# Acceso a los elementos de un DF\n",
    "# Accedemos a valores específicos usando la notación convencional\n",
    "print(datos['Evento1']['t2'])\n",
    "print(datos['Evento1'][2])"
   ]
  },
  {
   "cell_type": "code",
   "execution_count": 55,
   "metadata": {},
   "outputs": [
    {
     "data": {
      "text/html": [
       "<div>\n",
       "<style scoped>\n",
       "    .dataframe tbody tr th:only-of-type {\n",
       "        vertical-align: middle;\n",
       "    }\n",
       "\n",
       "    .dataframe tbody tr th {\n",
       "        vertical-align: top;\n",
       "    }\n",
       "\n",
       "    .dataframe thead th {\n",
       "        text-align: right;\n",
       "    }\n",
       "</style>\n",
       "<table border=\"1\" class=\"dataframe\">\n",
       "  <thead>\n",
       "    <tr style=\"text-align: right;\">\n",
       "      <th></th>\n",
       "      <th>Evento1</th>\n",
       "      <th>Evento2</th>\n",
       "      <th>Auxiliares</th>\n",
       "    </tr>\n",
       "  </thead>\n",
       "  <tbody>\n",
       "    <tr>\n",
       "      <th>t0</th>\n",
       "      <td>9.909834</td>\n",
       "      <td>7.166682</td>\n",
       "      <td>2</td>\n",
       "    </tr>\n",
       "    <tr>\n",
       "      <th>t1</th>\n",
       "      <td>7.473433</td>\n",
       "      <td>1.890696</td>\n",
       "      <td>8</td>\n",
       "    </tr>\n",
       "    <tr>\n",
       "      <th>t2</th>\n",
       "      <td>3.227416</td>\n",
       "      <td>0.021068</td>\n",
       "      <td>65</td>\n",
       "    </tr>\n",
       "    <tr>\n",
       "      <th>t3</th>\n",
       "      <td>8.794651</td>\n",
       "      <td>8.405883</td>\n",
       "      <td>9</td>\n",
       "    </tr>\n",
       "    <tr>\n",
       "      <th>t4</th>\n",
       "      <td>3.531495</td>\n",
       "      <td>0.821182</td>\n",
       "      <td>0</td>\n",
       "    </tr>\n",
       "  </tbody>\n",
       "</table>\n",
       "</div>"
      ],
      "text/plain": [
       "     Evento1   Evento2  Auxiliares\n",
       "t0  9.909834  7.166682           2\n",
       "t1  7.473433  1.890696           8\n",
       "t2  3.227416  0.021068          65\n",
       "t3  8.794651  8.405883           9\n",
       "t4  3.531495  0.821182           0"
      ]
     },
     "execution_count": 55,
     "metadata": {},
     "output_type": "execute_result"
    }
   ],
   "source": [
    "# Se pueden agregar datos en una columna a un DF ya definido\n",
    "datos['Auxiliares'] = [2, 8, 65, 9, 0]\n",
    "datos"
   ]
  },
  {
   "cell_type": "code",
   "execution_count": 56,
   "metadata": {},
   "outputs": [
    {
     "data": {
      "text/html": [
       "<div>\n",
       "<style scoped>\n",
       "    .dataframe tbody tr th:only-of-type {\n",
       "        vertical-align: middle;\n",
       "    }\n",
       "\n",
       "    .dataframe tbody tr th {\n",
       "        vertical-align: top;\n",
       "    }\n",
       "\n",
       "    .dataframe thead th {\n",
       "        text-align: right;\n",
       "    }\n",
       "</style>\n",
       "<table border=\"1\" class=\"dataframe\">\n",
       "  <thead>\n",
       "    <tr style=\"text-align: right;\">\n",
       "      <th></th>\n",
       "      <th>Evento1</th>\n",
       "      <th>Evento2</th>\n",
       "      <th>Auxiliares</th>\n",
       "    </tr>\n",
       "  </thead>\n",
       "  <tbody>\n",
       "    <tr>\n",
       "      <th>t0</th>\n",
       "      <td>9.909834</td>\n",
       "      <td>7.166682</td>\n",
       "      <td>2.0</td>\n",
       "    </tr>\n",
       "    <tr>\n",
       "      <th>t1</th>\n",
       "      <td>7.473433</td>\n",
       "      <td>1.890696</td>\n",
       "      <td>8.0</td>\n",
       "    </tr>\n",
       "    <tr>\n",
       "      <th>t2</th>\n",
       "      <td>3.227416</td>\n",
       "      <td>0.021068</td>\n",
       "      <td>65.0</td>\n",
       "    </tr>\n",
       "    <tr>\n",
       "      <th>t3</th>\n",
       "      <td>8.794651</td>\n",
       "      <td>8.405883</td>\n",
       "      <td>9.0</td>\n",
       "    </tr>\n",
       "    <tr>\n",
       "      <th>t4</th>\n",
       "      <td>3.531495</td>\n",
       "      <td>0.821182</td>\n",
       "      <td>0.0</td>\n",
       "    </tr>\n",
       "    <tr>\n",
       "      <th>t</th>\n",
       "      <td>4.590000</td>\n",
       "      <td>7.098700</td>\n",
       "      <td>2.0</td>\n",
       "    </tr>\n",
       "  </tbody>\n",
       "</table>\n",
       "</div>"
      ],
      "text/plain": [
       "     Evento1   Evento2  Auxiliares\n",
       "t0  9.909834  7.166682         2.0\n",
       "t1  7.473433  1.890696         8.0\n",
       "t2  3.227416  0.021068        65.0\n",
       "t3  8.794651  8.405883         9.0\n",
       "t4  3.531495  0.821182         0.0\n",
       "t   4.590000  7.098700         2.0"
      ]
     },
     "execution_count": 56,
     "metadata": {},
     "output_type": "execute_result"
    }
   ],
   "source": [
    "# Para agregar un renglón usamos en método append \n",
    "datos = datos.append({'Evento1':4.59, 'Evento2':7.0987, 'Auxiliares':2}, ignore_index=True)\n",
    "datos.index = ['t0','t1','t2','t3','t4','t']\n",
    "datos"
   ]
  },
  {
   "cell_type": "code",
   "execution_count": 57,
   "metadata": {},
   "outputs": [
    {
     "data": {
      "text/html": [
       "<div>\n",
       "<style scoped>\n",
       "    .dataframe tbody tr th:only-of-type {\n",
       "        vertical-align: middle;\n",
       "    }\n",
       "\n",
       "    .dataframe tbody tr th {\n",
       "        vertical-align: top;\n",
       "    }\n",
       "\n",
       "    .dataframe thead th {\n",
       "        text-align: right;\n",
       "    }\n",
       "</style>\n",
       "<table border=\"1\" class=\"dataframe\">\n",
       "  <thead>\n",
       "    <tr style=\"text-align: right;\">\n",
       "      <th></th>\n",
       "      <th>Evento1</th>\n",
       "      <th>Evento2</th>\n",
       "      <th>Auxiliares</th>\n",
       "    </tr>\n",
       "  </thead>\n",
       "  <tbody>\n",
       "    <tr>\n",
       "      <th>t0</th>\n",
       "      <td>9.909834</td>\n",
       "      <td>7.166682</td>\n",
       "      <td>2.0</td>\n",
       "    </tr>\n",
       "    <tr>\n",
       "      <th>t3</th>\n",
       "      <td>8.794651</td>\n",
       "      <td>8.405883</td>\n",
       "      <td>9.0</td>\n",
       "    </tr>\n",
       "    <tr>\n",
       "      <th>t1</th>\n",
       "      <td>7.473433</td>\n",
       "      <td>1.890696</td>\n",
       "      <td>8.0</td>\n",
       "    </tr>\n",
       "    <tr>\n",
       "      <th>t</th>\n",
       "      <td>4.590000</td>\n",
       "      <td>7.098700</td>\n",
       "      <td>2.0</td>\n",
       "    </tr>\n",
       "    <tr>\n",
       "      <th>t4</th>\n",
       "      <td>3.531495</td>\n",
       "      <td>0.821182</td>\n",
       "      <td>0.0</td>\n",
       "    </tr>\n",
       "    <tr>\n",
       "      <th>t2</th>\n",
       "      <td>3.227416</td>\n",
       "      <td>0.021068</td>\n",
       "      <td>65.0</td>\n",
       "    </tr>\n",
       "  </tbody>\n",
       "</table>\n",
       "</div>"
      ],
      "text/plain": [
       "     Evento1   Evento2  Auxiliares\n",
       "t0  9.909834  7.166682         2.0\n",
       "t3  8.794651  8.405883         9.0\n",
       "t1  7.473433  1.890696         8.0\n",
       "t   4.590000  7.098700         2.0\n",
       "t4  3.531495  0.821182         0.0\n",
       "t2  3.227416  0.021068        65.0"
      ]
     },
     "execution_count": 57,
     "metadata": {},
     "output_type": "execute_result"
    }
   ],
   "source": [
    "# Ordenamiento de valores dentro del DataFrame\n",
    "datos.sort_values(by = ['Evento1'], ascending=False)"
   ]
  },
  {
   "cell_type": "code",
   "execution_count": 58,
   "metadata": {},
   "outputs": [
    {
     "data": {
      "text/html": [
       "<div>\n",
       "<style scoped>\n",
       "    .dataframe tbody tr th:only-of-type {\n",
       "        vertical-align: middle;\n",
       "    }\n",
       "\n",
       "    .dataframe tbody tr th {\n",
       "        vertical-align: top;\n",
       "    }\n",
       "\n",
       "    .dataframe thead th {\n",
       "        text-align: right;\n",
       "    }\n",
       "</style>\n",
       "<table border=\"1\" class=\"dataframe\">\n",
       "  <thead>\n",
       "    <tr style=\"text-align: right;\">\n",
       "      <th></th>\n",
       "      <th>Evento1</th>\n",
       "      <th>Evento2</th>\n",
       "      <th>Auxiliares</th>\n",
       "    </tr>\n",
       "  </thead>\n",
       "  <tbody>\n",
       "    <tr>\n",
       "      <th>t</th>\n",
       "      <td>4.590000</td>\n",
       "      <td>7.098700</td>\n",
       "      <td>2.0</td>\n",
       "    </tr>\n",
       "    <tr>\n",
       "      <th>t0</th>\n",
       "      <td>9.909834</td>\n",
       "      <td>7.166682</td>\n",
       "      <td>2.0</td>\n",
       "    </tr>\n",
       "    <tr>\n",
       "      <th>t1</th>\n",
       "      <td>7.473433</td>\n",
       "      <td>1.890696</td>\n",
       "      <td>8.0</td>\n",
       "    </tr>\n",
       "    <tr>\n",
       "      <th>t2</th>\n",
       "      <td>3.227416</td>\n",
       "      <td>0.021068</td>\n",
       "      <td>65.0</td>\n",
       "    </tr>\n",
       "    <tr>\n",
       "      <th>t3</th>\n",
       "      <td>8.794651</td>\n",
       "      <td>8.405883</td>\n",
       "      <td>9.0</td>\n",
       "    </tr>\n",
       "    <tr>\n",
       "      <th>t4</th>\n",
       "      <td>3.531495</td>\n",
       "      <td>0.821182</td>\n",
       "      <td>0.0</td>\n",
       "    </tr>\n",
       "  </tbody>\n",
       "</table>\n",
       "</div>"
      ],
      "text/plain": [
       "     Evento1   Evento2  Auxiliares\n",
       "t   4.590000  7.098700         2.0\n",
       "t0  9.909834  7.166682         2.0\n",
       "t1  7.473433  1.890696         8.0\n",
       "t2  3.227416  0.021068        65.0\n",
       "t3  8.794651  8.405883         9.0\n",
       "t4  3.531495  0.821182         0.0"
      ]
     },
     "execution_count": 58,
     "metadata": {},
     "output_type": "execute_result"
    }
   ],
   "source": [
    "datos.sort_index()"
   ]
  },
  {
   "cell_type": "code",
   "execution_count": null,
   "metadata": {},
   "outputs": [],
   "source": []
  }
 ],
 "metadata": {
  "kernelspec": {
   "display_name": "Python 3 (ipykernel)",
   "language": "python",
   "name": "python3"
  },
  "language_info": {
   "codemirror_mode": {
    "name": "ipython",
    "version": 3
   },
   "file_extension": ".py",
   "mimetype": "text/x-python",
   "name": "python",
   "nbconvert_exporter": "python",
   "pygments_lexer": "ipython3",
   "version": "3.8.8"
  }
 },
 "nbformat": 4,
 "nbformat_minor": 4
}
