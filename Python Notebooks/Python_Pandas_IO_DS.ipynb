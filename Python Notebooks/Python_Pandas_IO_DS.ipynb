{
 "cells": [
  {
   "cell_type": "markdown",
   "id": "2b9e706c",
   "metadata": {},
   "source": [
    "## Data Science\n",
    "\n",
    "#### Oscar Hernández Terán. Geophysical engineer \n",
    "\n",
    "This workbook contains exercises from the Pandas library for files management. It runs on python3, specifically version 3.9.7."
   ]
  },
  {
   "cell_type": "code",
   "execution_count": 1,
   "id": "a569e656",
   "metadata": {},
   "outputs": [],
   "source": [
    "# We import the library.\n",
    "import numpy as np\n",
    "import pandas as pd\n",
    "import seaborn as sns\n",
    "import matplotlib.pyplot as plt"
   ]
  },
  {
   "cell_type": "code",
   "execution_count": 2,
   "id": "fe2309e9",
   "metadata": {},
   "outputs": [
    {
     "data": {
      "text/html": [
       "<div>\n",
       "<style scoped>\n",
       "    .dataframe tbody tr th:only-of-type {\n",
       "        vertical-align: middle;\n",
       "    }\n",
       "\n",
       "    .dataframe tbody tr th {\n",
       "        vertical-align: top;\n",
       "    }\n",
       "\n",
       "    .dataframe thead th {\n",
       "        text-align: right;\n",
       "    }\n",
       "</style>\n",
       "<table border=\"1\" class=\"dataframe\">\n",
       "  <thead>\n",
       "    <tr style=\"text-align: right;\">\n",
       "      <th></th>\n",
       "      <th>DATA</th>\n",
       "      <th>FORNECEDOR</th>\n",
       "      <th>DESTINO</th>\n",
       "      <th>ESTADO/MUNICIPIO</th>\n",
       "      <th>TIPO</th>\n",
       "      <th>QUANTIDADE</th>\n",
       "      <th>VALOR</th>\n",
       "      <th>DESTINATARIO</th>\n",
       "      <th>UF</th>\n",
       "    </tr>\n",
       "  </thead>\n",
       "  <tbody>\n",
       "    <tr>\n",
       "      <th>0</th>\n",
       "      <td>19/04/2020</td>\n",
       "      <td>VYAIRE</td>\n",
       "      <td>RIO DE JANEIRO</td>\n",
       "      <td>ESTADO</td>\n",
       "      <td>UTI</td>\n",
       "      <td>40</td>\n",
       "      <td>2400000</td>\n",
       "      <td>ALMOXARIFADO ESTADUAL DE MEDICAMENTOS - RIO DE...</td>\n",
       "      <td>RJ</td>\n",
       "    </tr>\n",
       "    <tr>\n",
       "      <th>1</th>\n",
       "      <td>22/04/2020</td>\n",
       "      <td>VYAIRE</td>\n",
       "      <td>RIO DE JANEIRO</td>\n",
       "      <td>ESTADO</td>\n",
       "      <td>UTI</td>\n",
       "      <td>20</td>\n",
       "      <td>1200000</td>\n",
       "      <td>LABORATÓRIO QUÍMICO FARMACÊUTICO DE AERONÁUTICA</td>\n",
       "      <td>RJ</td>\n",
       "    </tr>\n",
       "    <tr>\n",
       "      <th>2</th>\n",
       "      <td>08/05/2020</td>\n",
       "      <td>MAGNAMED</td>\n",
       "      <td>RIO DE JANEIRO</td>\n",
       "      <td>ESTADO</td>\n",
       "      <td>UTI</td>\n",
       "      <td>25</td>\n",
       "      <td>1500000</td>\n",
       "      <td>ALMOXARIFADO ESTADUAL DE MEDICAMENTOS - RIO DE...</td>\n",
       "      <td>RJ</td>\n",
       "    </tr>\n",
       "    <tr>\n",
       "      <th>3</th>\n",
       "      <td>08/05/2020</td>\n",
       "      <td>KTK</td>\n",
       "      <td>RIO DE JANEIRO</td>\n",
       "      <td>ESTADO</td>\n",
       "      <td>UTI</td>\n",
       "      <td>15</td>\n",
       "      <td>900000</td>\n",
       "      <td>ALMOXARIFADO ESTADUAL DE MEDICAMENTOS - RIO DE...</td>\n",
       "      <td>RJ</td>\n",
       "    </tr>\n",
       "    <tr>\n",
       "      <th>4</th>\n",
       "      <td>09/05/2020</td>\n",
       "      <td>LEISTUNG</td>\n",
       "      <td>RIO DE JANEIRO</td>\n",
       "      <td>ESTADO</td>\n",
       "      <td>UTI</td>\n",
       "      <td>6</td>\n",
       "      <td>360000</td>\n",
       "      <td>ALMOXARIFADO ESTADUAL DE MEDICAMENTOS - RIO DE...</td>\n",
       "      <td>RJ</td>\n",
       "    </tr>\n",
       "    <tr>\n",
       "      <th>5</th>\n",
       "      <td>09/05/2020</td>\n",
       "      <td>VYAIRE</td>\n",
       "      <td>RIO DE JANEIRO</td>\n",
       "      <td>ESTADO</td>\n",
       "      <td>UTI</td>\n",
       "      <td>1</td>\n",
       "      <td>60000</td>\n",
       "      <td>ALMOXARIFADO ESTADUAL DE MEDICAMENTOS - RIO DE...</td>\n",
       "      <td>RJ</td>\n",
       "    </tr>\n",
       "    <tr>\n",
       "      <th>6</th>\n",
       "      <td>09/05/2020</td>\n",
       "      <td>VYAIRE</td>\n",
       "      <td>RIO DE JANEIRO</td>\n",
       "      <td>ESTADO</td>\n",
       "      <td>UTI</td>\n",
       "      <td>30</td>\n",
       "      <td>1800000</td>\n",
       "      <td>ALMOXARIFADO ESTADUAL DE MEDICAMENTOS - RIO DE...</td>\n",
       "      <td>RJ</td>\n",
       "    </tr>\n",
       "    <tr>\n",
       "      <th>7</th>\n",
       "      <td>09/05/2020</td>\n",
       "      <td>MAGNAMED</td>\n",
       "      <td>RIO DE JANEIRO</td>\n",
       "      <td>ESTADO</td>\n",
       "      <td>UTI</td>\n",
       "      <td>8</td>\n",
       "      <td>480000</td>\n",
       "      <td>ALMOXARIFADO ESTADUAL DE MEDICAMENTOS - RIO DE...</td>\n",
       "      <td>RJ</td>\n",
       "    </tr>\n",
       "    <tr>\n",
       "      <th>8</th>\n",
       "      <td>09/05/2020</td>\n",
       "      <td>MAGNAMED</td>\n",
       "      <td>RIO DE JANEIRO</td>\n",
       "      <td>ESTADO</td>\n",
       "      <td>TRANSPORTE</td>\n",
       "      <td>4</td>\n",
       "      <td>193160</td>\n",
       "      <td>ALMOXARIFADO ESTADUAL DE MEDICAMENTOS - RIO DE...</td>\n",
       "      <td>RJ</td>\n",
       "    </tr>\n",
       "    <tr>\n",
       "      <th>9</th>\n",
       "      <td>09/05/2020</td>\n",
       "      <td>MAGNAMED</td>\n",
       "      <td>RIO DE JANEIRO</td>\n",
       "      <td>ESTADO</td>\n",
       "      <td>UTI</td>\n",
       "      <td>1</td>\n",
       "      <td>60000</td>\n",
       "      <td>ALMOXARIFADO ESTADUAL DE MEDICAMENTOS - RIO DE...</td>\n",
       "      <td>RJ</td>\n",
       "    </tr>\n",
       "  </tbody>\n",
       "</table>\n",
       "</div>"
      ],
      "text/plain": [
       "         DATA FORNECEDOR         DESTINO ESTADO/MUNICIPIO        TIPO  \\\n",
       "0  19/04/2020     VYAIRE  RIO DE JANEIRO           ESTADO         UTI   \n",
       "1  22/04/2020     VYAIRE  RIO DE JANEIRO           ESTADO         UTI   \n",
       "2  08/05/2020   MAGNAMED  RIO DE JANEIRO           ESTADO         UTI   \n",
       "3  08/05/2020        KTK  RIO DE JANEIRO           ESTADO         UTI   \n",
       "4  09/05/2020   LEISTUNG  RIO DE JANEIRO           ESTADO         UTI   \n",
       "5  09/05/2020     VYAIRE  RIO DE JANEIRO           ESTADO         UTI   \n",
       "6  09/05/2020     VYAIRE  RIO DE JANEIRO           ESTADO         UTI   \n",
       "7  09/05/2020   MAGNAMED  RIO DE JANEIRO           ESTADO         UTI   \n",
       "8  09/05/2020   MAGNAMED  RIO DE JANEIRO           ESTADO  TRANSPORTE   \n",
       "9  09/05/2020   MAGNAMED  RIO DE JANEIRO           ESTADO         UTI   \n",
       "\n",
       "   QUANTIDADE    VALOR                                       DESTINATARIO  UF  \n",
       "0          40  2400000  ALMOXARIFADO ESTADUAL DE MEDICAMENTOS - RIO DE...  RJ  \n",
       "1          20  1200000    LABORATÓRIO QUÍMICO FARMACÊUTICO DE AERONÁUTICA  RJ  \n",
       "2          25  1500000  ALMOXARIFADO ESTADUAL DE MEDICAMENTOS - RIO DE...  RJ  \n",
       "3          15   900000  ALMOXARIFADO ESTADUAL DE MEDICAMENTOS - RIO DE...  RJ  \n",
       "4           6   360000  ALMOXARIFADO ESTADUAL DE MEDICAMENTOS - RIO DE...  RJ  \n",
       "5           1    60000  ALMOXARIFADO ESTADUAL DE MEDICAMENTOS - RIO DE...  RJ  \n",
       "6          30  1800000  ALMOXARIFADO ESTADUAL DE MEDICAMENTOS - RIO DE...  RJ  \n",
       "7           8   480000  ALMOXARIFADO ESTADUAL DE MEDICAMENTOS - RIO DE...  RJ  \n",
       "8           4   193160  ALMOXARIFADO ESTADUAL DE MEDICAMENTOS - RIO DE...  RJ  \n",
       "9           1    60000  ALMOXARIFADO ESTADUAL DE MEDICAMENTOS - RIO DE...  RJ  "
      ]
     },
     "execution_count": 2,
     "metadata": {},
     "output_type": "execute_result"
    }
   ],
   "source": [
    "# Open and convert a file in a DataFrame.\n",
    "datos = pd.read_csv('../DataBase/Data2.csv', sep = ';')\n",
    "# All columns and first 5 rows.\n",
    "datos.head(10)"
   ]
  },
  {
   "cell_type": "code",
   "execution_count": 3,
   "id": "a1a8cb5a",
   "metadata": {},
   "outputs": [
    {
     "data": {
      "text/html": [
       "<div>\n",
       "<style scoped>\n",
       "    .dataframe tbody tr th:only-of-type {\n",
       "        vertical-align: middle;\n",
       "    }\n",
       "\n",
       "    .dataframe tbody tr th {\n",
       "        vertical-align: top;\n",
       "    }\n",
       "\n",
       "    .dataframe thead th {\n",
       "        text-align: right;\n",
       "    }\n",
       "</style>\n",
       "<table border=\"1\" class=\"dataframe\">\n",
       "  <thead>\n",
       "    <tr style=\"text-align: right;\">\n",
       "      <th></th>\n",
       "      <th>DATA</th>\n",
       "      <th>FORNECEDOR</th>\n",
       "      <th>DESTINO</th>\n",
       "      <th>ESTADO/MUNICIPIO</th>\n",
       "      <th>TIPO</th>\n",
       "      <th>QUANTIDADE</th>\n",
       "      <th>VALOR</th>\n",
       "      <th>DESTINATARIO</th>\n",
       "      <th>UF</th>\n",
       "    </tr>\n",
       "  </thead>\n",
       "  <tbody>\n",
       "    <tr>\n",
       "      <th>1602</th>\n",
       "      <td>24/09/2020</td>\n",
       "      <td>KTK</td>\n",
       "      <td>PARANA</td>\n",
       "      <td>MUNICIPIO</td>\n",
       "      <td>UTI</td>\n",
       "      <td>2</td>\n",
       "      <td>120000</td>\n",
       "      <td>SMS de GUAIRA</td>\n",
       "      <td>PR</td>\n",
       "    </tr>\n",
       "    <tr>\n",
       "      <th>1603</th>\n",
       "      <td>24/09/2020</td>\n",
       "      <td>VYAIRE LTV 2200 USA</td>\n",
       "      <td>PARANA</td>\n",
       "      <td>MUNICIPIO</td>\n",
       "      <td>TRANSPORTE USA</td>\n",
       "      <td>1</td>\n",
       "      <td>63125</td>\n",
       "      <td>SMS de GUAIRA</td>\n",
       "      <td>PR</td>\n",
       "    </tr>\n",
       "    <tr>\n",
       "      <th>1604</th>\n",
       "      <td>07/08/2020</td>\n",
       "      <td>MAGNAMED</td>\n",
       "      <td>LIBANO</td>\n",
       "      <td>-</td>\n",
       "      <td>TRANSPORTE</td>\n",
       "      <td>300</td>\n",
       "      <td>14487000</td>\n",
       "      <td>MISSÃO FAB (Doação Destino ao Libano).</td>\n",
       "      <td>-</td>\n",
       "    </tr>\n",
       "  </tbody>\n",
       "</table>\n",
       "</div>"
      ],
      "text/plain": [
       "            DATA           FORNECEDOR DESTINO ESTADO/MUNICIPIO  \\\n",
       "1602  24/09/2020                  KTK  PARANA        MUNICIPIO   \n",
       "1603  24/09/2020  VYAIRE LTV 2200 USA  PARANA        MUNICIPIO   \n",
       "1604  07/08/2020             MAGNAMED  LIBANO                -   \n",
       "\n",
       "                TIPO  QUANTIDADE     VALOR  \\\n",
       "1602             UTI           2    120000   \n",
       "1603  TRANSPORTE USA           1     63125   \n",
       "1604      TRANSPORTE         300  14487000   \n",
       "\n",
       "                                DESTINATARIO  UF  \n",
       "1602                           SMS de GUAIRA  PR  \n",
       "1603                           SMS de GUAIRA  PR  \n",
       "1604  MISSÃO FAB (Doação Destino ao Libano).   -  "
      ]
     },
     "execution_count": 3,
     "metadata": {},
     "output_type": "execute_result"
    }
   ],
   "source": [
    "# Last 3 rows.\n",
    "datos.tail(3)"
   ]
  },
  {
   "cell_type": "code",
   "execution_count": 4,
   "id": "e8e5a16a",
   "metadata": {},
   "outputs": [
    {
     "name": "stdout",
     "output_type": "stream",
     "text": [
      "Index(['DATA', 'FORNECEDOR', 'DESTINO', 'ESTADO/MUNICIPIO', 'TIPO',\n",
      "       'QUANTIDADE', 'VALOR', 'DESTINATARIO', 'UF'],\n",
      "      dtype='object')\n"
     ]
    }
   ],
   "source": [
    "# Command 'df.columns' for see a list with columns names.\n",
    "print(datos.columns)"
   ]
  },
  {
   "cell_type": "code",
   "execution_count": 5,
   "id": "e989dc07",
   "metadata": {},
   "outputs": [
    {
     "name": "stdout",
     "output_type": "stream",
     "text": [
      "<class 'pandas.core.frame.DataFrame'>\n",
      "RangeIndex: 1605 entries, 0 to 1604\n",
      "Data columns (total 9 columns):\n",
      " #   Column            Non-Null Count  Dtype \n",
      "---  ------            --------------  ----- \n",
      " 0   DATA              1605 non-null   object\n",
      " 1   FORNECEDOR        1605 non-null   object\n",
      " 2   DESTINO           1605 non-null   object\n",
      " 3   ESTADO/MUNICIPIO  1605 non-null   object\n",
      " 4   TIPO              1605 non-null   object\n",
      " 5   QUANTIDADE        1605 non-null   int64 \n",
      " 6   VALOR             1605 non-null   int64 \n",
      " 7   DESTINATARIO      1605 non-null   object\n",
      " 8   UF                1605 non-null   object\n",
      "dtypes: int64(2), object(7)\n",
      "memory usage: 113.0+ KB\n"
     ]
    }
   ],
   "source": [
    "# Main information of DF.\n",
    "datos.info()"
   ]
  },
  {
   "cell_type": "code",
   "execution_count": 6,
   "id": "12816283",
   "metadata": {},
   "outputs": [
    {
     "data": {
      "text/plain": [
       "(1605, 9)"
      ]
     },
     "execution_count": 6,
     "metadata": {},
     "output_type": "execute_result"
    }
   ],
   "source": [
    "# We check the shape of data.\n",
    "datos.shape"
   ]
  },
  {
   "cell_type": "code",
   "execution_count": 7,
   "id": "c96509d3",
   "metadata": {},
   "outputs": [
    {
     "data": {
      "text/plain": [
       "DATA                object\n",
       "FORNECEDOR          object\n",
       "DESTINO             object\n",
       "ESTADO/MUNICIPIO    object\n",
       "TIPO                object\n",
       "QUANTIDADE           int64\n",
       "VALOR                int64\n",
       "DESTINATARIO        object\n",
       "UF                  object\n",
       "dtype: object"
      ]
     },
     "execution_count": 7,
     "metadata": {},
     "output_type": "execute_result"
    }
   ],
   "source": [
    "# We check the types of variables for each column.\n",
    "datos.dtypes"
   ]
  },
  {
   "cell_type": "code",
   "execution_count": 8,
   "id": "3a4365f3",
   "metadata": {},
   "outputs": [
    {
     "data": {
      "text/plain": [
       "DATA                0\n",
       "FORNECEDOR          0\n",
       "DESTINO             0\n",
       "ESTADO/MUNICIPIO    0\n",
       "TIPO                0\n",
       "QUANTIDADE          0\n",
       "VALOR               0\n",
       "DESTINATARIO        0\n",
       "UF                  0\n",
       "dtype: int64"
      ]
     },
     "execution_count": 8,
     "metadata": {},
     "output_type": "execute_result"
    }
   ],
   "source": [
    "# We check if there are empty positions.\n",
    "datos.isna().sum()"
   ]
  },
  {
   "cell_type": "code",
   "execution_count": 9,
   "id": "3fb1acf9",
   "metadata": {},
   "outputs": [],
   "source": [
    "# Add a date column.\n",
    "datos['DATA'] = pd.to_datetime(datos['DATA'])"
   ]
  },
  {
   "cell_type": "code",
   "execution_count": 10,
   "id": "a0079bc1",
   "metadata": {},
   "outputs": [],
   "source": [
    "# We convert the data type.\n",
    "datos['VALOR'] = datos['VALOR'].astype(float)"
   ]
  },
  {
   "cell_type": "code",
   "execution_count": 11,
   "id": "25ff46d5",
   "metadata": {},
   "outputs": [
    {
     "data": {
      "text/plain": [
       "array(['VYAIRE', 'MAGNAMED', 'KTK', 'LEISTUNG', 'LEISTUNG/VYAIRE',\n",
       "       'KTK/VAYIRE', 'WEG', 'VYAIRE LTV 2200 USA', 'UTI',\n",
       "       'VYAIRE LTV 1200 USA', 'MAGNAMED-REQUISIÇÃO',\n",
       "       'SUZANO/Zhongxun Medical', 'SUZANO/Resmed',\n",
       "       'L C DADDE COM AT INST MAT MEDICO EPP', 'MAGNAMED/REQUISIÇÃO',\n",
       "       'Leistung'], dtype=object)"
      ]
     },
     "execution_count": 11,
     "metadata": {},
     "output_type": "execute_result"
    }
   ],
   "source": [
    "# We check wich values are not repetead.\n",
    "datos['FORNECEDOR'].unique()"
   ]
  },
  {
   "cell_type": "code",
   "execution_count": 12,
   "id": "0fbd2956",
   "metadata": {},
   "outputs": [
    {
     "data": {
      "text/plain": [
       "array(['UTI', 'TRANSPORTE', 'TRANSPORTE USA', 'Transporte'], dtype=object)"
      ]
     },
     "execution_count": 12,
     "metadata": {},
     "output_type": "execute_result"
    }
   ],
   "source": [
    "datos['TIPO'].unique()"
   ]
  },
  {
   "cell_type": "code",
   "execution_count": 13,
   "id": "20d170f2",
   "metadata": {},
   "outputs": [
    {
     "data": {
      "text/plain": [
       "944"
      ]
     },
     "execution_count": 13,
     "metadata": {},
     "output_type": "execute_result"
    }
   ],
   "source": [
    "# '.size' return the value of size.\n",
    "datos['DESTINATARIO'].unique().size"
   ]
  },
  {
   "cell_type": "code",
   "execution_count": 14,
   "id": "12af007a",
   "metadata": {},
   "outputs": [],
   "source": [
    "# We can save the DF with a different extension\n",
    "#datos.to_excel('respirators_distribution_Brazil-modified.xlsx')"
   ]
  },
  {
   "cell_type": "code",
   "execution_count": 15,
   "id": "a906c92d",
   "metadata": {},
   "outputs": [
    {
     "data": {
      "text/html": [
       "<div>\n",
       "<style scoped>\n",
       "    .dataframe tbody tr th:only-of-type {\n",
       "        vertical-align: middle;\n",
       "    }\n",
       "\n",
       "    .dataframe tbody tr th {\n",
       "        vertical-align: top;\n",
       "    }\n",
       "\n",
       "    .dataframe thead th {\n",
       "        text-align: right;\n",
       "    }\n",
       "</style>\n",
       "<table border=\"1\" class=\"dataframe\">\n",
       "  <thead>\n",
       "    <tr style=\"text-align: right;\">\n",
       "      <th></th>\n",
       "      <th>Product</th>\n",
       "      <th>Age</th>\n",
       "      <th>Gender</th>\n",
       "      <th>Education</th>\n",
       "      <th>MaritalStatus</th>\n",
       "      <th>Usage</th>\n",
       "      <th>Fitness</th>\n",
       "      <th>Income</th>\n",
       "      <th>Miles</th>\n",
       "    </tr>\n",
       "  </thead>\n",
       "  <tbody>\n",
       "    <tr>\n",
       "      <th>0</th>\n",
       "      <td>TM195</td>\n",
       "      <td>18</td>\n",
       "      <td>Male</td>\n",
       "      <td>14</td>\n",
       "      <td>Single</td>\n",
       "      <td>3</td>\n",
       "      <td>4</td>\n",
       "      <td>29562</td>\n",
       "      <td>112</td>\n",
       "    </tr>\n",
       "    <tr>\n",
       "      <th>1</th>\n",
       "      <td>TM195</td>\n",
       "      <td>19</td>\n",
       "      <td>Male</td>\n",
       "      <td>15</td>\n",
       "      <td>Single</td>\n",
       "      <td>2</td>\n",
       "      <td>3</td>\n",
       "      <td>31836</td>\n",
       "      <td>75</td>\n",
       "    </tr>\n",
       "    <tr>\n",
       "      <th>2</th>\n",
       "      <td>TM195</td>\n",
       "      <td>19</td>\n",
       "      <td>Female</td>\n",
       "      <td>14</td>\n",
       "      <td>Partnered</td>\n",
       "      <td>4</td>\n",
       "      <td>3</td>\n",
       "      <td>30699</td>\n",
       "      <td>66</td>\n",
       "    </tr>\n",
       "    <tr>\n",
       "      <th>3</th>\n",
       "      <td>TM195</td>\n",
       "      <td>19</td>\n",
       "      <td>Male</td>\n",
       "      <td>12</td>\n",
       "      <td>Single</td>\n",
       "      <td>3</td>\n",
       "      <td>3</td>\n",
       "      <td>32973</td>\n",
       "      <td>85</td>\n",
       "    </tr>\n",
       "    <tr>\n",
       "      <th>4</th>\n",
       "      <td>TM195</td>\n",
       "      <td>20</td>\n",
       "      <td>Male</td>\n",
       "      <td>13</td>\n",
       "      <td>Partnered</td>\n",
       "      <td>4</td>\n",
       "      <td>2</td>\n",
       "      <td>35247</td>\n",
       "      <td>47</td>\n",
       "    </tr>\n",
       "  </tbody>\n",
       "</table>\n",
       "</div>"
      ],
      "text/plain": [
       "  Product  Age  Gender  Education MaritalStatus  Usage  Fitness  Income  Miles\n",
       "0   TM195   18    Male         14        Single      3        4   29562    112\n",
       "1   TM195   19    Male         15        Single      2        3   31836     75\n",
       "2   TM195   19  Female         14     Partnered      4        3   30699     66\n",
       "3   TM195   19    Male         12        Single      3        3   32973     85\n",
       "4   TM195   20    Male         13     Partnered      4        2   35247     47"
      ]
     },
     "execution_count": 15,
     "metadata": {},
     "output_type": "execute_result"
    }
   ],
   "source": [
    "# We load data.\n",
    "datos2 = pd.read_csv('../DataBase/Data3.csv')\n",
    "datos2.head()"
   ]
  },
  {
   "cell_type": "code",
   "execution_count": 16,
   "id": "ea83cabd",
   "metadata": {},
   "outputs": [
    {
     "data": {
      "text/plain": [
       "(180, 9)"
      ]
     },
     "execution_count": 16,
     "metadata": {},
     "output_type": "execute_result"
    }
   ],
   "source": [
    "datos2.shape"
   ]
  },
  {
   "cell_type": "code",
   "execution_count": 17,
   "id": "50da7652",
   "metadata": {},
   "outputs": [
    {
     "data": {
      "text/html": [
       "<div>\n",
       "<style scoped>\n",
       "    .dataframe tbody tr th:only-of-type {\n",
       "        vertical-align: middle;\n",
       "    }\n",
       "\n",
       "    .dataframe tbody tr th {\n",
       "        vertical-align: top;\n",
       "    }\n",
       "\n",
       "    .dataframe thead th {\n",
       "        text-align: right;\n",
       "    }\n",
       "</style>\n",
       "<table border=\"1\" class=\"dataframe\">\n",
       "  <thead>\n",
       "    <tr style=\"text-align: right;\">\n",
       "      <th></th>\n",
       "      <th>Product</th>\n",
       "      <th>Age</th>\n",
       "      <th>Gender</th>\n",
       "      <th>Education</th>\n",
       "      <th>MaritalStatus</th>\n",
       "      <th>Usage</th>\n",
       "      <th>Fitness</th>\n",
       "      <th>Income</th>\n",
       "      <th>Miles</th>\n",
       "    </tr>\n",
       "  </thead>\n",
       "  <tbody>\n",
       "    <tr>\n",
       "      <th>0</th>\n",
       "      <td>TM195</td>\n",
       "      <td>18</td>\n",
       "      <td>Male</td>\n",
       "      <td>14</td>\n",
       "      <td>Single</td>\n",
       "      <td>3</td>\n",
       "      <td>4</td>\n",
       "      <td>29562</td>\n",
       "      <td>112</td>\n",
       "    </tr>\n",
       "    <tr>\n",
       "      <th>1</th>\n",
       "      <td>TM195</td>\n",
       "      <td>19</td>\n",
       "      <td>Male</td>\n",
       "      <td>15</td>\n",
       "      <td>Single</td>\n",
       "      <td>2</td>\n",
       "      <td>3</td>\n",
       "      <td>31836</td>\n",
       "      <td>75</td>\n",
       "    </tr>\n",
       "    <tr>\n",
       "      <th>2</th>\n",
       "      <td>TM195</td>\n",
       "      <td>19</td>\n",
       "      <td>Female</td>\n",
       "      <td>14</td>\n",
       "      <td>Partnered</td>\n",
       "      <td>4</td>\n",
       "      <td>3</td>\n",
       "      <td>30699</td>\n",
       "      <td>66</td>\n",
       "    </tr>\n",
       "  </tbody>\n",
       "</table>\n",
       "</div>"
      ],
      "text/plain": [
       "  Product  Age  Gender  Education MaritalStatus  Usage  Fitness  Income  Miles\n",
       "0   TM195   18    Male         14        Single      3        4   29562    112\n",
       "1   TM195   19    Male         15        Single      2        3   31836     75\n",
       "2   TM195   19  Female         14     Partnered      4        3   30699     66"
      ]
     },
     "execution_count": 17,
     "metadata": {},
     "output_type": "execute_result"
    }
   ],
   "source": [
    "datos2.head(3)"
   ]
  },
  {
   "cell_type": "code",
   "execution_count": 18,
   "id": "0ad83a58",
   "metadata": {},
   "outputs": [
    {
     "data": {
      "text/html": [
       "<div>\n",
       "<style scoped>\n",
       "    .dataframe tbody tr th:only-of-type {\n",
       "        vertical-align: middle;\n",
       "    }\n",
       "\n",
       "    .dataframe tbody tr th {\n",
       "        vertical-align: top;\n",
       "    }\n",
       "\n",
       "    .dataframe thead th {\n",
       "        text-align: right;\n",
       "    }\n",
       "</style>\n",
       "<table border=\"1\" class=\"dataframe\">\n",
       "  <thead>\n",
       "    <tr style=\"text-align: right;\">\n",
       "      <th></th>\n",
       "      <th>Product</th>\n",
       "      <th>Age</th>\n",
       "      <th>Gender</th>\n",
       "      <th>Education</th>\n",
       "      <th>MaritalStatus</th>\n",
       "      <th>Usage</th>\n",
       "      <th>Fitness</th>\n",
       "      <th>Income</th>\n",
       "      <th>Miles</th>\n",
       "    </tr>\n",
       "  </thead>\n",
       "  <tbody>\n",
       "    <tr>\n",
       "      <th>178</th>\n",
       "      <td>TM798</td>\n",
       "      <td>47</td>\n",
       "      <td>Male</td>\n",
       "      <td>18</td>\n",
       "      <td>Partnered</td>\n",
       "      <td>4</td>\n",
       "      <td>5</td>\n",
       "      <td>104581</td>\n",
       "      <td>120</td>\n",
       "    </tr>\n",
       "    <tr>\n",
       "      <th>179</th>\n",
       "      <td>TM798</td>\n",
       "      <td>48</td>\n",
       "      <td>Male</td>\n",
       "      <td>18</td>\n",
       "      <td>Partnered</td>\n",
       "      <td>4</td>\n",
       "      <td>5</td>\n",
       "      <td>95508</td>\n",
       "      <td>180</td>\n",
       "    </tr>\n",
       "  </tbody>\n",
       "</table>\n",
       "</div>"
      ],
      "text/plain": [
       "    Product  Age Gender  Education MaritalStatus  Usage  Fitness  Income  \\\n",
       "178   TM798   47   Male         18     Partnered      4        5  104581   \n",
       "179   TM798   48   Male         18     Partnered      4        5   95508   \n",
       "\n",
       "     Miles  \n",
       "178    120  \n",
       "179    180  "
      ]
     },
     "execution_count": 18,
     "metadata": {},
     "output_type": "execute_result"
    }
   ],
   "source": [
    "datos2.tail(2)"
   ]
  },
  {
   "cell_type": "code",
   "execution_count": 19,
   "id": "2fce200b",
   "metadata": {},
   "outputs": [
    {
     "data": {
      "text/plain": [
       "Product          object\n",
       "Age               int64\n",
       "Gender           object\n",
       "Education         int64\n",
       "MaritalStatus    object\n",
       "Usage             int64\n",
       "Fitness           int64\n",
       "Income            int64\n",
       "Miles             int64\n",
       "dtype: object"
      ]
     },
     "execution_count": 19,
     "metadata": {},
     "output_type": "execute_result"
    }
   ],
   "source": [
    "datos2.dtypes"
   ]
  },
  {
   "cell_type": "code",
   "execution_count": 20,
   "id": "a6f2df09",
   "metadata": {},
   "outputs": [
    {
     "data": {
      "text/plain": [
       "array(['TM195', 'TM498', 'TM798'], dtype=object)"
      ]
     },
     "execution_count": 20,
     "metadata": {},
     "output_type": "execute_result"
    }
   ],
   "source": [
    "datos2['Income'].astype(float)\n",
    "datos2['Product'].unique()"
   ]
  },
  {
   "cell_type": "code",
   "execution_count": 21,
   "id": "f1696bd4",
   "metadata": {},
   "outputs": [
    {
     "data": {
      "text/plain": [
       "array(['Single', 'Partnered'], dtype=object)"
      ]
     },
     "execution_count": 21,
     "metadata": {},
     "output_type": "execute_result"
    }
   ],
   "source": [
    "datos2['MaritalStatus'].unique()"
   ]
  },
  {
   "cell_type": "code",
   "execution_count": 22,
   "id": "16897978",
   "metadata": {},
   "outputs": [
    {
     "data": {
      "text/plain": [
       "Male      104\n",
       "Female     76\n",
       "Name: Gender, dtype: int64"
      ]
     },
     "execution_count": 22,
     "metadata": {},
     "output_type": "execute_result"
    }
   ],
   "source": [
    "# We can count how many repeat values a variable has.\n",
    "datos2['Gender'].value_counts()"
   ]
  },
  {
   "cell_type": "code",
   "execution_count": 23,
   "id": "7fcb8a9f",
   "metadata": {},
   "outputs": [],
   "source": [
    "# We can save the DF in a .json file.\n",
    "#datos2.to_json('JSON.json')"
   ]
  },
  {
   "cell_type": "code",
   "execution_count": 24,
   "id": "b8ff725e",
   "metadata": {},
   "outputs": [
    {
     "data": {
      "text/html": [
       "<div>\n",
       "<style scoped>\n",
       "    .dataframe tbody tr th:only-of-type {\n",
       "        vertical-align: middle;\n",
       "    }\n",
       "\n",
       "    .dataframe tbody tr th {\n",
       "        vertical-align: top;\n",
       "    }\n",
       "\n",
       "    .dataframe thead th {\n",
       "        text-align: right;\n",
       "    }\n",
       "</style>\n",
       "<table border=\"1\" class=\"dataframe\">\n",
       "  <thead>\n",
       "    <tr style=\"text-align: right;\">\n",
       "      <th></th>\n",
       "      <th>Year</th>\n",
       "      <th>Nominal GDP(billions USD)</th>\n",
       "      <th>GDP per capita(USD)</th>\n",
       "      <th>GDP growth(real)</th>\n",
       "      <th>Inflation rate(in %)</th>\n",
       "      <th>Unemployment(in %)</th>\n",
       "      <th>Budget balance(in % of GDP)[106]</th>\n",
       "      <th>Government debt held by public(in % of GDP)[107]</th>\n",
       "      <th>Current accountbalance(in % of GDP)</th>\n",
       "    </tr>\n",
       "  </thead>\n",
       "  <tbody>\n",
       "    <tr>\n",
       "      <th>0</th>\n",
       "      <td>2020 (est)</td>\n",
       "      <td>20934.0</td>\n",
       "      <td>57589</td>\n",
       "      <td>−3.5 %</td>\n",
       "      <td>0.62 %</td>\n",
       "      <td>11.1 %</td>\n",
       "      <td>−n/a %</td>\n",
       "      <td>79.9 %</td>\n",
       "      <td>−n/a %</td>\n",
       "    </tr>\n",
       "    <tr>\n",
       "      <th>1</th>\n",
       "      <td>2019</td>\n",
       "      <td>21439.0</td>\n",
       "      <td>64674</td>\n",
       "      <td>2.2 %</td>\n",
       "      <td>1.8 %</td>\n",
       "      <td>3.5 %</td>\n",
       "      <td>−4.6 %</td>\n",
       "      <td>78.9 %</td>\n",
       "      <td>−2.5 %</td>\n",
       "    </tr>\n",
       "    <tr>\n",
       "      <th>2</th>\n",
       "      <td>2018</td>\n",
       "      <td>20611.2</td>\n",
       "      <td>62869</td>\n",
       "      <td>3.0 %</td>\n",
       "      <td>2.4 %</td>\n",
       "      <td>3.9 %</td>\n",
       "      <td>−3.8 %</td>\n",
       "      <td>77.8 %</td>\n",
       "      <td>−2.4 %</td>\n",
       "    </tr>\n",
       "    <tr>\n",
       "      <th>3</th>\n",
       "      <td>2017</td>\n",
       "      <td>19519.4</td>\n",
       "      <td>60000</td>\n",
       "      <td>2.3%</td>\n",
       "      <td>2.1 %</td>\n",
       "      <td>4.4 %</td>\n",
       "      <td>−3.4 %</td>\n",
       "      <td>76.1%</td>\n",
       "      <td>−2.3 %</td>\n",
       "    </tr>\n",
       "    <tr>\n",
       "      <th>4</th>\n",
       "      <td>2016</td>\n",
       "      <td>18715.0</td>\n",
       "      <td>57878</td>\n",
       "      <td>1.7 %</td>\n",
       "      <td>1.3 %</td>\n",
       "      <td>4.9 %</td>\n",
       "      <td>−3.1 %</td>\n",
       "      <td>76.4%</td>\n",
       "      <td>−2.3 %</td>\n",
       "    </tr>\n",
       "  </tbody>\n",
       "</table>\n",
       "</div>"
      ],
      "text/plain": [
       "         Year  Nominal GDP(billions USD)  GDP per capita(USD)  \\\n",
       "0  2020 (est)                    20934.0                57589   \n",
       "1        2019                    21439.0                64674   \n",
       "2        2018                    20611.2                62869   \n",
       "3        2017                    19519.4                60000   \n",
       "4        2016                    18715.0                57878   \n",
       "\n",
       "  GDP growth(real) Inflation rate(in %) Unemployment(in %)  \\\n",
       "0           −3.5 %               0.62 %             11.1 %   \n",
       "1            2.2 %                1.8 %              3.5 %   \n",
       "2            3.0 %                2.4 %              3.9 %   \n",
       "3             2.3%                2.1 %              4.4 %   \n",
       "4            1.7 %                1.3 %              4.9 %   \n",
       "\n",
       "  Budget balance(in % of GDP)[106]  \\\n",
       "0                           −n/a %   \n",
       "1                           −4.6 %   \n",
       "2                           −3.8 %   \n",
       "3                           −3.4 %   \n",
       "4                           −3.1 %   \n",
       "\n",
       "  Government debt held by public(in % of GDP)[107]  \\\n",
       "0                                           79.9 %   \n",
       "1                                           78.9 %   \n",
       "2                                           77.8 %   \n",
       "3                                            76.1%   \n",
       "4                                            76.4%   \n",
       "\n",
       "  Current accountbalance(in % of GDP)  \n",
       "0                              −n/a %  \n",
       "1                              −2.5 %  \n",
       "2                              −2.4 %  \n",
       "3                              −2.3 %  \n",
       "4                              −2.3 %  "
      ]
     },
     "execution_count": 24,
     "metadata": {},
     "output_type": "execute_result"
    }
   ],
   "source": [
    "# We load data for a link in format .html\n",
    "datos3 = pd.read_html('https://en.wikipedia.org/wiki/Economy_of_the_United_States')[1]\n",
    "datos3.to_csv('Economy.csv', sep = ';', index=False)\n",
    "datos3.head()"
   ]
  },
  {
   "cell_type": "code",
   "execution_count": 25,
   "id": "c553b4ef",
   "metadata": {},
   "outputs": [
    {
     "data": {
      "text/html": [
       "<div>\n",
       "<style scoped>\n",
       "    .dataframe tbody tr th:only-of-type {\n",
       "        vertical-align: middle;\n",
       "    }\n",
       "\n",
       "    .dataframe tbody tr th {\n",
       "        vertical-align: top;\n",
       "    }\n",
       "\n",
       "    .dataframe thead th {\n",
       "        text-align: right;\n",
       "    }\n",
       "</style>\n",
       "<table border=\"1\" class=\"dataframe\">\n",
       "  <thead>\n",
       "    <tr style=\"text-align: right;\">\n",
       "      <th></th>\n",
       "      <th>Domain Code</th>\n",
       "      <th>Domain</th>\n",
       "      <th>Area Code</th>\n",
       "      <th>Area</th>\n",
       "      <th>Element Code</th>\n",
       "      <th>Element</th>\n",
       "      <th>Item Code</th>\n",
       "      <th>Item</th>\n",
       "      <th>Year Code</th>\n",
       "      <th>Year</th>\n",
       "      <th>Unit</th>\n",
       "      <th>Value</th>\n",
       "      <th>Flag</th>\n",
       "      <th>Flag Description</th>\n",
       "    </tr>\n",
       "  </thead>\n",
       "  <tbody>\n",
       "    <tr>\n",
       "      <th>0</th>\n",
       "      <td>QC</td>\n",
       "      <td>Crops</td>\n",
       "      <td>9</td>\n",
       "      <td>Argentina</td>\n",
       "      <td>5419</td>\n",
       "      <td>Yield</td>\n",
       "      <td>515</td>\n",
       "      <td>Apples</td>\n",
       "      <td>2016</td>\n",
       "      <td>2016</td>\n",
       "      <td>hg/ha</td>\n",
       "      <td>223912</td>\n",
       "      <td>Fc</td>\n",
       "      <td>Calculated data</td>\n",
       "    </tr>\n",
       "    <tr>\n",
       "      <th>1</th>\n",
       "      <td>QC</td>\n",
       "      <td>Crops</td>\n",
       "      <td>9</td>\n",
       "      <td>Argentina</td>\n",
       "      <td>5419</td>\n",
       "      <td>Yield</td>\n",
       "      <td>515</td>\n",
       "      <td>Apples</td>\n",
       "      <td>2017</td>\n",
       "      <td>2017</td>\n",
       "      <td>hg/ha</td>\n",
       "      <td>235386</td>\n",
       "      <td>Fc</td>\n",
       "      <td>Calculated data</td>\n",
       "    </tr>\n",
       "    <tr>\n",
       "      <th>2</th>\n",
       "      <td>QC</td>\n",
       "      <td>Crops</td>\n",
       "      <td>9</td>\n",
       "      <td>Argentina</td>\n",
       "      <td>5419</td>\n",
       "      <td>Yield</td>\n",
       "      <td>515</td>\n",
       "      <td>Apples</td>\n",
       "      <td>2018</td>\n",
       "      <td>2018</td>\n",
       "      <td>hg/ha</td>\n",
       "      <td>213072</td>\n",
       "      <td>Fc</td>\n",
       "      <td>Calculated data</td>\n",
       "    </tr>\n",
       "    <tr>\n",
       "      <th>3</th>\n",
       "      <td>QC</td>\n",
       "      <td>Crops</td>\n",
       "      <td>9</td>\n",
       "      <td>Argentina</td>\n",
       "      <td>5510</td>\n",
       "      <td>Production</td>\n",
       "      <td>515</td>\n",
       "      <td>Apples</td>\n",
       "      <td>2016</td>\n",
       "      <td>2016</td>\n",
       "      <td>tonnes</td>\n",
       "      <td>458908</td>\n",
       "      <td>NaN</td>\n",
       "      <td>Official data</td>\n",
       "    </tr>\n",
       "    <tr>\n",
       "      <th>4</th>\n",
       "      <td>QC</td>\n",
       "      <td>Crops</td>\n",
       "      <td>9</td>\n",
       "      <td>Argentina</td>\n",
       "      <td>5510</td>\n",
       "      <td>Production</td>\n",
       "      <td>515</td>\n",
       "      <td>Apples</td>\n",
       "      <td>2017</td>\n",
       "      <td>2017</td>\n",
       "      <td>tonnes</td>\n",
       "      <td>458908</td>\n",
       "      <td>NaN</td>\n",
       "      <td>Official data</td>\n",
       "    </tr>\n",
       "  </tbody>\n",
       "</table>\n",
       "</div>"
      ],
      "text/plain": [
       "  Domain Code Domain  Area Code       Area  Element Code     Element  \\\n",
       "0          QC  Crops          9  Argentina          5419       Yield   \n",
       "1          QC  Crops          9  Argentina          5419       Yield   \n",
       "2          QC  Crops          9  Argentina          5419       Yield   \n",
       "3          QC  Crops          9  Argentina          5510  Production   \n",
       "4          QC  Crops          9  Argentina          5510  Production   \n",
       "\n",
       "   Item Code    Item  Year Code  Year    Unit   Value Flag Flag Description  \n",
       "0        515  Apples       2016  2016   hg/ha  223912   Fc  Calculated data  \n",
       "1        515  Apples       2017  2017   hg/ha  235386   Fc  Calculated data  \n",
       "2        515  Apples       2018  2018   hg/ha  213072   Fc  Calculated data  \n",
       "3        515  Apples       2016  2016  tonnes  458908  NaN    Official data  \n",
       "4        515  Apples       2017  2017  tonnes  458908  NaN    Official data  "
      ]
     },
     "execution_count": 25,
     "metadata": {},
     "output_type": "execute_result"
    }
   ],
   "source": [
    "datos4 = pd.read_csv('../DataBase/Data4.csv')\n",
    "datos4.head()"
   ]
  },
  {
   "cell_type": "code",
   "execution_count": 26,
   "id": "fc161508",
   "metadata": {},
   "outputs": [
    {
     "data": {
      "text/plain": [
       "(66, 14)"
      ]
     },
     "execution_count": 26,
     "metadata": {},
     "output_type": "execute_result"
    }
   ],
   "source": [
    "datos4.shape"
   ]
  },
  {
   "cell_type": "code",
   "execution_count": 27,
   "id": "55e9a6f4",
   "metadata": {},
   "outputs": [
    {
     "name": "stdout",
     "output_type": "stream",
     "text": [
      "<class 'pandas.core.frame.DataFrame'>\n",
      "RangeIndex: 66 entries, 0 to 65\n",
      "Data columns (total 14 columns):\n",
      " #   Column            Non-Null Count  Dtype \n",
      "---  ------            --------------  ----- \n",
      " 0   Domain Code       66 non-null     object\n",
      " 1   Domain            66 non-null     object\n",
      " 2   Area Code         66 non-null     int64 \n",
      " 3   Area              66 non-null     object\n",
      " 4   Element Code      66 non-null     int64 \n",
      " 5   Element           66 non-null     object\n",
      " 6   Item Code         66 non-null     int64 \n",
      " 7   Item              66 non-null     object\n",
      " 8   Year Code         66 non-null     int64 \n",
      " 9   Year              66 non-null     int64 \n",
      " 10  Unit              66 non-null     object\n",
      " 11  Value             66 non-null     int64 \n",
      " 12  Flag              43 non-null     object\n",
      " 13  Flag Description  66 non-null     object\n",
      "dtypes: int64(6), object(8)\n",
      "memory usage: 7.3+ KB\n"
     ]
    }
   ],
   "source": [
    "datos4.info()"
   ]
  },
  {
   "cell_type": "code",
   "execution_count": 28,
   "id": "3c236aa0",
   "metadata": {},
   "outputs": [
    {
     "data": {
      "text/plain": [
       "Domain Code         object\n",
       "Domain              object\n",
       "Area Code            int64\n",
       "Area                object\n",
       "Element Code         int64\n",
       "Element             object\n",
       "Item Code            int64\n",
       "Item                object\n",
       "Year Code            int64\n",
       "Year                 int64\n",
       "Unit                object\n",
       "Value                int64\n",
       "Flag                object\n",
       "Flag Description    object\n",
       "dtype: object"
      ]
     },
     "execution_count": 28,
     "metadata": {},
     "output_type": "execute_result"
    }
   ],
   "source": [
    "datos4.dtypes"
   ]
  },
  {
   "cell_type": "code",
   "execution_count": 29,
   "id": "96741221",
   "metadata": {},
   "outputs": [
    {
     "data": {
      "text/html": [
       "<div>\n",
       "<style scoped>\n",
       "    .dataframe tbody tr th:only-of-type {\n",
       "        vertical-align: middle;\n",
       "    }\n",
       "\n",
       "    .dataframe tbody tr th {\n",
       "        vertical-align: top;\n",
       "    }\n",
       "\n",
       "    .dataframe thead th {\n",
       "        text-align: right;\n",
       "    }\n",
       "</style>\n",
       "<table border=\"1\" class=\"dataframe\">\n",
       "  <thead>\n",
       "    <tr style=\"text-align: right;\">\n",
       "      <th></th>\n",
       "      <th>Area</th>\n",
       "      <th>Element</th>\n",
       "      <th>Item</th>\n",
       "      <th>Year</th>\n",
       "      <th>Unit</th>\n",
       "      <th>Value</th>\n",
       "    </tr>\n",
       "  </thead>\n",
       "  <tbody>\n",
       "    <tr>\n",
       "      <th>0</th>\n",
       "      <td>Argentina</td>\n",
       "      <td>Yield</td>\n",
       "      <td>Apples</td>\n",
       "      <td>2016</td>\n",
       "      <td>hg/ha</td>\n",
       "      <td>223912</td>\n",
       "    </tr>\n",
       "    <tr>\n",
       "      <th>1</th>\n",
       "      <td>Argentina</td>\n",
       "      <td>Yield</td>\n",
       "      <td>Apples</td>\n",
       "      <td>2017</td>\n",
       "      <td>hg/ha</td>\n",
       "      <td>235386</td>\n",
       "    </tr>\n",
       "    <tr>\n",
       "      <th>2</th>\n",
       "      <td>Argentina</td>\n",
       "      <td>Yield</td>\n",
       "      <td>Apples</td>\n",
       "      <td>2018</td>\n",
       "      <td>hg/ha</td>\n",
       "      <td>213072</td>\n",
       "    </tr>\n",
       "    <tr>\n",
       "      <th>3</th>\n",
       "      <td>Argentina</td>\n",
       "      <td>Production</td>\n",
       "      <td>Apples</td>\n",
       "      <td>2016</td>\n",
       "      <td>tonnes</td>\n",
       "      <td>458908</td>\n",
       "    </tr>\n",
       "    <tr>\n",
       "      <th>4</th>\n",
       "      <td>Argentina</td>\n",
       "      <td>Production</td>\n",
       "      <td>Apples</td>\n",
       "      <td>2017</td>\n",
       "      <td>tonnes</td>\n",
       "      <td>458908</td>\n",
       "    </tr>\n",
       "    <tr>\n",
       "      <th>...</th>\n",
       "      <td>...</td>\n",
       "      <td>...</td>\n",
       "      <td>...</td>\n",
       "      <td>...</td>\n",
       "      <td>...</td>\n",
       "      <td>...</td>\n",
       "    </tr>\n",
       "    <tr>\n",
       "      <th>61</th>\n",
       "      <td>United States of America</td>\n",
       "      <td>Yield</td>\n",
       "      <td>Tomatoes</td>\n",
       "      <td>2017</td>\n",
       "      <td>hg/ha</td>\n",
       "      <td>886625</td>\n",
       "    </tr>\n",
       "    <tr>\n",
       "      <th>62</th>\n",
       "      <td>United States of America</td>\n",
       "      <td>Yield</td>\n",
       "      <td>Tomatoes</td>\n",
       "      <td>2018</td>\n",
       "      <td>hg/ha</td>\n",
       "      <td>968079</td>\n",
       "    </tr>\n",
       "    <tr>\n",
       "      <th>63</th>\n",
       "      <td>United States of America</td>\n",
       "      <td>Production</td>\n",
       "      <td>Tomatoes</td>\n",
       "      <td>2016</td>\n",
       "      <td>tonnes</td>\n",
       "      <td>12877049</td>\n",
       "    </tr>\n",
       "    <tr>\n",
       "      <th>64</th>\n",
       "      <td>United States of America</td>\n",
       "      <td>Production</td>\n",
       "      <td>Tomatoes</td>\n",
       "      <td>2017</td>\n",
       "      <td>tonnes</td>\n",
       "      <td>11141862</td>\n",
       "    </tr>\n",
       "    <tr>\n",
       "      <th>65</th>\n",
       "      <td>United States of America</td>\n",
       "      <td>Production</td>\n",
       "      <td>Tomatoes</td>\n",
       "      <td>2018</td>\n",
       "      <td>tonnes</td>\n",
       "      <td>12612139</td>\n",
       "    </tr>\n",
       "  </tbody>\n",
       "</table>\n",
       "<p>66 rows × 6 columns</p>\n",
       "</div>"
      ],
      "text/plain": [
       "                        Area     Element      Item  Year    Unit     Value\n",
       "0                  Argentina       Yield    Apples  2016   hg/ha    223912\n",
       "1                  Argentina       Yield    Apples  2017   hg/ha    235386\n",
       "2                  Argentina       Yield    Apples  2018   hg/ha    213072\n",
       "3                  Argentina  Production    Apples  2016  tonnes    458908\n",
       "4                  Argentina  Production    Apples  2017  tonnes    458908\n",
       "..                       ...         ...       ...   ...     ...       ...\n",
       "61  United States of America       Yield  Tomatoes  2017   hg/ha    886625\n",
       "62  United States of America       Yield  Tomatoes  2018   hg/ha    968079\n",
       "63  United States of America  Production  Tomatoes  2016  tonnes  12877049\n",
       "64  United States of America  Production  Tomatoes  2017  tonnes  11141862\n",
       "65  United States of America  Production  Tomatoes  2018  tonnes  12612139\n",
       "\n",
       "[66 rows x 6 columns]"
      ]
     },
     "execution_count": 29,
     "metadata": {},
     "output_type": "execute_result"
    }
   ],
   "source": [
    "# Command 'df.drop' for cut a DF.\n",
    "datos4.drop(['Domain Code', 'Domain', 'Area Code', \n",
    "             'Element Code', 'Item Code', 'Year Code', 'Flag', 'Flag Description'], axis=1)"
   ]
  },
  {
   "cell_type": "code",
   "execution_count": 30,
   "id": "d8b97c5e",
   "metadata": {},
   "outputs": [
    {
     "data": {
      "text/plain": [
       "0       223912.0\n",
       "1       235386.0\n",
       "2       213072.0\n",
       "3       458908.0\n",
       "4       458908.0\n",
       "         ...    \n",
       "61      886625.0\n",
       "62      968079.0\n",
       "63    12877049.0\n",
       "64    11141862.0\n",
       "65    12612139.0\n",
       "Name: Value, Length: 66, dtype: float64"
      ]
     },
     "execution_count": 30,
     "metadata": {},
     "output_type": "execute_result"
    }
   ],
   "source": [
    "datos4['Value'].astype(float)"
   ]
  },
  {
   "cell_type": "code",
   "execution_count": 31,
   "id": "ea33a15c",
   "metadata": {},
   "outputs": [],
   "source": [
    "# Command for save a DF in a csv file.\n",
    "#datos4.to_csv('FAOSTAT_data_12-5-2020_Modified.csv', sep=';', index=False)"
   ]
  },
  {
   "cell_type": "code",
   "execution_count": null,
   "id": "1fe5656a",
   "metadata": {},
   "outputs": [],
   "source": []
  }
 ],
 "metadata": {
  "kernelspec": {
   "display_name": "Python 3 (ipykernel)",
   "language": "python",
   "name": "python3"
  },
  "language_info": {
   "codemirror_mode": {
    "name": "ipython",
    "version": 3
   },
   "file_extension": ".py",
   "mimetype": "text/x-python",
   "name": "python",
   "nbconvert_exporter": "python",
   "pygments_lexer": "ipython3",
   "version": "3.8.8"
  }
 },
 "nbformat": 4,
 "nbformat_minor": 5
}
