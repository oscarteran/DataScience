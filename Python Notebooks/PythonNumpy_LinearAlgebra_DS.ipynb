{
 "cells": [
  {
   "cell_type": "markdown",
   "id": "fb4d8db7",
   "metadata": {},
   "source": [
    "## Data Science\n",
    "\n",
    "#### Oscar Hernández Terán. Geophysical engineer \n",
    "\n",
    "This workbook contains exercises from the Numpy library for linear algebra applications. It runs on python3, specifically version 3.9.7."
   ]
  },
  {
   "cell_type": "code",
   "execution_count": 1,
   "id": "d636e36a",
   "metadata": {},
   "outputs": [],
   "source": [
    "# We import the library.\n",
    "import numpy as np"
   ]
  },
  {
   "cell_type": "code",
   "execution_count": 2,
   "id": "65747095",
   "metadata": {},
   "outputs": [
    {
     "name": "stdout",
     "output_type": "stream",
     "text": [
      "[[ 1  2  3]\n",
      " [ 2  1 -1]]\n",
      "[[ 1 -2  0]\n",
      " [ 3  0  1]\n",
      " [ 4  5  6]]\n",
      "[[1 2 3]\n",
      " [4 5 6]\n",
      " [7 8 9]]\n",
      "[[1]\n",
      " [4]\n",
      " [3]]\n"
     ]
    }
   ],
   "source": [
    "# Exercise 1. Cretion and rearrange of matrix.\n",
    "Mat = np.array([[1,2,3],[2,1,-1]])\n",
    "Mat2 = np.array([1,-2,0,3,0,1,4,5,6]).reshape((3,3))\n",
    "Mat3 = np.array(range(1,10)).reshape(3,3)\n",
    "Mat4 = np.array([1,4,3]).reshape(-1,1)\n",
    "print(Mat)\n",
    "print(Mat2)\n",
    "print(Mat3)\n",
    "print(Mat4)"
   ]
  },
  {
   "cell_type": "code",
   "execution_count": 3,
   "id": "4959f762",
   "metadata": {},
   "outputs": [
    {
     "name": "stdout",
     "output_type": "stream",
     "text": [
      "[[1]\n",
      " [2]\n",
      " [3]\n",
      " [4]\n",
      " [5]\n",
      " [6]]\n",
      "[  1   0   3 -10]\n",
      "[1 2 3 4 5]\n"
     ]
    }
   ],
   "source": [
    "# Exercise 2. Rearrange of matrix.\n",
    "print(np.array(range(1,7)).reshape(-1,1))\n",
    "print(np.array([1,0,3,-10]))\n",
    "print(np.array(np.arange(1,6,1)))"
   ]
  },
  {
   "cell_type": "code",
   "execution_count": 4,
   "id": "fde8dd5b",
   "metadata": {},
   "outputs": [
    {
     "name": "stdout",
     "output_type": "stream",
     "text": [
      "[[0 0]\n",
      " [0 0]]\n",
      "[[0 0 0 0 0]\n",
      " [0 0 0 0 0]\n",
      " [0 0 0 0 0]]\n",
      "[[1 1 1 1 1]\n",
      " [1 1 1 1 1]\n",
      " [1 1 1 1 1]\n",
      " [1 1 1 1 1]\n",
      " [1 1 1 1 1]]\n",
      "[[1. 0.]\n",
      " [0. 1.]]\n",
      "[[1. 0. 0.]\n",
      " [0. 1. 0.]\n",
      " [0. 0. 1.]]\n",
      "[[1. 0. 0. 0. 0. 0.]\n",
      " [0. 1. 0. 0. 0. 0.]\n",
      " [0. 0. 1. 0. 0. 0.]\n",
      " [0. 0. 0. 1. 0. 0.]\n",
      " [0. 0. 0. 0. 1. 0.]\n",
      " [0. 0. 0. 0. 0. 1.]]\n"
     ]
    }
   ],
   "source": [
    "# Exercise 3. Matrix of zeros, ones and identity.\n",
    "print(np.zeros((2,2), dtype = int))\n",
    "print(np.zeros((3,5), dtype = int))\n",
    "print(np.ones((5,5), dtype = int))\n",
    "print(np.eye(2))\n",
    "print(np.eye(3))\n",
    "print(np.eye(6))"
   ]
  },
  {
   "cell_type": "code",
   "execution_count": 5,
   "id": "f2d6ebbd",
   "metadata": {},
   "outputs": [
    {
     "name": "stdout",
     "output_type": "stream",
     "text": [
      "[[1 2 3]\n",
      " [0 5 6]\n",
      " [0 0 9]]\n",
      "[[1 0 0]\n",
      " [4 5 0]\n",
      " [7 8 9]]\n",
      "[[100 101 102 103 104]\n",
      " [  0 106 107 108 109]\n",
      " [  0   0 112 113 114]\n",
      " [  0   0   0 118 119]\n",
      " [  0   0   0   0 124]]\n"
     ]
    }
   ],
   "source": [
    "# Exercise 4. \n",
    "print(np.triu(np.array(range(1,10)).reshape(3,3)))\n",
    "print(np.tril(np.array(range(1,10)).reshape(3,3)))\n",
    "print(np.triu(np.array(range(100,125)).reshape(5,5)))"
   ]
  },
  {
   "cell_type": "code",
   "execution_count": 6,
   "id": "42c0e6eb",
   "metadata": {},
   "outputs": [
    {
     "name": "stdout",
     "output_type": "stream",
     "text": [
      "[[ 7  0  0]\n",
      " [ 0  1  0]\n",
      " [ 0  0 -1]]\n",
      "[[3 0 0 0]\n",
      " [0 3 0 0]\n",
      " [0 0 3 0]\n",
      " [0 0 0 3]]\n",
      "[[-5  0  0  0  0]\n",
      " [ 0 -4  0  0  0]\n",
      " [ 0  0 -3  0  0]\n",
      " [ 0  0  0 -2  0]\n",
      " [ 0  0  0  0 -1]]\n",
      "[[3. 0. 0. 0.]\n",
      " [0. 3. 0. 0.]\n",
      " [0. 0. 3. 0.]\n",
      " [0. 0. 0. 3.]]\n"
     ]
    }
   ],
   "source": [
    "# Ejercicio 5\n",
    "print(np.diag([7,1,-1]))\n",
    "print(np.diag([3,3,3,3]))\n",
    "print(np.diag(range(-5,0,1)))\n",
    "print(np.diag(np.ones(4)*3))"
   ]
  },
  {
   "cell_type": "code",
   "execution_count": 7,
   "id": "e9256d72",
   "metadata": {},
   "outputs": [
    {
     "name": "stdout",
     "output_type": "stream",
     "text": [
      "[[11 36]\n",
      " [ 8  5]\n",
      " [-2 -6]]\n"
     ]
    }
   ],
   "source": [
    "# Ejercicio 6\n",
    "A = np.array([[10,11],[5,1],[-2,4]])\n",
    "B = np.array([[1,25],[3,4],[0,-10]])\n",
    "print(A+B)"
   ]
  },
  {
   "cell_type": "code",
   "execution_count": 8,
   "id": "3b455825",
   "metadata": {},
   "outputs": [
    {
     "name": "stdout",
     "output_type": "stream",
     "text": [
      "[[ True  True]\n",
      " [ True  True]\n",
      " [ True  True]]\n",
      "[[ True  True]\n",
      " [ True  True]\n",
      " [ True  True]]\n",
      "[[ True  True]\n",
      " [ True  True]\n",
      " [ True  True]]\n"
     ]
    }
   ],
   "source": [
    "# Ejercicio 7\n",
    "A = np.array([[10,11],[5,1],[-2,4]])\n",
    "B = np.array([[1,25],[3,4],[0,-10]])\n",
    "C = np.array([[7,3],[6,1],[0,0]])\n",
    "zero = np.zeros(shape=(3,2))\n",
    "'''\n",
    "if A+B == B+A:\n",
    "    print('La commutatividad es correcta')\n",
    "elif A+(B+C) == (A+B)+C:\n",
    "    print('La asociación es correcta')\n",
    "elif A+0 == A:\n",
    "    print('0 es la matriz nula')\n",
    "'''\n",
    "\n",
    "print(A+B==B+A)\n",
    "print((A+(B+C))==((A+B)+C))\n",
    "print(A+zero==A)"
   ]
  },
  {
   "cell_type": "code",
   "execution_count": 9,
   "id": "5a1ff2cd",
   "metadata": {},
   "outputs": [
    {
     "name": "stdout",
     "output_type": "stream",
     "text": [
      "[[-1  2  4]\n",
      " [ 5  1  0]]\n",
      "[[15]\n",
      " [-4]]\n",
      "[[15]\n",
      " [-4]]\n",
      "[[ 1  2  3]\n",
      " [ 2  1 -1]]\n",
      "[[-1 -2 -3]\n",
      " [-2 -1  1]]\n",
      "[[-4  4  9]\n",
      " [13  2  1]]\n"
     ]
    }
   ],
   "source": [
    "# Ejercicio 8\n",
    "A = np.array([[1,2,3],[2,1,-1]])\n",
    "B = np.array([[-2,0,1],[3,0,1]])\n",
    "C = np.array([[-1],[2],[4]])\n",
    "D = np.array([[2,-1]])\n",
    "\n",
    "print(A+B)\n",
    "print(A.dot(C))\n",
    "print(np.matmul(A,C))\n",
    "print(A)\n",
    "print(-A)\n",
    "print(2*A + 3*B)"
   ]
  },
  {
   "cell_type": "code",
   "execution_count": 10,
   "id": "1d7e5905",
   "metadata": {},
   "outputs": [
    {
     "name": "stdout",
     "output_type": "stream",
     "text": [
      "[[ True  True  True  True]\n",
      " [ True  True  True  True]\n",
      " [ True  True  True  True]]\n"
     ]
    }
   ],
   "source": [
    "# Ejercicio 9\n",
    "A = np.array([[1,-3,2],[2,1,-3],[4,-3,-1]])\n",
    "B = np.array([[1,4,1,0],[2,1,1,1],[1,-2,1,2]])\n",
    "C = np.array([[2,1,-1,-2],[3,-2,-1,-1],[2,-5,-1,0]])\n",
    "\n",
    "print(np.matmul(A,B) == np.matmul(A,C))"
   ]
  },
  {
   "cell_type": "code",
   "execution_count": 14,
   "id": "77a86a19",
   "metadata": {},
   "outputs": [
    {
     "name": "stdout",
     "output_type": "stream",
     "text": [
      "[[ 1  2  4]\n",
      " [-3  1 -3]\n",
      " [ 2 -3 -1]]\n",
      "\n",
      "[[ 1 -7 25]\n",
      " [ 0  5  9]\n",
      " [ 4  5 11]]\n"
     ]
    }
   ],
   "source": [
    "# Ejercicio 10\n",
    "A = np.array([[1,-3,2],[2,1,-3],[4,-3,-1]])\n",
    "B = np.array([[1,0,4],[-7,5,5],[25,9,11]])\n",
    "\n",
    "print(A.T)\n",
    "print()\n",
    "print(B.transpose())"
   ]
  },
  {
   "cell_type": "code",
   "execution_count": 22,
   "id": "59173c32",
   "metadata": {},
   "outputs": [
    {
     "name": "stdout",
     "output_type": "stream",
     "text": [
      "4.999999999999999\n",
      "-2.0000000000000004\n",
      "-34.00000000000001\n",
      "1.0\n"
     ]
    }
   ],
   "source": [
    "# Ejercicio 11\n",
    "A = np.array([[5]])\n",
    "print(np.linalg.det(A))\n",
    "\n",
    "B = np.array(range(1,5)).reshape(2,2)\n",
    "print(np.linalg.det(B))\n",
    "\n",
    "C = np.array([-3,-8,-5,-2]).reshape(2,2)\n",
    "print(np.linalg.det(C))\n",
    "\n",
    "D = np.eye(2)\n",
    "print(np.linalg.det(D))"
   ]
  },
  {
   "cell_type": "code",
   "execution_count": 25,
   "id": "de44d7c8",
   "metadata": {},
   "outputs": [
    {
     "name": "stdout",
     "output_type": "stream",
     "text": [
      "121.0\n",
      "1.0\n",
      "100.0\n",
      "462.0\n",
      "7081.0\n"
     ]
    }
   ],
   "source": [
    "# Ejercicio 12\n",
    "A = np.array([[3,1,4],[10,7,5],[1,4,4]])\n",
    "B = np.eye(3)\n",
    "C = np.diag([5,10,2])\n",
    "D = np.diag([3,7,11,2])\n",
    "E = np.array([[5,0,13,12],[1,-1,25,7],[6,2,1,20],[11,4,0,-9]])\n",
    "det_A = np.linalg.det(A).round()\n",
    "det_B = np.linalg.det(B).round()\n",
    "det_C = np.linalg.det(C).round()\n",
    "det_D = np.linalg.det(D).round()\n",
    "det_E = np.linalg.det(E).round()\n",
    "print(det_A)\n",
    "print(det_B)\n",
    "print(det_C)\n",
    "print(det_D)\n",
    "print(det_E)"
   ]
  },
  {
   "cell_type": "code",
   "execution_count": 26,
   "id": "58094371",
   "metadata": {},
   "outputs": [
    {
     "name": "stdout",
     "output_type": "stream",
     "text": [
      "1.0000000000000004\n",
      "\n",
      "2.9999999999999996\n"
     ]
    }
   ],
   "source": [
    "# Ejercicio 13\n",
    "A = np.array([[1,2],[1,0]])\n",
    "B = np.array([[3,-1],[0,1]])\n",
    "\n",
    "print(np.linalg.det(A) + np.linalg.det(B))\n",
    "print()\n",
    "print(np.linalg.det(A+B))"
   ]
  },
  {
   "cell_type": "code",
   "execution_count": 28,
   "id": "25dfd849",
   "metadata": {},
   "outputs": [
    {
     "name": "stdout",
     "output_type": "stream",
     "text": [
      "[[-2.   1. ]\n",
      " [ 1.5 -0.5]]\n",
      "[[-0.21052632  0.15789474]\n",
      " [ 0.26315789  0.05263158]]\n"
     ]
    }
   ],
   "source": [
    "# Ejercicio 14\n",
    "A = np.array(range(1,5)).reshape(2,2)\n",
    "B = np.array([-1,3,5,4]).reshape(2,2)\n",
    "\n",
    "print(np.linalg.inv(A))\n",
    "print(np.linalg.inv(B))"
   ]
  },
  {
   "cell_type": "code",
   "execution_count": 30,
   "id": "3eeccee6",
   "metadata": {},
   "outputs": [
    {
     "name": "stdout",
     "output_type": "stream",
     "text": [
      "[[ -1.  -1.   4.  -2.]\n",
      " [ -3.  -4.  12.  -6.]\n",
      " [ 11.  14. -43.  22.]\n",
      " [ 10.  14. -41.  21.]]\n"
     ]
    }
   ],
   "source": [
    "# Ejercicio 15\n",
    "A = np.array([[4,-1,2,-2],[3,-1,0,0],[2,3,1,0],[0,7,1,1]])\n",
    "A_inverse = np.linalg.inv(A)\n",
    "print(A_inverse)"
   ]
  },
  {
   "cell_type": "code",
   "execution_count": 33,
   "id": "56902c8a",
   "metadata": {},
   "outputs": [
    {
     "name": "stdout",
     "output_type": "stream",
     "text": [
      "[[0.14285714 0.         0.         0.         0.         0.\n",
      "  0.         0.        ]\n",
      " [0.         0.125      0.         0.         0.         0.\n",
      "  0.         0.        ]\n",
      " [0.         0.         0.09090909 0.         0.         0.\n",
      "  0.         0.        ]\n",
      " [0.         0.         0.         0.5        0.         0.\n",
      "  0.         0.        ]\n",
      " [0.         0.         0.         0.         0.25       0.\n",
      "  0.         0.        ]\n",
      " [0.         0.         0.         0.         0.         0.2\n",
      "  0.         0.        ]\n",
      " [0.         0.         0.         0.         0.         0.\n",
      "  1.         0.        ]\n",
      " [0.         0.         0.         0.         0.         0.\n",
      "  0.         0.33333333]]\n"
     ]
    }
   ],
   "source": [
    "# Ejercicio 16 \n",
    "A = np.array(np.diag([7,8,11,2,4,5,1,3]))\n",
    "print(np.linalg.inv(A))"
   ]
  },
  {
   "cell_type": "code",
   "execution_count": 35,
   "id": "d8ac4d8e",
   "metadata": {},
   "outputs": [
    {
     "name": "stdout",
     "output_type": "stream",
     "text": [
      "[ 6. -2.]\n",
      "[2. 3.]\n"
     ]
    }
   ],
   "source": [
    "# Ejercicio 17\n",
    "A1 = np.array([[2,3],[1,-1]])\n",
    "A2 = np.array([[3,1],[1,2]])\n",
    "B1 = [6,8]\n",
    "B2 = np.array([9,8])\n",
    "res1 = np.linalg.solve(A1,B1)\n",
    "res2 = np.linalg.solve(A2,B2)\n",
    "print(res1)\n",
    "print(res2)"
   ]
  },
  {
   "cell_type": "code",
   "execution_count": 36,
   "id": "43a08246",
   "metadata": {},
   "outputs": [
    {
     "name": "stdout",
     "output_type": "stream",
     "text": [
      "[ 4.  3. -4.]\n"
     ]
    }
   ],
   "source": [
    "# Ejercicio 18\n",
    "A = np.array([[1,0,3],[2,-4,0],[3,-2,-5]])\n",
    "B = np.array([-8,-4,26])\n",
    "res = np.linalg.solve(A,B)\n",
    "print(res)"
   ]
  },
  {
   "cell_type": "code",
   "execution_count": 40,
   "id": "9e5d71f9",
   "metadata": {},
   "outputs": [
    {
     "name": "stdout",
     "output_type": "stream",
     "text": [
      "[ 1. -1.  2. -2.]\n"
     ]
    }
   ],
   "source": [
    "# Ejercicio 19\n",
    "A = np.array([1,1,1,1,1,1,1,-1,1,1,-1,1,1,-1,1,1]).reshape(4,4)\n",
    "b = [0,4,-4,2]\n",
    "print(np.linalg.solve(A,b))"
   ]
  },
  {
   "cell_type": "code",
   "execution_count": 42,
   "id": "4342c729",
   "metadata": {},
   "outputs": [
    {
     "name": "stdout",
     "output_type": "stream",
     "text": [
      "[ 2. -2.  9.]\n"
     ]
    }
   ],
   "source": [
    "# Ejercicio 20\n",
    "A = np.array([[3, 2, 0], [1, -1, 0], [0, 5, 1]])\n",
    "B = np.array([2, 4, -1])\n",
    "solution = np.linalg.solve(A,B)\n",
    "print(solution)"
   ]
  },
  {
   "cell_type": "code",
   "execution_count": 44,
   "id": "737c27d9",
   "metadata": {},
   "outputs": [
    {
     "name": "stdout",
     "output_type": "stream",
     "text": [
      "5\n",
      "16\n",
      "2\n"
     ]
    }
   ],
   "source": [
    "#Ejercicio 21\n",
    "A = np.array(range(1,5)).reshape(2,2)\n",
    "B = np.array([[10,0,11],[-7,2,5],[45,78,4]])\n",
    "C = np.array([[4,2,11,14],[0,-9,1,3],[-3,4,5,8],[0,1,1,2]])\n",
    "print(A.trace())\n",
    "print(B.trace())\n",
    "print(C.trace())"
   ]
  },
  {
   "cell_type": "code",
   "execution_count": 45,
   "id": "23fa101c",
   "metadata": {},
   "outputs": [
    {
     "name": "stdout",
     "output_type": "stream",
     "text": [
      "2\n"
     ]
    }
   ],
   "source": [
    "# Ejercicio 22\n",
    "A = np.array([[2,-1,3],[1,4,2],[1,-5,1],[4,16,8]])\n",
    "print(np.linalg.matrix_rank(A))"
   ]
  },
  {
   "cell_type": "code",
   "execution_count": 47,
   "id": "b45253de",
   "metadata": {},
   "outputs": [
    {
     "name": "stdout",
     "output_type": "stream",
     "text": [
      "[2. 4.]\n"
     ]
    }
   ],
   "source": [
    "# Ejercicio 23\n",
    "A = np.array([[1,3],[-1,5]])\n",
    "print(np.linalg.eigvals(A))"
   ]
  },
  {
   "cell_type": "code",
   "execution_count": null,
   "id": "0169eef5",
   "metadata": {},
   "outputs": [],
   "source": []
  }
 ],
 "metadata": {
  "kernelspec": {
   "display_name": "Python 3",
   "language": "python",
   "name": "python3"
  },
  "language_info": {
   "codemirror_mode": {
    "name": "ipython",
    "version": 3
   },
   "file_extension": ".py",
   "mimetype": "text/x-python",
   "name": "python",
   "nbconvert_exporter": "python",
   "pygments_lexer": "ipython3",
   "version": "3.8.8"
  }
 },
 "nbformat": 4,
 "nbformat_minor": 5
}
