{
 "cells": [
  {
   "cell_type": "code",
   "execution_count": 1,
   "metadata": {
    "_cell_guid": "b1076dfc-b9ad-4769-8c92-a6c4dae69d19",
    "_uuid": "8f2839f25d086af736a60e9eeb907d3b93b6e0e5",
    "execution": {
     "iopub.execute_input": "2021-09-22T18:50:16.458123Z",
     "iopub.status.busy": "2021-09-22T18:50:16.457847Z",
     "iopub.status.idle": "2021-09-22T18:50:17.288730Z",
     "shell.execute_reply": "2021-09-22T18:50:17.288018Z",
     "shell.execute_reply.started": "2021-09-22T18:50:16.458057Z"
    }
   },
   "outputs": [],
   "source": [
    "# This Python 3 environment comes with many helpful analytics libraries installed\n",
    "# It is defined by the kaggle/python Docker image: https://github.com/kaggle/docker-python\n",
    "# For example, here's several helpful packages to load\n",
    "\n",
    "import numpy as np # linear algebra\n",
    "import pandas as pd # data processing, CSV file I/O (e.g. pd.read_csv)\n",
    "import seaborn as sns\n",
    "import matplotlib.pyplot as plt\n",
    "\n",
    "# Input data files are available in the read-only \"../input/\" directory\n",
    "# For example, running this (by clicking run or pressing Shift+Enter) will list all files under the input directory\n",
    "\n",
    "import os\n",
    "for dirname, _, filenames in os.walk('/kaggle/input'):\n",
    "    for filename in filenames:\n",
    "        print(os.path.join(dirname, filename))\n",
    "\n",
    "# You can write up to 20GB to the current directory (/kaggle/working/) that gets preserved as output when you create a version using \"Save & Run All\" \n",
    "# You can also write temporary files to /kaggle/temp/, but they won't be saved outside of the current session"
   ]
  },
  {
   "cell_type": "code",
   "execution_count": 2,
   "metadata": {
    "execution": {
     "iopub.execute_input": "2021-09-22T18:50:17.290319Z",
     "iopub.status.busy": "2021-09-22T18:50:17.289971Z",
     "iopub.status.idle": "2021-09-22T18:50:17.320305Z",
     "shell.execute_reply": "2021-09-22T18:50:17.319455Z",
     "shell.execute_reply.started": "2021-09-22T18:50:17.290293Z"
    }
   },
   "outputs": [],
   "source": [
    "# Load the data files\n",
    "path1 = '/home/oscar/Documentos/DataScience/DataBase/Titanic/train.csv'\n",
    "path2 = '/home/oscar/Documentos/DataScience/DataBase/Titanic/test.csv'\n",
    "path3 = '/home/oscar/Documentos/DataScience/DataBase/Titanic/gender_submission.csv'\n",
    "train  = pd.read_csv(path1)\n",
    "test   = pd.read_csv(path2)\n",
    "gender = pd.read_csv(path3)"
   ]
  },
  {
   "cell_type": "markdown",
   "metadata": {},
   "source": [
    "# # EXPLORATORY DATA ANALYSIS"
   ]
  },
  {
   "cell_type": "code",
   "execution_count": 3,
   "metadata": {
    "execution": {
     "iopub.execute_input": "2021-09-22T18:50:17.321408Z",
     "iopub.status.busy": "2021-09-22T18:50:17.321248Z",
     "iopub.status.idle": "2021-09-22T18:50:17.346251Z",
     "shell.execute_reply": "2021-09-22T18:50:17.345569Z",
     "shell.execute_reply.started": "2021-09-22T18:50:17.321388Z"
    }
   },
   "outputs": [
    {
     "name": "stdout",
     "output_type": "stream",
     "text": [
      "<class 'pandas.core.frame.DataFrame'>\n",
      "RangeIndex: 891 entries, 0 to 890\n",
      "Data columns (total 12 columns):\n",
      " #   Column       Non-Null Count  Dtype  \n",
      "---  ------       --------------  -----  \n",
      " 0   PassengerId  891 non-null    int64  \n",
      " 1   Survived     891 non-null    int64  \n",
      " 2   Pclass       891 non-null    int64  \n",
      " 3   Name         891 non-null    object \n",
      " 4   Sex          891 non-null    object \n",
      " 5   Age          714 non-null    float64\n",
      " 6   SibSp        891 non-null    int64  \n",
      " 7   Parch        891 non-null    int64  \n",
      " 8   Ticket       891 non-null    object \n",
      " 9   Fare         891 non-null    float64\n",
      " 10  Cabin        204 non-null    object \n",
      " 11  Embarked     889 non-null    object \n",
      "dtypes: float64(2), int64(5), object(5)\n",
      "memory usage: 83.7+ KB\n",
      "None\n",
      "--------------------------------------------------\n",
      "The shape is:           (891, 12)\n",
      "--------------------------------------------------\n",
      "The dim is:             2\n",
      "--------------------------------------------------\n",
      "Teh size is:            10692\n"
     ]
    }
   ],
   "source": [
    "# We print the main information\n",
    "print(train.info())\n",
    "print('-'*50)\n",
    "print('The shape is:          ', train.shape)\n",
    "print('-'*50)\n",
    "print('The dim is:            ', train.ndim)\n",
    "print('-'*50)\n",
    "print('Teh size is:           ', train.size)"
   ]
  },
  {
   "cell_type": "code",
   "execution_count": 4,
   "metadata": {
    "execution": {
     "iopub.execute_input": "2021-09-22T18:50:17.348277Z",
     "iopub.status.busy": "2021-09-22T18:50:17.347960Z",
     "iopub.status.idle": "2021-09-22T18:50:17.377020Z",
     "shell.execute_reply": "2021-09-22T18:50:17.376044Z",
     "shell.execute_reply.started": "2021-09-22T18:50:17.348250Z"
    }
   },
   "outputs": [
    {
     "data": {
      "text/html": [
       "<div>\n",
       "<style scoped>\n",
       "    .dataframe tbody tr th:only-of-type {\n",
       "        vertical-align: middle;\n",
       "    }\n",
       "\n",
       "    .dataframe tbody tr th {\n",
       "        vertical-align: top;\n",
       "    }\n",
       "\n",
       "    .dataframe thead th {\n",
       "        text-align: right;\n",
       "    }\n",
       "</style>\n",
       "<table border=\"1\" class=\"dataframe\">\n",
       "  <thead>\n",
       "    <tr style=\"text-align: right;\">\n",
       "      <th></th>\n",
       "      <th>PassengerId</th>\n",
       "      <th>Survived</th>\n",
       "      <th>Pclass</th>\n",
       "      <th>Name</th>\n",
       "      <th>Sex</th>\n",
       "      <th>Age</th>\n",
       "      <th>SibSp</th>\n",
       "      <th>Parch</th>\n",
       "      <th>Ticket</th>\n",
       "      <th>Fare</th>\n",
       "      <th>Cabin</th>\n",
       "      <th>Embarked</th>\n",
       "    </tr>\n",
       "  </thead>\n",
       "  <tbody>\n",
       "    <tr>\n",
       "      <th>0</th>\n",
       "      <td>1</td>\n",
       "      <td>0</td>\n",
       "      <td>3</td>\n",
       "      <td>Braund, Mr. Owen Harris</td>\n",
       "      <td>male</td>\n",
       "      <td>22.0</td>\n",
       "      <td>1</td>\n",
       "      <td>0</td>\n",
       "      <td>A/5 21171</td>\n",
       "      <td>7.2500</td>\n",
       "      <td>NaN</td>\n",
       "      <td>S</td>\n",
       "    </tr>\n",
       "    <tr>\n",
       "      <th>1</th>\n",
       "      <td>2</td>\n",
       "      <td>1</td>\n",
       "      <td>1</td>\n",
       "      <td>Cumings, Mrs. John Bradley (Florence Briggs Th...</td>\n",
       "      <td>female</td>\n",
       "      <td>38.0</td>\n",
       "      <td>1</td>\n",
       "      <td>0</td>\n",
       "      <td>PC 17599</td>\n",
       "      <td>71.2833</td>\n",
       "      <td>C85</td>\n",
       "      <td>C</td>\n",
       "    </tr>\n",
       "    <tr>\n",
       "      <th>2</th>\n",
       "      <td>3</td>\n",
       "      <td>1</td>\n",
       "      <td>3</td>\n",
       "      <td>Heikkinen, Miss. Laina</td>\n",
       "      <td>female</td>\n",
       "      <td>26.0</td>\n",
       "      <td>0</td>\n",
       "      <td>0</td>\n",
       "      <td>STON/O2. 3101282</td>\n",
       "      <td>7.9250</td>\n",
       "      <td>NaN</td>\n",
       "      <td>S</td>\n",
       "    </tr>\n",
       "    <tr>\n",
       "      <th>3</th>\n",
       "      <td>4</td>\n",
       "      <td>1</td>\n",
       "      <td>1</td>\n",
       "      <td>Futrelle, Mrs. Jacques Heath (Lily May Peel)</td>\n",
       "      <td>female</td>\n",
       "      <td>35.0</td>\n",
       "      <td>1</td>\n",
       "      <td>0</td>\n",
       "      <td>113803</td>\n",
       "      <td>53.1000</td>\n",
       "      <td>C123</td>\n",
       "      <td>S</td>\n",
       "    </tr>\n",
       "    <tr>\n",
       "      <th>4</th>\n",
       "      <td>5</td>\n",
       "      <td>0</td>\n",
       "      <td>3</td>\n",
       "      <td>Allen, Mr. William Henry</td>\n",
       "      <td>male</td>\n",
       "      <td>35.0</td>\n",
       "      <td>0</td>\n",
       "      <td>0</td>\n",
       "      <td>373450</td>\n",
       "      <td>8.0500</td>\n",
       "      <td>NaN</td>\n",
       "      <td>S</td>\n",
       "    </tr>\n",
       "  </tbody>\n",
       "</table>\n",
       "</div>"
      ],
      "text/plain": [
       "   PassengerId  Survived  Pclass  \\\n",
       "0            1         0       3   \n",
       "1            2         1       1   \n",
       "2            3         1       3   \n",
       "3            4         1       1   \n",
       "4            5         0       3   \n",
       "\n",
       "                                                Name     Sex   Age  SibSp  \\\n",
       "0                            Braund, Mr. Owen Harris    male  22.0      1   \n",
       "1  Cumings, Mrs. John Bradley (Florence Briggs Th...  female  38.0      1   \n",
       "2                             Heikkinen, Miss. Laina  female  26.0      0   \n",
       "3       Futrelle, Mrs. Jacques Heath (Lily May Peel)  female  35.0      1   \n",
       "4                           Allen, Mr. William Henry    male  35.0      0   \n",
       "\n",
       "   Parch            Ticket     Fare Cabin Embarked  \n",
       "0      0         A/5 21171   7.2500   NaN        S  \n",
       "1      0          PC 17599  71.2833   C85        C  \n",
       "2      0  STON/O2. 3101282   7.9250   NaN        S  \n",
       "3      0            113803  53.1000  C123        S  \n",
       "4      0            373450   8.0500   NaN        S  "
      ]
     },
     "execution_count": 4,
     "metadata": {},
     "output_type": "execute_result"
    }
   ],
   "source": [
    "# Print the first rows\n",
    "train.head()"
   ]
  },
  {
   "cell_type": "code",
   "execution_count": 5,
   "metadata": {
    "execution": {
     "iopub.execute_input": "2021-09-22T18:50:17.378513Z",
     "iopub.status.busy": "2021-09-22T18:50:17.378294Z",
     "iopub.status.idle": "2021-09-22T18:50:17.384985Z",
     "shell.execute_reply": "2021-09-22T18:50:17.384452Z",
     "shell.execute_reply.started": "2021-09-22T18:50:17.378487Z"
    }
   },
   "outputs": [
    {
     "name": "stdout",
     "output_type": "stream",
     "text": [
      "The values empty: \n",
      " PassengerId      0\n",
      "Survived         0\n",
      "Pclass           0\n",
      "Name             0\n",
      "Sex              0\n",
      "Age            177\n",
      "SibSp            0\n",
      "Parch            0\n",
      "Ticket           0\n",
      "Fare             0\n",
      "Cabin          687\n",
      "Embarked         2\n",
      "dtype: int64\n"
     ]
    }
   ],
   "source": [
    "# We check the cleanliness and completeness of the data.\n",
    "print('The values empty: \\n', train.isnull().sum())"
   ]
  },
  {
   "cell_type": "code",
   "execution_count": 6,
   "metadata": {
    "execution": {
     "iopub.execute_input": "2021-09-22T18:50:17.385898Z",
     "iopub.status.busy": "2021-09-22T18:50:17.385702Z",
     "iopub.status.idle": "2021-09-22T18:50:17.427189Z",
     "shell.execute_reply": "2021-09-22T18:50:17.426608Z",
     "shell.execute_reply.started": "2021-09-22T18:50:17.385876Z"
    }
   },
   "outputs": [
    {
     "data": {
      "text/html": [
       "<div>\n",
       "<style scoped>\n",
       "    .dataframe tbody tr th:only-of-type {\n",
       "        vertical-align: middle;\n",
       "    }\n",
       "\n",
       "    .dataframe tbody tr th {\n",
       "        vertical-align: top;\n",
       "    }\n",
       "\n",
       "    .dataframe thead th {\n",
       "        text-align: right;\n",
       "    }\n",
       "</style>\n",
       "<table border=\"1\" class=\"dataframe\">\n",
       "  <thead>\n",
       "    <tr style=\"text-align: right;\">\n",
       "      <th></th>\n",
       "      <th>PassengerId</th>\n",
       "      <th>Survived</th>\n",
       "      <th>Pclass</th>\n",
       "      <th>Age</th>\n",
       "      <th>SibSp</th>\n",
       "      <th>Parch</th>\n",
       "      <th>Fare</th>\n",
       "    </tr>\n",
       "  </thead>\n",
       "  <tbody>\n",
       "    <tr>\n",
       "      <th>count</th>\n",
       "      <td>891.000000</td>\n",
       "      <td>891.000000</td>\n",
       "      <td>891.000000</td>\n",
       "      <td>714.000000</td>\n",
       "      <td>891.000000</td>\n",
       "      <td>891.000000</td>\n",
       "      <td>891.000000</td>\n",
       "    </tr>\n",
       "    <tr>\n",
       "      <th>mean</th>\n",
       "      <td>446.000000</td>\n",
       "      <td>0.383838</td>\n",
       "      <td>2.308642</td>\n",
       "      <td>29.699118</td>\n",
       "      <td>0.523008</td>\n",
       "      <td>0.381594</td>\n",
       "      <td>32.204208</td>\n",
       "    </tr>\n",
       "    <tr>\n",
       "      <th>std</th>\n",
       "      <td>257.353842</td>\n",
       "      <td>0.486592</td>\n",
       "      <td>0.836071</td>\n",
       "      <td>14.526497</td>\n",
       "      <td>1.102743</td>\n",
       "      <td>0.806057</td>\n",
       "      <td>49.693429</td>\n",
       "    </tr>\n",
       "    <tr>\n",
       "      <th>min</th>\n",
       "      <td>1.000000</td>\n",
       "      <td>0.000000</td>\n",
       "      <td>1.000000</td>\n",
       "      <td>0.420000</td>\n",
       "      <td>0.000000</td>\n",
       "      <td>0.000000</td>\n",
       "      <td>0.000000</td>\n",
       "    </tr>\n",
       "    <tr>\n",
       "      <th>25%</th>\n",
       "      <td>223.500000</td>\n",
       "      <td>0.000000</td>\n",
       "      <td>2.000000</td>\n",
       "      <td>20.125000</td>\n",
       "      <td>0.000000</td>\n",
       "      <td>0.000000</td>\n",
       "      <td>7.910400</td>\n",
       "    </tr>\n",
       "    <tr>\n",
       "      <th>50%</th>\n",
       "      <td>446.000000</td>\n",
       "      <td>0.000000</td>\n",
       "      <td>3.000000</td>\n",
       "      <td>28.000000</td>\n",
       "      <td>0.000000</td>\n",
       "      <td>0.000000</td>\n",
       "      <td>14.454200</td>\n",
       "    </tr>\n",
       "    <tr>\n",
       "      <th>75%</th>\n",
       "      <td>668.500000</td>\n",
       "      <td>1.000000</td>\n",
       "      <td>3.000000</td>\n",
       "      <td>38.000000</td>\n",
       "      <td>1.000000</td>\n",
       "      <td>0.000000</td>\n",
       "      <td>31.000000</td>\n",
       "    </tr>\n",
       "    <tr>\n",
       "      <th>max</th>\n",
       "      <td>891.000000</td>\n",
       "      <td>1.000000</td>\n",
       "      <td>3.000000</td>\n",
       "      <td>80.000000</td>\n",
       "      <td>8.000000</td>\n",
       "      <td>6.000000</td>\n",
       "      <td>512.329200</td>\n",
       "    </tr>\n",
       "  </tbody>\n",
       "</table>\n",
       "</div>"
      ],
      "text/plain": [
       "       PassengerId    Survived      Pclass         Age       SibSp  \\\n",
       "count   891.000000  891.000000  891.000000  714.000000  891.000000   \n",
       "mean    446.000000    0.383838    2.308642   29.699118    0.523008   \n",
       "std     257.353842    0.486592    0.836071   14.526497    1.102743   \n",
       "min       1.000000    0.000000    1.000000    0.420000    0.000000   \n",
       "25%     223.500000    0.000000    2.000000   20.125000    0.000000   \n",
       "50%     446.000000    0.000000    3.000000   28.000000    0.000000   \n",
       "75%     668.500000    1.000000    3.000000   38.000000    1.000000   \n",
       "max     891.000000    1.000000    3.000000   80.000000    8.000000   \n",
       "\n",
       "            Parch        Fare  \n",
       "count  891.000000  891.000000  \n",
       "mean     0.381594   32.204208  \n",
       "std      0.806057   49.693429  \n",
       "min      0.000000    0.000000  \n",
       "25%      0.000000    7.910400  \n",
       "50%      0.000000   14.454200  \n",
       "75%      0.000000   31.000000  \n",
       "max      6.000000  512.329200  "
      ]
     },
     "execution_count": 6,
     "metadata": {},
     "output_type": "execute_result"
    }
   ],
   "source": [
    "# Descriptive statistics\n",
    "train.describe()"
   ]
  },
  {
   "cell_type": "code",
   "execution_count": 7,
   "metadata": {
    "execution": {
     "iopub.execute_input": "2021-09-22T18:50:17.428849Z",
     "iopub.status.busy": "2021-09-22T18:50:17.428423Z",
     "iopub.status.idle": "2021-09-22T18:50:17.684782Z",
     "shell.execute_reply": "2021-09-22T18:50:17.683837Z",
     "shell.execute_reply.started": "2021-09-22T18:50:17.428812Z"
    }
   },
   "outputs": [
    {
     "name": "stdout",
     "output_type": "stream",
     "text": [
      "24.00    30\n",
      "22.00    27\n",
      "18.00    26\n",
      "28.00    25\n",
      "19.00    25\n",
      "         ..\n",
      "55.50     1\n",
      "74.00     1\n",
      "0.92      1\n",
      "70.50     1\n",
      "12.00     1\n",
      "Name: Age, Length: 88, dtype: int64\n",
      "--------------------------------------------------\n",
      "The main features of \"Age\" column. \n",
      "\n",
      "Mean:             29.0\n",
      "Median:           28.0\n",
      "Mode:             0    24.0\n",
      "dtype: float64\n",
      "Maximum:          80.0\n",
      "Minimum:          0.42\n",
      "--------------------------------------------------\n"
     ]
    },
    {
     "data": {
      "image/png": "[encoded data removed]",
      "text/plain": [
       "<Figure size 432x288 with 1 Axes>"
      ]
     },
     "metadata": {
      "needs_background": "light"
     },
     "output_type": "display_data"
    }
   ],
   "source": [
    "# We check the age values\n",
    "print(train['Age'].value_counts())\n",
    "print('-'*50)\n",
    "\n",
    "print('The main features of \"Age\" column. \\n')\n",
    "print('Mean:            ', np.floor(train['Age'].mean()))\n",
    "print('Median:          ', train['Age'].median())\n",
    "print('Mode:            ', train['Age'].mode())\n",
    "print('Maximum:         ', train['Age'].max())\n",
    "print('Minimum:         ', train['Age'].min())\n",
    "print('-'*50)\n",
    "\n",
    "sns.histplot(train['Age'], kde=True)\n",
    "plt.title('Histogram of Age', fontsize=16)\n",
    "plt.show()"
   ]
  },
  {
   "cell_type": "code",
   "execution_count": 8,
   "metadata": {
    "execution": {
     "iopub.execute_input": "2021-09-22T18:50:17.686080Z",
     "iopub.status.busy": "2021-09-22T18:50:17.685895Z",
     "iopub.status.idle": "2021-09-22T18:50:17.787197Z",
     "shell.execute_reply": "2021-09-22T18:50:17.786691Z",
     "shell.execute_reply.started": "2021-09-22T18:50:17.686056Z"
    }
   },
   "outputs": [
    {
     "name": "stdout",
     "output_type": "stream",
     "text": [
      "male      577\n",
      "female    314\n",
      "Name: Sex, dtype: int64\n",
      "\n"
     ]
    },
    {
     "data": {
      "image/png": "[encoded data removed]",
      "text/plain": [
       "<Figure size 432x288 with 1 Axes>"
      ]
     },
     "metadata": {},
     "output_type": "display_data"
    }
   ],
   "source": [
    "print(train['Sex'].value_counts())\n",
    "print()\n",
    "\n",
    "labels = train['Sex'].unique()\n",
    "colors = ['#66b3ff','#ff9999']\n",
    "\n",
    "plt.pie(train['Sex'].value_counts(), labels=labels, autopct='%1.2f%%',\n",
    "        shadow=True, explode=(0.1, 0.1), colors=colors)\n",
    "plt.title('Pie plot by gender', fontsize=14)\n",
    "plt.show()\n"
   ]
  },
  {
   "cell_type": "code",
   "execution_count": 9,
   "metadata": {
    "execution": {
     "iopub.execute_input": "2021-09-22T18:50:17.789460Z",
     "iopub.status.busy": "2021-09-22T18:50:17.788304Z",
     "iopub.status.idle": "2021-09-22T18:50:18.093429Z",
     "shell.execute_reply": "2021-09-22T18:50:18.092396Z",
     "shell.execute_reply.started": "2021-09-22T18:50:17.789414Z"
    }
   },
   "outputs": [
    {
     "name": "stdout",
     "output_type": "stream",
     "text": [
      "The main features of \"Fare\" column. \n",
      "\n",
      "Mean:             32.2042079685746\n",
      "Median:           14.4542\n",
      "Mode:             0    8.05\n",
      "dtype: float64\n",
      "Maximum:          512.3292\n",
      "Minimum:          0.0\n",
      "--------------------------------------------------\n",
      "43\n",
      "--------------------------------------------------\n"
     ]
    },
    {
     "data": {
      "image/png": "[encoded data removed]",
      "text/plain": [
       "<Figure size 432x288 with 1 Axes>"
      ]
     },
     "metadata": {
      "needs_background": "light"
     },
     "output_type": "display_data"
    }
   ],
   "source": [
    "print('The main features of \"Fare\" column. \\n')\n",
    "print('Mean:            ', train['Fare'].mean())\n",
    "print('Median:          ', train['Fare'].median())\n",
    "print('Mode:            ', train['Fare'].mode())\n",
    "print('Maximum:         ', train['Fare'].max())\n",
    "print('Minimum:         ', train['Fare'].min())\n",
    "print('-'*50)\n",
    "\n",
    "print(train['Fare'].value_counts().max())\n",
    "print('-'*50)\n",
    "\n",
    "sns.histplot(train['Fare'], kde=True)\n",
    "plt.title('Histogram of Fare', fontsize=16)\n",
    "plt.show()"
   ]
  },
  {
   "cell_type": "code",
   "execution_count": 10,
   "metadata": {
    "execution": {
     "iopub.execute_input": "2021-09-22T18:50:18.096098Z",
     "iopub.status.busy": "2021-09-22T18:50:18.095809Z",
     "iopub.status.idle": "2021-09-22T18:50:18.491877Z",
     "shell.execute_reply": "2021-09-22T18:50:18.490830Z",
     "shell.execute_reply.started": "2021-09-22T18:50:18.096070Z"
    }
   },
   "outputs": [
    {
     "name": "stdout",
     "output_type": "stream",
     "text": [
      "The main features of \"Age\" column for Male. \n",
      "\n",
      "Mean:             30.0\n",
      "Median:           29.0\n",
      "Mode:             0    19.0\n",
      "1    25.0\n",
      "2    28.0\n",
      "dtype: float64\n",
      "Maximum:          80.0\n",
      "Minimum:          0.42\n",
      "--------------------------------------------------\n",
      "The main features of \"Age\" column for Female. \n",
      "\n",
      "Mean:             27.0\n",
      "Median:           27.0\n",
      "Mode:             0    24.0\n",
      "dtype: float64\n",
      "Maximum:          63.0\n",
      "Minimum:          0.75\n",
      "--------------------------------------------------\n"
     ]
    },
    {
     "data": {
      "image/png": "[encoded data removed]",
      "text/plain": [
       "<Figure size 720x360 with 2 Axes>"
      ]
     },
     "metadata": {
      "needs_background": "light"
     },
     "output_type": "display_data"
    }
   ],
   "source": [
    "train_ma = train[train['Sex'] == 'male']\n",
    "train_fe = train[train['Sex'] == 'female']\n",
    "\n",
    "print('The main features of \"Age\" column for Male. \\n')\n",
    "print('Mean:            ', np.floor(train_ma['Age'].mean()))\n",
    "print('Median:          ', train_ma['Age'].median())\n",
    "print('Mode:            ', train_ma['Age'].mode())\n",
    "print('Maximum:         ', train_ma['Age'].max())\n",
    "print('Minimum:         ', train_ma['Age'].min())\n",
    "print('-'*50)\n",
    "\n",
    "print('The main features of \"Age\" column for Female. \\n')\n",
    "print('Mean:            ', np.floor(train_fe['Age'].mean()))\n",
    "print('Median:          ', train_fe['Age'].median())\n",
    "print('Mode:            ', train_fe['Age'].mode())\n",
    "print('Maximum:         ', train_fe['Age'].max())\n",
    "print('Minimum:         ', train_fe['Age'].min())\n",
    "print('-'*50)\n",
    "\n",
    "# Age by gender\n",
    "plt.figure(figsize=(10,5))\n",
    "plt.suptitle('Distribution of age by gender', fontsize=16)\n",
    "\n",
    "plt.subplot(1,2,1)\n",
    "sns.histplot(train_ma['Age'], kde=True)\n",
    "plt.title('Male')\n",
    "\n",
    "plt.subplot(1,2,2)\n",
    "sns.histplot(train_fe['Age'], kde=True)\n",
    "plt.title('Female')\n",
    "\n",
    "plt.show()"
   ]
  },
  {
   "cell_type": "code",
   "execution_count": 11,
   "metadata": {
    "execution": {
     "iopub.execute_input": "2021-09-22T18:50:18.493574Z",
     "iopub.status.busy": "2021-09-22T18:50:18.493308Z",
     "iopub.status.idle": "2021-09-22T18:50:18.602650Z",
     "shell.execute_reply": "2021-09-22T18:50:18.601812Z",
     "shell.execute_reply.started": "2021-09-22T18:50:18.493539Z"
    }
   },
   "outputs": [
    {
     "name": "stdout",
     "output_type": "stream",
     "text": [
      "A value of 1 means that the passenger survived.\n",
      "A value of 0 means that the passenger did not survive.\n",
      "\n",
      "0    549\n",
      "1    342\n",
      "Name: Survived, dtype: int64\n",
      "\n",
      "\n"
     ]
    },
    {
     "data": {
      "image/png": "[encoded data removed]",
      "text/plain": [
       "<Figure size 432x288 with 1 Axes>"
      ]
     },
     "metadata": {},
     "output_type": "display_data"
    }
   ],
   "source": [
    "# Percentage of survivors\n",
    "print('A value of 1 means that the passenger survived.')\n",
    "print('A value of 0 means that the passenger did not survive.\\n')\n",
    "print(train['Survived'].value_counts())\n",
    "print('\\n')\n",
    "\n",
    "\n",
    "colors = ['darkred', 'dodgerblue']\n",
    "labels = ['Did not survive', 'Survive'] \n",
    "plt.pie(train['Survived'].value_counts(), colors=colors, labels=labels,\n",
    "        autopct='%1.2f%%', shadow=True, explode=(0.05,0.05))\n",
    "plt.title('Distribution of survivors', fontsize=14)\n",
    "plt.show()"
   ]
  },
  {
   "cell_type": "code",
   "execution_count": 12,
   "metadata": {
    "execution": {
     "iopub.execute_input": "2021-09-22T18:50:18.604096Z",
     "iopub.status.busy": "2021-09-22T18:50:18.603907Z",
     "iopub.status.idle": "2021-09-22T18:50:18.619523Z",
     "shell.execute_reply": "2021-09-22T18:50:18.618491Z",
     "shell.execute_reply.started": "2021-09-22T18:50:18.604070Z"
    }
   },
   "outputs": [
    {
     "name": "stdout",
     "output_type": "stream",
     "text": [
      "Percentage of survivors by gender. \n",
      "\n"
     ]
    },
    {
     "data": {
      "text/html": [
       "<div>\n",
       "<style scoped>\n",
       "    .dataframe tbody tr th:only-of-type {\n",
       "        vertical-align: middle;\n",
       "    }\n",
       "\n",
       "    .dataframe tbody tr th {\n",
       "        vertical-align: top;\n",
       "    }\n",
       "\n",
       "    .dataframe thead th {\n",
       "        text-align: right;\n",
       "    }\n",
       "</style>\n",
       "<table border=\"1\" class=\"dataframe\">\n",
       "  <thead>\n",
       "    <tr style=\"text-align: right;\">\n",
       "      <th></th>\n",
       "      <th>Male</th>\n",
       "      <th>Female</th>\n",
       "    </tr>\n",
       "  </thead>\n",
       "  <tbody>\n",
       "    <tr>\n",
       "      <th>Did not survive</th>\n",
       "      <td>0.811092</td>\n",
       "      <td>0.257962</td>\n",
       "    </tr>\n",
       "    <tr>\n",
       "      <th>Survive</th>\n",
       "      <td>0.188908</td>\n",
       "      <td>0.742038</td>\n",
       "    </tr>\n",
       "  </tbody>\n",
       "</table>\n",
       "</div>"
      ],
      "text/plain": [
       "                     Male    Female\n",
       "Did not survive  0.811092  0.257962\n",
       "Survive          0.188908  0.742038"
      ]
     },
     "execution_count": 12,
     "metadata": {},
     "output_type": "execute_result"
    }
   ],
   "source": [
    "# Distribution of survivors by gender\n",
    "len_ma = len(train_ma['Survived'])\n",
    "len_fe = len(train_fe['Survived'])\n",
    "a = train_ma['Survived'].value_counts()\n",
    "b = train_fe['Survived'].value_counts()\n",
    "dic_data_1 = {'Male':[a[0]/len_ma, a[1]/len_ma], \n",
    "              'Female':[b[0]/len_fe, b[1]/len_fe]}\n",
    "index = ['Did not survive', 'Survive']\n",
    "survivor_gender = pd.DataFrame(data=dic_data_1, index=index)\n",
    "print('Percentage of survivors by gender. \\n')\n",
    "survivor_gender"
   ]
  },
  {
   "cell_type": "code",
   "execution_count": null,
   "metadata": {},
   "outputs": [],
   "source": []
  }
 ],
 "metadata": {
  "kernelspec": {
   "display_name": "Python 3 (ipykernel)",
   "language": "python",
   "name": "python3"
  },
  "language_info": {
   "codemirror_mode": {
    "name": "ipython",
    "version": 3
   },
   "file_extension": ".py",
   "mimetype": "text/x-python",
   "name": "python",
   "nbconvert_exporter": "python",
   "pygments_lexer": "ipython3",
   "version": "3.8.8"
  }
 },
 "nbformat": 4,
 "nbformat_minor": 4
}
